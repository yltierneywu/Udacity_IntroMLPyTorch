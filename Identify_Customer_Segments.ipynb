{
 "cells": [
  {
   "cell_type": "markdown",
   "metadata": {},
   "source": [
    "# Project: Identify Customer Segments\n",
    "Author: Yu Ling Wu, January 2022\n",
    "\n",
    "In this project, you will apply unsupervised learning techniques to identify segments of the population that form the core customer base for a mail-order sales company in Germany. These segments can then be used to direct marketing campaigns towards audiences that will have the highest expected rate of returns. The data that you will use has been provided by our partners at Bertelsmann Arvato Analytics, and represents a real-life data science task.\n",
    "\n",
    "This notebook will help you complete this task by providing a framework within which you will perform your analysis steps. In each step of the project, you will see some text describing the subtask that you will perform, followed by one or more code cells for you to complete your work. **Feel free to add additional code and markdown cells as you go along so that you can explore everything in precise chunks.** The code cells provided in the base template will outline only the major tasks, and will usually not be enough to cover all of the minor tasks that comprise it.\n",
    "\n",
    "It should be noted that while there will be precise guidelines on how you should handle certain tasks in the project, there will also be places where an exact specification is not provided. **There will be times in the project where you will need to make and justify your own decisions on how to treat the data.** These are places where there may not be only one way to handle the data. In real-life tasks, there may be many valid ways to approach an analysis task. One of the most important things you can do is clearly document your approach so that other scientists can understand the decisions you've made.\n",
    "\n",
    "At the end of most sections, there will be a Markdown cell labeled **Discussion**. In these cells, you will report your findings for the completed section, as well as document the decisions that you made in your approach to each subtask. **Your project will be evaluated not just on the code used to complete the tasks outlined, but also your communication about your observations and conclusions at each stage.**"
   ]
  },
  {
   "cell_type": "code",
   "execution_count": 1,
   "metadata": {},
   "outputs": [
    {
     "data": {
      "text/plain": [
       "'\\nImport note: The classroom currently uses sklearn version 0.19.\\nIf you need to use an imputer, it is available in sklearn.preprocessing.Imputer,\\ninstead of sklearn.impute as in newer versions of sklearn.\\n'"
      ]
     },
     "execution_count": 1,
     "metadata": {},
     "output_type": "execute_result"
    }
   ],
   "source": [
    "# import libraries here; add more as necessary\n",
    "import numpy as np\n",
    "import pandas as pd\n",
    "import matplotlib.pyplot as plt\n",
    "import seaborn as sns\n",
    "import re\n",
    "from sklearn.preprocessing import Imputer\n",
    "from sklearn.preprocessing import StandardScaler\n",
    "from sklearn.decomposition import PCA\n",
    "from sklearn.cluster import KMeans\n",
    "\n",
    "# magic word for producing visualizations in notebook\n",
    "%matplotlib inline\n",
    "\n",
    "'''\n",
    "Import note: The classroom currently uses sklearn version 0.19.\n",
    "If you need to use an imputer, it is available in sklearn.preprocessing.Imputer,\n",
    "instead of sklearn.impute as in newer versions of sklearn.\n",
    "'''"
   ]
  },
  {
   "cell_type": "markdown",
   "metadata": {},
   "source": [
    "### Step 0: Load the Data\n",
    "\n",
    "There are four files associated with this project (not including this one):\n",
    "\n",
    "- `Udacity_AZDIAS_Subset.csv`: Demographics data for the general population of Germany; 891211 persons (rows) x 85 features (columns).\n",
    "- `Udacity_CUSTOMERS_Subset.csv`: Demographics data for customers of a mail-order company; 191652 persons (rows) x 85 features (columns).\n",
    "- `Data_Dictionary.md`: Detailed information file about the features in the provided datasets.\n",
    "- `AZDIAS_Feature_Summary.csv`: Summary of feature attributes for demographics data; 85 features (rows) x 4 columns\n",
    "\n",
    "Each row of the demographics files represents a single person, but also includes information outside of individuals, including information about their household, building, and neighborhood. You will use this information to cluster the general population into groups with similar demographic properties. Then, you will see how the people in the customers dataset fit into those created clusters. The hope here is that certain clusters are over-represented in the customers data, as compared to the general population; those over-represented clusters will be assumed to be part of the core userbase. This information can then be used for further applications, such as targeting for a marketing campaign.\n",
    "\n",
    "To start off with, load in the demographics data for the general population into a pandas DataFrame, and do the same for the feature attributes summary. Note for all of the `.csv` data files in this project: they're semicolon (`;`) delimited, so you'll need an additional argument in your [`read_csv()`](https://pandas.pydata.org/pandas-docs/stable/generated/pandas.read_csv.html) call to read in the data properly. Also, considering the size of the main dataset, it may take some time for it to load completely.\n",
    "\n",
    "Once the dataset is loaded, it's recommended that you take a little bit of time just browsing the general structure of the dataset and feature summary file. You'll be getting deep into the innards of the cleaning in the first major step of the project, so gaining some general familiarity can help you get your bearings."
   ]
  },
  {
   "cell_type": "code",
   "execution_count": 2,
   "metadata": {},
   "outputs": [],
   "source": [
    "# Load in the general demographics data.\n",
    "azdias = pd.read_csv('Udacity_AZDIAS_Subset.csv', delimiter= ';')\n",
    "\n",
    "# Load in the feature summary file.\n",
    "feat_info = pd.read_csv('AZDIAS_Feature_Summary.csv', delimiter= ';')"
   ]
  },
  {
   "cell_type": "code",
   "execution_count": 3,
   "metadata": {},
   "outputs": [
    {
     "name": "stdout",
     "output_type": "stream",
     "text": [
      "The general demographics data has 891221 rows and 85 columns.\n",
      "The feature summary has 85 rows and 4 columns.\n"
     ]
    }
   ],
   "source": [
    "# Check the structure of the data after it's loaded (e.g. print the number of\n",
    "# rows and columns, print the first few rows).\n",
    "\n",
    "print('The general demographics data has', azdias.shape[0], 'rows and', azdias.shape[1], 'columns.')\n",
    "print('The feature summary has', feat_info.shape[0], 'rows and', feat_info.shape[1], 'columns.')"
   ]
  },
  {
   "cell_type": "code",
   "execution_count": 4,
   "metadata": {},
   "outputs": [
    {
     "data": {
      "text/html": [
       "<div>\n",
       "<style scoped>\n",
       "    .dataframe tbody tr th:only-of-type {\n",
       "        vertical-align: middle;\n",
       "    }\n",
       "\n",
       "    .dataframe tbody tr th {\n",
       "        vertical-align: top;\n",
       "    }\n",
       "\n",
       "    .dataframe thead th {\n",
       "        text-align: right;\n",
       "    }\n",
       "</style>\n",
       "<table border=\"1\" class=\"dataframe\">\n",
       "  <thead>\n",
       "    <tr style=\"text-align: right;\">\n",
       "      <th></th>\n",
       "      <th>AGER_TYP</th>\n",
       "      <th>ALTERSKATEGORIE_GROB</th>\n",
       "      <th>ANREDE_KZ</th>\n",
       "      <th>CJT_GESAMTTYP</th>\n",
       "      <th>FINANZ_MINIMALIST</th>\n",
       "      <th>FINANZ_SPARER</th>\n",
       "      <th>FINANZ_VORSORGER</th>\n",
       "      <th>FINANZ_ANLEGER</th>\n",
       "      <th>FINANZ_UNAUFFAELLIGER</th>\n",
       "      <th>FINANZ_HAUSBAUER</th>\n",
       "      <th>FINANZTYP</th>\n",
       "      <th>GEBURTSJAHR</th>\n",
       "      <th>GFK_URLAUBERTYP</th>\n",
       "      <th>GREEN_AVANTGARDE</th>\n",
       "      <th>HEALTH_TYP</th>\n",
       "      <th>LP_LEBENSPHASE_FEIN</th>\n",
       "      <th>LP_LEBENSPHASE_GROB</th>\n",
       "      <th>LP_FAMILIE_FEIN</th>\n",
       "      <th>LP_FAMILIE_GROB</th>\n",
       "      <th>LP_STATUS_FEIN</th>\n",
       "    </tr>\n",
       "  </thead>\n",
       "  <tbody>\n",
       "    <tr>\n",
       "      <th>0</th>\n",
       "      <td>-1</td>\n",
       "      <td>2</td>\n",
       "      <td>1</td>\n",
       "      <td>2.0</td>\n",
       "      <td>3</td>\n",
       "      <td>4</td>\n",
       "      <td>3</td>\n",
       "      <td>5</td>\n",
       "      <td>5</td>\n",
       "      <td>3</td>\n",
       "      <td>4</td>\n",
       "      <td>0</td>\n",
       "      <td>10.0</td>\n",
       "      <td>0</td>\n",
       "      <td>-1</td>\n",
       "      <td>15.0</td>\n",
       "      <td>4.0</td>\n",
       "      <td>2.0</td>\n",
       "      <td>2.0</td>\n",
       "      <td>1.0</td>\n",
       "    </tr>\n",
       "    <tr>\n",
       "      <th>1</th>\n",
       "      <td>-1</td>\n",
       "      <td>1</td>\n",
       "      <td>2</td>\n",
       "      <td>5.0</td>\n",
       "      <td>1</td>\n",
       "      <td>5</td>\n",
       "      <td>2</td>\n",
       "      <td>5</td>\n",
       "      <td>4</td>\n",
       "      <td>5</td>\n",
       "      <td>1</td>\n",
       "      <td>1996</td>\n",
       "      <td>10.0</td>\n",
       "      <td>0</td>\n",
       "      <td>3</td>\n",
       "      <td>21.0</td>\n",
       "      <td>6.0</td>\n",
       "      <td>5.0</td>\n",
       "      <td>3.0</td>\n",
       "      <td>2.0</td>\n",
       "    </tr>\n",
       "    <tr>\n",
       "      <th>2</th>\n",
       "      <td>-1</td>\n",
       "      <td>3</td>\n",
       "      <td>2</td>\n",
       "      <td>3.0</td>\n",
       "      <td>1</td>\n",
       "      <td>4</td>\n",
       "      <td>1</td>\n",
       "      <td>2</td>\n",
       "      <td>3</td>\n",
       "      <td>5</td>\n",
       "      <td>1</td>\n",
       "      <td>1979</td>\n",
       "      <td>10.0</td>\n",
       "      <td>1</td>\n",
       "      <td>3</td>\n",
       "      <td>3.0</td>\n",
       "      <td>1.0</td>\n",
       "      <td>1.0</td>\n",
       "      <td>1.0</td>\n",
       "      <td>3.0</td>\n",
       "    </tr>\n",
       "    <tr>\n",
       "      <th>3</th>\n",
       "      <td>2</td>\n",
       "      <td>4</td>\n",
       "      <td>2</td>\n",
       "      <td>2.0</td>\n",
       "      <td>4</td>\n",
       "      <td>2</td>\n",
       "      <td>5</td>\n",
       "      <td>2</td>\n",
       "      <td>1</td>\n",
       "      <td>2</td>\n",
       "      <td>6</td>\n",
       "      <td>1957</td>\n",
       "      <td>1.0</td>\n",
       "      <td>0</td>\n",
       "      <td>2</td>\n",
       "      <td>0.0</td>\n",
       "      <td>0.0</td>\n",
       "      <td>0.0</td>\n",
       "      <td>0.0</td>\n",
       "      <td>9.0</td>\n",
       "    </tr>\n",
       "    <tr>\n",
       "      <th>4</th>\n",
       "      <td>-1</td>\n",
       "      <td>3</td>\n",
       "      <td>1</td>\n",
       "      <td>5.0</td>\n",
       "      <td>4</td>\n",
       "      <td>3</td>\n",
       "      <td>4</td>\n",
       "      <td>1</td>\n",
       "      <td>3</td>\n",
       "      <td>2</td>\n",
       "      <td>5</td>\n",
       "      <td>1963</td>\n",
       "      <td>5.0</td>\n",
       "      <td>0</td>\n",
       "      <td>3</td>\n",
       "      <td>32.0</td>\n",
       "      <td>10.0</td>\n",
       "      <td>10.0</td>\n",
       "      <td>5.0</td>\n",
       "      <td>3.0</td>\n",
       "    </tr>\n",
       "  </tbody>\n",
       "</table>\n",
       "</div>"
      ],
      "text/plain": [
       "   AGER_TYP  ALTERSKATEGORIE_GROB  ANREDE_KZ  CJT_GESAMTTYP  \\\n",
       "0        -1                     2          1            2.0   \n",
       "1        -1                     1          2            5.0   \n",
       "2        -1                     3          2            3.0   \n",
       "3         2                     4          2            2.0   \n",
       "4        -1                     3          1            5.0   \n",
       "\n",
       "   FINANZ_MINIMALIST  FINANZ_SPARER  FINANZ_VORSORGER  FINANZ_ANLEGER  \\\n",
       "0                  3              4                 3               5   \n",
       "1                  1              5                 2               5   \n",
       "2                  1              4                 1               2   \n",
       "3                  4              2                 5               2   \n",
       "4                  4              3                 4               1   \n",
       "\n",
       "   FINANZ_UNAUFFAELLIGER  FINANZ_HAUSBAUER  FINANZTYP  GEBURTSJAHR  \\\n",
       "0                      5                 3          4            0   \n",
       "1                      4                 5          1         1996   \n",
       "2                      3                 5          1         1979   \n",
       "3                      1                 2          6         1957   \n",
       "4                      3                 2          5         1963   \n",
       "\n",
       "   GFK_URLAUBERTYP  GREEN_AVANTGARDE  HEALTH_TYP  LP_LEBENSPHASE_FEIN  \\\n",
       "0             10.0                 0          -1                 15.0   \n",
       "1             10.0                 0           3                 21.0   \n",
       "2             10.0                 1           3                  3.0   \n",
       "3              1.0                 0           2                  0.0   \n",
       "4              5.0                 0           3                 32.0   \n",
       "\n",
       "   LP_LEBENSPHASE_GROB  LP_FAMILIE_FEIN  LP_FAMILIE_GROB  LP_STATUS_FEIN  \n",
       "0                  4.0              2.0              2.0             1.0  \n",
       "1                  6.0              5.0              3.0             2.0  \n",
       "2                  1.0              1.0              1.0             3.0  \n",
       "3                  0.0              0.0              0.0             9.0  \n",
       "4                 10.0             10.0              5.0             3.0  "
      ]
     },
     "execution_count": 4,
     "metadata": {},
     "output_type": "execute_result"
    }
   ],
   "source": [
    "azdias.iloc[:, 0:20].head()"
   ]
  },
  {
   "cell_type": "code",
   "execution_count": 5,
   "metadata": {},
   "outputs": [
    {
     "data": {
      "text/html": [
       "<div>\n",
       "<style scoped>\n",
       "    .dataframe tbody tr th:only-of-type {\n",
       "        vertical-align: middle;\n",
       "    }\n",
       "\n",
       "    .dataframe tbody tr th {\n",
       "        vertical-align: top;\n",
       "    }\n",
       "\n",
       "    .dataframe thead th {\n",
       "        text-align: right;\n",
       "    }\n",
       "</style>\n",
       "<table border=\"1\" class=\"dataframe\">\n",
       "  <thead>\n",
       "    <tr style=\"text-align: right;\">\n",
       "      <th></th>\n",
       "      <th>LP_STATUS_GROB</th>\n",
       "      <th>NATIONALITAET_KZ</th>\n",
       "      <th>PRAEGENDE_JUGENDJAHRE</th>\n",
       "      <th>RETOURTYP_BK_S</th>\n",
       "      <th>SEMIO_SOZ</th>\n",
       "      <th>SEMIO_FAM</th>\n",
       "      <th>SEMIO_REL</th>\n",
       "      <th>SEMIO_MAT</th>\n",
       "      <th>SEMIO_VERT</th>\n",
       "      <th>SEMIO_LUST</th>\n",
       "      <th>SEMIO_ERL</th>\n",
       "      <th>SEMIO_KULT</th>\n",
       "      <th>SEMIO_RAT</th>\n",
       "      <th>SEMIO_KRIT</th>\n",
       "      <th>SEMIO_DOM</th>\n",
       "      <th>SEMIO_KAEM</th>\n",
       "      <th>SEMIO_PFLICHT</th>\n",
       "      <th>SEMIO_TRADV</th>\n",
       "      <th>SHOPPER_TYP</th>\n",
       "      <th>SOHO_KZ</th>\n",
       "    </tr>\n",
       "  </thead>\n",
       "  <tbody>\n",
       "    <tr>\n",
       "      <th>0</th>\n",
       "      <td>1.0</td>\n",
       "      <td>0</td>\n",
       "      <td>0</td>\n",
       "      <td>5.0</td>\n",
       "      <td>2</td>\n",
       "      <td>6</td>\n",
       "      <td>7</td>\n",
       "      <td>5</td>\n",
       "      <td>1</td>\n",
       "      <td>5</td>\n",
       "      <td>3</td>\n",
       "      <td>3</td>\n",
       "      <td>4</td>\n",
       "      <td>7</td>\n",
       "      <td>6</td>\n",
       "      <td>6</td>\n",
       "      <td>5</td>\n",
       "      <td>3</td>\n",
       "      <td>-1</td>\n",
       "      <td>NaN</td>\n",
       "    </tr>\n",
       "    <tr>\n",
       "      <th>1</th>\n",
       "      <td>1.0</td>\n",
       "      <td>1</td>\n",
       "      <td>14</td>\n",
       "      <td>1.0</td>\n",
       "      <td>5</td>\n",
       "      <td>4</td>\n",
       "      <td>4</td>\n",
       "      <td>3</td>\n",
       "      <td>1</td>\n",
       "      <td>2</td>\n",
       "      <td>2</td>\n",
       "      <td>3</td>\n",
       "      <td>6</td>\n",
       "      <td>4</td>\n",
       "      <td>7</td>\n",
       "      <td>4</td>\n",
       "      <td>7</td>\n",
       "      <td>6</td>\n",
       "      <td>3</td>\n",
       "      <td>1.0</td>\n",
       "    </tr>\n",
       "    <tr>\n",
       "      <th>2</th>\n",
       "      <td>2.0</td>\n",
       "      <td>1</td>\n",
       "      <td>15</td>\n",
       "      <td>3.0</td>\n",
       "      <td>4</td>\n",
       "      <td>1</td>\n",
       "      <td>3</td>\n",
       "      <td>3</td>\n",
       "      <td>4</td>\n",
       "      <td>4</td>\n",
       "      <td>6</td>\n",
       "      <td>3</td>\n",
       "      <td>4</td>\n",
       "      <td>7</td>\n",
       "      <td>7</td>\n",
       "      <td>7</td>\n",
       "      <td>3</td>\n",
       "      <td>3</td>\n",
       "      <td>2</td>\n",
       "      <td>0.0</td>\n",
       "    </tr>\n",
       "    <tr>\n",
       "      <th>3</th>\n",
       "      <td>4.0</td>\n",
       "      <td>1</td>\n",
       "      <td>8</td>\n",
       "      <td>2.0</td>\n",
       "      <td>5</td>\n",
       "      <td>1</td>\n",
       "      <td>2</td>\n",
       "      <td>1</td>\n",
       "      <td>4</td>\n",
       "      <td>4</td>\n",
       "      <td>7</td>\n",
       "      <td>4</td>\n",
       "      <td>3</td>\n",
       "      <td>4</td>\n",
       "      <td>4</td>\n",
       "      <td>5</td>\n",
       "      <td>4</td>\n",
       "      <td>4</td>\n",
       "      <td>1</td>\n",
       "      <td>0.0</td>\n",
       "    </tr>\n",
       "    <tr>\n",
       "      <th>4</th>\n",
       "      <td>2.0</td>\n",
       "      <td>1</td>\n",
       "      <td>8</td>\n",
       "      <td>5.0</td>\n",
       "      <td>6</td>\n",
       "      <td>4</td>\n",
       "      <td>4</td>\n",
       "      <td>2</td>\n",
       "      <td>7</td>\n",
       "      <td>4</td>\n",
       "      <td>4</td>\n",
       "      <td>6</td>\n",
       "      <td>2</td>\n",
       "      <td>3</td>\n",
       "      <td>2</td>\n",
       "      <td>2</td>\n",
       "      <td>4</td>\n",
       "      <td>2</td>\n",
       "      <td>2</td>\n",
       "      <td>0.0</td>\n",
       "    </tr>\n",
       "  </tbody>\n",
       "</table>\n",
       "</div>"
      ],
      "text/plain": [
       "   LP_STATUS_GROB  NATIONALITAET_KZ  PRAEGENDE_JUGENDJAHRE  RETOURTYP_BK_S  \\\n",
       "0             1.0                 0                      0             5.0   \n",
       "1             1.0                 1                     14             1.0   \n",
       "2             2.0                 1                     15             3.0   \n",
       "3             4.0                 1                      8             2.0   \n",
       "4             2.0                 1                      8             5.0   \n",
       "\n",
       "   SEMIO_SOZ  SEMIO_FAM  SEMIO_REL  SEMIO_MAT  SEMIO_VERT  SEMIO_LUST  \\\n",
       "0          2          6          7          5           1           5   \n",
       "1          5          4          4          3           1           2   \n",
       "2          4          1          3          3           4           4   \n",
       "3          5          1          2          1           4           4   \n",
       "4          6          4          4          2           7           4   \n",
       "\n",
       "   SEMIO_ERL  SEMIO_KULT  SEMIO_RAT  SEMIO_KRIT  SEMIO_DOM  SEMIO_KAEM  \\\n",
       "0          3           3          4           7          6           6   \n",
       "1          2           3          6           4          7           4   \n",
       "2          6           3          4           7          7           7   \n",
       "3          7           4          3           4          4           5   \n",
       "4          4           6          2           3          2           2   \n",
       "\n",
       "   SEMIO_PFLICHT  SEMIO_TRADV  SHOPPER_TYP  SOHO_KZ  \n",
       "0              5            3           -1      NaN  \n",
       "1              7            6            3      1.0  \n",
       "2              3            3            2      0.0  \n",
       "3              4            4            1      0.0  \n",
       "4              4            2            2      0.0  "
      ]
     },
     "execution_count": 5,
     "metadata": {},
     "output_type": "execute_result"
    }
   ],
   "source": [
    "azdias.iloc[:, 20:40].head()"
   ]
  },
  {
   "cell_type": "code",
   "execution_count": 6,
   "metadata": {},
   "outputs": [
    {
     "data": {
      "text/html": [
       "<div>\n",
       "<style scoped>\n",
       "    .dataframe tbody tr th:only-of-type {\n",
       "        vertical-align: middle;\n",
       "    }\n",
       "\n",
       "    .dataframe tbody tr th {\n",
       "        vertical-align: top;\n",
       "    }\n",
       "\n",
       "    .dataframe thead th {\n",
       "        text-align: right;\n",
       "    }\n",
       "</style>\n",
       "<table border=\"1\" class=\"dataframe\">\n",
       "  <thead>\n",
       "    <tr style=\"text-align: right;\">\n",
       "      <th></th>\n",
       "      <th>TITEL_KZ</th>\n",
       "      <th>VERS_TYP</th>\n",
       "      <th>ZABEOTYP</th>\n",
       "      <th>ALTER_HH</th>\n",
       "      <th>ANZ_PERSONEN</th>\n",
       "      <th>ANZ_TITEL</th>\n",
       "      <th>HH_EINKOMMEN_SCORE</th>\n",
       "      <th>KK_KUNDENTYP</th>\n",
       "      <th>W_KEIT_KIND_HH</th>\n",
       "      <th>WOHNDAUER_2008</th>\n",
       "      <th>ANZ_HAUSHALTE_AKTIV</th>\n",
       "      <th>ANZ_HH_TITEL</th>\n",
       "      <th>GEBAEUDETYP</th>\n",
       "      <th>KONSUMNAEHE</th>\n",
       "      <th>MIN_GEBAEUDEJAHR</th>\n",
       "      <th>OST_WEST_KZ</th>\n",
       "      <th>WOHNLAGE</th>\n",
       "      <th>CAMEO_DEUG_2015</th>\n",
       "      <th>CAMEO_DEU_2015</th>\n",
       "      <th>CAMEO_INTL_2015</th>\n",
       "    </tr>\n",
       "  </thead>\n",
       "  <tbody>\n",
       "    <tr>\n",
       "      <th>0</th>\n",
       "      <td>NaN</td>\n",
       "      <td>-1</td>\n",
       "      <td>3</td>\n",
       "      <td>NaN</td>\n",
       "      <td>NaN</td>\n",
       "      <td>NaN</td>\n",
       "      <td>2.0</td>\n",
       "      <td>NaN</td>\n",
       "      <td>NaN</td>\n",
       "      <td>NaN</td>\n",
       "      <td>NaN</td>\n",
       "      <td>NaN</td>\n",
       "      <td>NaN</td>\n",
       "      <td>NaN</td>\n",
       "      <td>NaN</td>\n",
       "      <td>NaN</td>\n",
       "      <td>NaN</td>\n",
       "      <td>NaN</td>\n",
       "      <td>NaN</td>\n",
       "      <td>NaN</td>\n",
       "    </tr>\n",
       "    <tr>\n",
       "      <th>1</th>\n",
       "      <td>0.0</td>\n",
       "      <td>2</td>\n",
       "      <td>5</td>\n",
       "      <td>0.0</td>\n",
       "      <td>2.0</td>\n",
       "      <td>0.0</td>\n",
       "      <td>6.0</td>\n",
       "      <td>NaN</td>\n",
       "      <td>3.0</td>\n",
       "      <td>9.0</td>\n",
       "      <td>11.0</td>\n",
       "      <td>0.0</td>\n",
       "      <td>8.0</td>\n",
       "      <td>1.0</td>\n",
       "      <td>1992.0</td>\n",
       "      <td>W</td>\n",
       "      <td>4.0</td>\n",
       "      <td>8</td>\n",
       "      <td>8A</td>\n",
       "      <td>51</td>\n",
       "    </tr>\n",
       "    <tr>\n",
       "      <th>2</th>\n",
       "      <td>0.0</td>\n",
       "      <td>1</td>\n",
       "      <td>5</td>\n",
       "      <td>17.0</td>\n",
       "      <td>1.0</td>\n",
       "      <td>0.0</td>\n",
       "      <td>4.0</td>\n",
       "      <td>NaN</td>\n",
       "      <td>3.0</td>\n",
       "      <td>9.0</td>\n",
       "      <td>10.0</td>\n",
       "      <td>0.0</td>\n",
       "      <td>1.0</td>\n",
       "      <td>5.0</td>\n",
       "      <td>1992.0</td>\n",
       "      <td>W</td>\n",
       "      <td>2.0</td>\n",
       "      <td>4</td>\n",
       "      <td>4C</td>\n",
       "      <td>24</td>\n",
       "    </tr>\n",
       "    <tr>\n",
       "      <th>3</th>\n",
       "      <td>0.0</td>\n",
       "      <td>1</td>\n",
       "      <td>3</td>\n",
       "      <td>13.0</td>\n",
       "      <td>0.0</td>\n",
       "      <td>0.0</td>\n",
       "      <td>1.0</td>\n",
       "      <td>NaN</td>\n",
       "      <td>NaN</td>\n",
       "      <td>9.0</td>\n",
       "      <td>1.0</td>\n",
       "      <td>0.0</td>\n",
       "      <td>1.0</td>\n",
       "      <td>4.0</td>\n",
       "      <td>1997.0</td>\n",
       "      <td>W</td>\n",
       "      <td>7.0</td>\n",
       "      <td>2</td>\n",
       "      <td>2A</td>\n",
       "      <td>12</td>\n",
       "    </tr>\n",
       "    <tr>\n",
       "      <th>4</th>\n",
       "      <td>0.0</td>\n",
       "      <td>2</td>\n",
       "      <td>4</td>\n",
       "      <td>20.0</td>\n",
       "      <td>4.0</td>\n",
       "      <td>0.0</td>\n",
       "      <td>5.0</td>\n",
       "      <td>1.0</td>\n",
       "      <td>2.0</td>\n",
       "      <td>9.0</td>\n",
       "      <td>3.0</td>\n",
       "      <td>0.0</td>\n",
       "      <td>1.0</td>\n",
       "      <td>4.0</td>\n",
       "      <td>1992.0</td>\n",
       "      <td>W</td>\n",
       "      <td>3.0</td>\n",
       "      <td>6</td>\n",
       "      <td>6B</td>\n",
       "      <td>43</td>\n",
       "    </tr>\n",
       "  </tbody>\n",
       "</table>\n",
       "</div>"
      ],
      "text/plain": [
       "   TITEL_KZ  VERS_TYP  ZABEOTYP  ALTER_HH  ANZ_PERSONEN  ANZ_TITEL  \\\n",
       "0       NaN        -1         3       NaN           NaN        NaN   \n",
       "1       0.0         2         5       0.0           2.0        0.0   \n",
       "2       0.0         1         5      17.0           1.0        0.0   \n",
       "3       0.0         1         3      13.0           0.0        0.0   \n",
       "4       0.0         2         4      20.0           4.0        0.0   \n",
       "\n",
       "   HH_EINKOMMEN_SCORE  KK_KUNDENTYP  W_KEIT_KIND_HH  WOHNDAUER_2008  \\\n",
       "0                 2.0           NaN             NaN             NaN   \n",
       "1                 6.0           NaN             3.0             9.0   \n",
       "2                 4.0           NaN             3.0             9.0   \n",
       "3                 1.0           NaN             NaN             9.0   \n",
       "4                 5.0           1.0             2.0             9.0   \n",
       "\n",
       "   ANZ_HAUSHALTE_AKTIV  ANZ_HH_TITEL  GEBAEUDETYP  KONSUMNAEHE  \\\n",
       "0                  NaN           NaN          NaN          NaN   \n",
       "1                 11.0           0.0          8.0          1.0   \n",
       "2                 10.0           0.0          1.0          5.0   \n",
       "3                  1.0           0.0          1.0          4.0   \n",
       "4                  3.0           0.0          1.0          4.0   \n",
       "\n",
       "   MIN_GEBAEUDEJAHR OST_WEST_KZ  WOHNLAGE CAMEO_DEUG_2015 CAMEO_DEU_2015  \\\n",
       "0               NaN         NaN       NaN             NaN            NaN   \n",
       "1            1992.0           W       4.0               8             8A   \n",
       "2            1992.0           W       2.0               4             4C   \n",
       "3            1997.0           W       7.0               2             2A   \n",
       "4            1992.0           W       3.0               6             6B   \n",
       "\n",
       "  CAMEO_INTL_2015  \n",
       "0             NaN  \n",
       "1              51  \n",
       "2              24  \n",
       "3              12  \n",
       "4              43  "
      ]
     },
     "execution_count": 6,
     "metadata": {},
     "output_type": "execute_result"
    }
   ],
   "source": [
    "azdias.iloc[:, 40:60].head()"
   ]
  },
  {
   "cell_type": "code",
   "execution_count": 7,
   "metadata": {},
   "outputs": [
    {
     "data": {
      "text/html": [
       "<div>\n",
       "<style scoped>\n",
       "    .dataframe tbody tr th:only-of-type {\n",
       "        vertical-align: middle;\n",
       "    }\n",
       "\n",
       "    .dataframe tbody tr th {\n",
       "        vertical-align: top;\n",
       "    }\n",
       "\n",
       "    .dataframe thead th {\n",
       "        text-align: right;\n",
       "    }\n",
       "</style>\n",
       "<table border=\"1\" class=\"dataframe\">\n",
       "  <thead>\n",
       "    <tr style=\"text-align: right;\">\n",
       "      <th></th>\n",
       "      <th>KBA05_ANTG1</th>\n",
       "      <th>KBA05_ANTG2</th>\n",
       "      <th>KBA05_ANTG3</th>\n",
       "      <th>KBA05_ANTG4</th>\n",
       "      <th>KBA05_BAUMAX</th>\n",
       "      <th>KBA05_GBZ</th>\n",
       "      <th>BALLRAUM</th>\n",
       "      <th>EWDICHTE</th>\n",
       "      <th>INNENSTADT</th>\n",
       "      <th>GEBAEUDETYP_RASTER</th>\n",
       "      <th>KKK</th>\n",
       "      <th>MOBI_REGIO</th>\n",
       "      <th>ONLINE_AFFINITAET</th>\n",
       "      <th>REGIOTYP</th>\n",
       "      <th>KBA13_ANZAHL_PKW</th>\n",
       "      <th>PLZ8_ANTG1</th>\n",
       "      <th>PLZ8_ANTG2</th>\n",
       "      <th>PLZ8_ANTG3</th>\n",
       "      <th>PLZ8_ANTG4</th>\n",
       "      <th>PLZ8_BAUMAX</th>\n",
       "    </tr>\n",
       "  </thead>\n",
       "  <tbody>\n",
       "    <tr>\n",
       "      <th>0</th>\n",
       "      <td>NaN</td>\n",
       "      <td>NaN</td>\n",
       "      <td>NaN</td>\n",
       "      <td>NaN</td>\n",
       "      <td>NaN</td>\n",
       "      <td>NaN</td>\n",
       "      <td>NaN</td>\n",
       "      <td>NaN</td>\n",
       "      <td>NaN</td>\n",
       "      <td>NaN</td>\n",
       "      <td>NaN</td>\n",
       "      <td>NaN</td>\n",
       "      <td>1.0</td>\n",
       "      <td>NaN</td>\n",
       "      <td>NaN</td>\n",
       "      <td>NaN</td>\n",
       "      <td>NaN</td>\n",
       "      <td>NaN</td>\n",
       "      <td>NaN</td>\n",
       "      <td>NaN</td>\n",
       "    </tr>\n",
       "    <tr>\n",
       "      <th>1</th>\n",
       "      <td>0.0</td>\n",
       "      <td>0.0</td>\n",
       "      <td>0.0</td>\n",
       "      <td>2.0</td>\n",
       "      <td>5.0</td>\n",
       "      <td>1.0</td>\n",
       "      <td>6.0</td>\n",
       "      <td>3.0</td>\n",
       "      <td>8.0</td>\n",
       "      <td>3.0</td>\n",
       "      <td>2.0</td>\n",
       "      <td>1.0</td>\n",
       "      <td>3.0</td>\n",
       "      <td>3.0</td>\n",
       "      <td>963.0</td>\n",
       "      <td>2.0</td>\n",
       "      <td>3.0</td>\n",
       "      <td>2.0</td>\n",
       "      <td>1.0</td>\n",
       "      <td>1.0</td>\n",
       "    </tr>\n",
       "    <tr>\n",
       "      <th>2</th>\n",
       "      <td>1.0</td>\n",
       "      <td>3.0</td>\n",
       "      <td>1.0</td>\n",
       "      <td>0.0</td>\n",
       "      <td>0.0</td>\n",
       "      <td>3.0</td>\n",
       "      <td>2.0</td>\n",
       "      <td>4.0</td>\n",
       "      <td>4.0</td>\n",
       "      <td>4.0</td>\n",
       "      <td>2.0</td>\n",
       "      <td>3.0</td>\n",
       "      <td>2.0</td>\n",
       "      <td>2.0</td>\n",
       "      <td>712.0</td>\n",
       "      <td>3.0</td>\n",
       "      <td>3.0</td>\n",
       "      <td>1.0</td>\n",
       "      <td>0.0</td>\n",
       "      <td>1.0</td>\n",
       "    </tr>\n",
       "    <tr>\n",
       "      <th>3</th>\n",
       "      <td>4.0</td>\n",
       "      <td>1.0</td>\n",
       "      <td>0.0</td>\n",
       "      <td>0.0</td>\n",
       "      <td>1.0</td>\n",
       "      <td>4.0</td>\n",
       "      <td>4.0</td>\n",
       "      <td>2.0</td>\n",
       "      <td>6.0</td>\n",
       "      <td>4.0</td>\n",
       "      <td>0.0</td>\n",
       "      <td>4.0</td>\n",
       "      <td>1.0</td>\n",
       "      <td>0.0</td>\n",
       "      <td>596.0</td>\n",
       "      <td>2.0</td>\n",
       "      <td>2.0</td>\n",
       "      <td>2.0</td>\n",
       "      <td>0.0</td>\n",
       "      <td>1.0</td>\n",
       "    </tr>\n",
       "    <tr>\n",
       "      <th>4</th>\n",
       "      <td>1.0</td>\n",
       "      <td>4.0</td>\n",
       "      <td>1.0</td>\n",
       "      <td>0.0</td>\n",
       "      <td>0.0</td>\n",
       "      <td>3.0</td>\n",
       "      <td>2.0</td>\n",
       "      <td>5.0</td>\n",
       "      <td>1.0</td>\n",
       "      <td>5.0</td>\n",
       "      <td>3.0</td>\n",
       "      <td>3.0</td>\n",
       "      <td>5.0</td>\n",
       "      <td>5.0</td>\n",
       "      <td>435.0</td>\n",
       "      <td>2.0</td>\n",
       "      <td>4.0</td>\n",
       "      <td>2.0</td>\n",
       "      <td>1.0</td>\n",
       "      <td>2.0</td>\n",
       "    </tr>\n",
       "  </tbody>\n",
       "</table>\n",
       "</div>"
      ],
      "text/plain": [
       "   KBA05_ANTG1  KBA05_ANTG2  KBA05_ANTG3  KBA05_ANTG4  KBA05_BAUMAX  \\\n",
       "0          NaN          NaN          NaN          NaN           NaN   \n",
       "1          0.0          0.0          0.0          2.0           5.0   \n",
       "2          1.0          3.0          1.0          0.0           0.0   \n",
       "3          4.0          1.0          0.0          0.0           1.0   \n",
       "4          1.0          4.0          1.0          0.0           0.0   \n",
       "\n",
       "   KBA05_GBZ  BALLRAUM  EWDICHTE  INNENSTADT  GEBAEUDETYP_RASTER  KKK  \\\n",
       "0        NaN       NaN       NaN         NaN                 NaN  NaN   \n",
       "1        1.0       6.0       3.0         8.0                 3.0  2.0   \n",
       "2        3.0       2.0       4.0         4.0                 4.0  2.0   \n",
       "3        4.0       4.0       2.0         6.0                 4.0  0.0   \n",
       "4        3.0       2.0       5.0         1.0                 5.0  3.0   \n",
       "\n",
       "   MOBI_REGIO  ONLINE_AFFINITAET  REGIOTYP  KBA13_ANZAHL_PKW  PLZ8_ANTG1  \\\n",
       "0         NaN                1.0       NaN               NaN         NaN   \n",
       "1         1.0                3.0       3.0             963.0         2.0   \n",
       "2         3.0                2.0       2.0             712.0         3.0   \n",
       "3         4.0                1.0       0.0             596.0         2.0   \n",
       "4         3.0                5.0       5.0             435.0         2.0   \n",
       "\n",
       "   PLZ8_ANTG2  PLZ8_ANTG3  PLZ8_ANTG4  PLZ8_BAUMAX  \n",
       "0         NaN         NaN         NaN          NaN  \n",
       "1         3.0         2.0         1.0          1.0  \n",
       "2         3.0         1.0         0.0          1.0  \n",
       "3         2.0         2.0         0.0          1.0  \n",
       "4         4.0         2.0         1.0          2.0  "
      ]
     },
     "execution_count": 7,
     "metadata": {},
     "output_type": "execute_result"
    }
   ],
   "source": [
    "azdias.iloc[:, 60:80].head()"
   ]
  },
  {
   "cell_type": "code",
   "execution_count": 8,
   "metadata": {},
   "outputs": [
    {
     "data": {
      "text/html": [
       "<div>\n",
       "<style scoped>\n",
       "    .dataframe tbody tr th:only-of-type {\n",
       "        vertical-align: middle;\n",
       "    }\n",
       "\n",
       "    .dataframe tbody tr th {\n",
       "        vertical-align: top;\n",
       "    }\n",
       "\n",
       "    .dataframe thead th {\n",
       "        text-align: right;\n",
       "    }\n",
       "</style>\n",
       "<table border=\"1\" class=\"dataframe\">\n",
       "  <thead>\n",
       "    <tr style=\"text-align: right;\">\n",
       "      <th></th>\n",
       "      <th>PLZ8_HHZ</th>\n",
       "      <th>PLZ8_GBZ</th>\n",
       "      <th>ARBEIT</th>\n",
       "      <th>ORTSGR_KLS9</th>\n",
       "      <th>RELAT_AB</th>\n",
       "    </tr>\n",
       "  </thead>\n",
       "  <tbody>\n",
       "    <tr>\n",
       "      <th>0</th>\n",
       "      <td>NaN</td>\n",
       "      <td>NaN</td>\n",
       "      <td>NaN</td>\n",
       "      <td>NaN</td>\n",
       "      <td>NaN</td>\n",
       "    </tr>\n",
       "    <tr>\n",
       "      <th>1</th>\n",
       "      <td>5.0</td>\n",
       "      <td>4.0</td>\n",
       "      <td>3.0</td>\n",
       "      <td>5.0</td>\n",
       "      <td>4.0</td>\n",
       "    </tr>\n",
       "    <tr>\n",
       "      <th>2</th>\n",
       "      <td>4.0</td>\n",
       "      <td>4.0</td>\n",
       "      <td>3.0</td>\n",
       "      <td>5.0</td>\n",
       "      <td>2.0</td>\n",
       "    </tr>\n",
       "    <tr>\n",
       "      <th>3</th>\n",
       "      <td>3.0</td>\n",
       "      <td>4.0</td>\n",
       "      <td>2.0</td>\n",
       "      <td>3.0</td>\n",
       "      <td>3.0</td>\n",
       "    </tr>\n",
       "    <tr>\n",
       "      <th>4</th>\n",
       "      <td>3.0</td>\n",
       "      <td>3.0</td>\n",
       "      <td>4.0</td>\n",
       "      <td>6.0</td>\n",
       "      <td>5.0</td>\n",
       "    </tr>\n",
       "  </tbody>\n",
       "</table>\n",
       "</div>"
      ],
      "text/plain": [
       "   PLZ8_HHZ  PLZ8_GBZ  ARBEIT  ORTSGR_KLS9  RELAT_AB\n",
       "0       NaN       NaN     NaN          NaN       NaN\n",
       "1       5.0       4.0     3.0          5.0       4.0\n",
       "2       4.0       4.0     3.0          5.0       2.0\n",
       "3       3.0       4.0     2.0          3.0       3.0\n",
       "4       3.0       3.0     4.0          6.0       5.0"
      ]
     },
     "execution_count": 8,
     "metadata": {},
     "output_type": "execute_result"
    }
   ],
   "source": [
    "azdias.iloc[:, 80:85].head()"
   ]
  },
  {
   "cell_type": "code",
   "execution_count": 9,
   "metadata": {},
   "outputs": [
    {
     "data": {
      "text/html": [
       "<div>\n",
       "<style scoped>\n",
       "    .dataframe tbody tr th:only-of-type {\n",
       "        vertical-align: middle;\n",
       "    }\n",
       "\n",
       "    .dataframe tbody tr th {\n",
       "        vertical-align: top;\n",
       "    }\n",
       "\n",
       "    .dataframe thead th {\n",
       "        text-align: right;\n",
       "    }\n",
       "</style>\n",
       "<table border=\"1\" class=\"dataframe\">\n",
       "  <thead>\n",
       "    <tr style=\"text-align: right;\">\n",
       "      <th></th>\n",
       "      <th>attribute</th>\n",
       "      <th>information_level</th>\n",
       "      <th>type</th>\n",
       "      <th>missing_or_unknown</th>\n",
       "    </tr>\n",
       "  </thead>\n",
       "  <tbody>\n",
       "    <tr>\n",
       "      <th>0</th>\n",
       "      <td>AGER_TYP</td>\n",
       "      <td>person</td>\n",
       "      <td>categorical</td>\n",
       "      <td>[-1,0]</td>\n",
       "    </tr>\n",
       "    <tr>\n",
       "      <th>1</th>\n",
       "      <td>ALTERSKATEGORIE_GROB</td>\n",
       "      <td>person</td>\n",
       "      <td>ordinal</td>\n",
       "      <td>[-1,0,9]</td>\n",
       "    </tr>\n",
       "    <tr>\n",
       "      <th>2</th>\n",
       "      <td>ANREDE_KZ</td>\n",
       "      <td>person</td>\n",
       "      <td>categorical</td>\n",
       "      <td>[-1,0]</td>\n",
       "    </tr>\n",
       "    <tr>\n",
       "      <th>3</th>\n",
       "      <td>CJT_GESAMTTYP</td>\n",
       "      <td>person</td>\n",
       "      <td>categorical</td>\n",
       "      <td>[0]</td>\n",
       "    </tr>\n",
       "    <tr>\n",
       "      <th>4</th>\n",
       "      <td>FINANZ_MINIMALIST</td>\n",
       "      <td>person</td>\n",
       "      <td>ordinal</td>\n",
       "      <td>[-1]</td>\n",
       "    </tr>\n",
       "  </tbody>\n",
       "</table>\n",
       "</div>"
      ],
      "text/plain": [
       "              attribute information_level         type missing_or_unknown\n",
       "0              AGER_TYP            person  categorical             [-1,0]\n",
       "1  ALTERSKATEGORIE_GROB            person      ordinal           [-1,0,9]\n",
       "2             ANREDE_KZ            person  categorical             [-1,0]\n",
       "3         CJT_GESAMTTYP            person  categorical                [0]\n",
       "4     FINANZ_MINIMALIST            person      ordinal               [-1]"
      ]
     },
     "execution_count": 9,
     "metadata": {},
     "output_type": "execute_result"
    }
   ],
   "source": [
    "feat_info.head()"
   ]
  },
  {
   "cell_type": "code",
   "execution_count": 10,
   "metadata": {},
   "outputs": [
    {
     "data": {
      "text/html": [
       "<div>\n",
       "<style scoped>\n",
       "    .dataframe tbody tr th:only-of-type {\n",
       "        vertical-align: middle;\n",
       "    }\n",
       "\n",
       "    .dataframe tbody tr th {\n",
       "        vertical-align: top;\n",
       "    }\n",
       "\n",
       "    .dataframe thead th {\n",
       "        text-align: right;\n",
       "    }\n",
       "</style>\n",
       "<table border=\"1\" class=\"dataframe\">\n",
       "  <thead>\n",
       "    <tr style=\"text-align: right;\">\n",
       "      <th></th>\n",
       "      <th>attribute</th>\n",
       "      <th>information_level</th>\n",
       "      <th>type</th>\n",
       "      <th>missing_or_unknown</th>\n",
       "    </tr>\n",
       "  </thead>\n",
       "  <tbody>\n",
       "    <tr>\n",
       "      <th>80</th>\n",
       "      <td>PLZ8_HHZ</td>\n",
       "      <td>macrocell_plz8</td>\n",
       "      <td>ordinal</td>\n",
       "      <td>[-1]</td>\n",
       "    </tr>\n",
       "    <tr>\n",
       "      <th>81</th>\n",
       "      <td>PLZ8_GBZ</td>\n",
       "      <td>macrocell_plz8</td>\n",
       "      <td>ordinal</td>\n",
       "      <td>[-1]</td>\n",
       "    </tr>\n",
       "    <tr>\n",
       "      <th>82</th>\n",
       "      <td>ARBEIT</td>\n",
       "      <td>community</td>\n",
       "      <td>ordinal</td>\n",
       "      <td>[-1,9]</td>\n",
       "    </tr>\n",
       "    <tr>\n",
       "      <th>83</th>\n",
       "      <td>ORTSGR_KLS9</td>\n",
       "      <td>community</td>\n",
       "      <td>ordinal</td>\n",
       "      <td>[-1,0]</td>\n",
       "    </tr>\n",
       "    <tr>\n",
       "      <th>84</th>\n",
       "      <td>RELAT_AB</td>\n",
       "      <td>community</td>\n",
       "      <td>ordinal</td>\n",
       "      <td>[-1,9]</td>\n",
       "    </tr>\n",
       "  </tbody>\n",
       "</table>\n",
       "</div>"
      ],
      "text/plain": [
       "      attribute information_level     type missing_or_unknown\n",
       "80     PLZ8_HHZ    macrocell_plz8  ordinal               [-1]\n",
       "81     PLZ8_GBZ    macrocell_plz8  ordinal               [-1]\n",
       "82       ARBEIT         community  ordinal             [-1,9]\n",
       "83  ORTSGR_KLS9         community  ordinal             [-1,0]\n",
       "84     RELAT_AB         community  ordinal             [-1,9]"
      ]
     },
     "execution_count": 10,
     "metadata": {},
     "output_type": "execute_result"
    }
   ],
   "source": [
    "feat_info.tail()"
   ]
  },
  {
   "cell_type": "markdown",
   "metadata": {},
   "source": [
    "> **Tip**: Add additional cells to keep everything in reasonably-sized chunks! Keyboard shortcut `esc --> a` (press escape to enter command mode, then press the 'A' key) adds a new cell before the active cell, and `esc --> b` adds a new cell after the active cell. If you need to convert an active cell to a markdown cell, use `esc --> m` and to convert to a code cell, use `esc --> y`. \n",
    "\n",
    "## Step 1: Preprocessing\n",
    "\n",
    "### Step 1.1: Assess Missing Data\n",
    "\n",
    "The feature summary file contains a summary of properties for each demographics data column. You will use this file to help you make cleaning decisions during this stage of the project. First of all, you should assess the demographics data in terms of missing data. Pay attention to the following points as you perform your analysis, and take notes on what you observe. Make sure that you fill in the **Discussion** cell with your findings and decisions at the end of each step that has one!\n",
    "\n",
    "#### Step 1.1.1: Convert Missing Value Codes to NaNs\n",
    "The fourth column of the feature attributes summary (loaded in above as `feat_info`) documents the codes from the data dictionary that indicate missing or unknown data. While the file encodes this as a list (e.g. `[-1,0]`), this will get read in as a string object. You'll need to do a little bit of parsing to make use of it to identify and clean the data. Convert data that matches a 'missing' or 'unknown' value code into a numpy NaN value. You might want to see how much data takes on a 'missing' or 'unknown' code, and how much data is naturally missing, as a point of interest.\n",
    "\n",
    "**As one more reminder, you are encouraged to add additional cells to break up your analysis into manageable chunks.**"
   ]
  },
  {
   "cell_type": "code",
   "execution_count": 11,
   "metadata": {},
   "outputs": [],
   "source": [
    "# Create copies for the cleaning\n",
    "azdias_clean = azdias.copy()\n",
    "feat_info_clean = feat_info.copy()"
   ]
  },
  {
   "cell_type": "code",
   "execution_count": 12,
   "metadata": {},
   "outputs": [],
   "source": [
    "# Identify missing or unknown data values and convert them to NaNs.\n",
    "# Remove the square brackets and split them to make a list and convert them into floats"
   ]
  },
  {
   "cell_type": "code",
   "execution_count": 13,
   "metadata": {},
   "outputs": [],
   "source": [
    "# Convert the 'missing_or_unknown' column into lists of the missing or unknown values\n",
    "missing_alpha = [] # list to store columns with alphanumeric missing values\n",
    "for row in range(len(feat_info_clean)):\n",
    "    # the string that lists the missing or unknown values\n",
    "    miss = feat_info_clean.iloc[row, 3]\n",
    "    \n",
    "    if len(miss) > 2: # if this list is not empty\n",
    "        if re.search('[a-zA-Z]', miss): # if the missing values contain something alphanumeric leave all as string\n",
    "            missing_alpha.append(feat_info_clean.iloc[row, 0])\n",
    "            missing = miss[1:-1].split(',')\n",
    "        else: # if the missing values are all numeric then cast into floats\n",
    "            missing = [float(i) for i in miss[1:-1].split(',')]\n",
    "    else: # if this list is empty\n",
    "        missing = []\n",
    "    \n",
    "    # replace the current string in column 'missing_or_unknown' with the list\n",
    "    feat_info_clean.at[row, 'missing_or_unknown'] = missing"
   ]
  },
  {
   "cell_type": "code",
   "execution_count": 14,
   "metadata": {},
   "outputs": [
    {
     "data": {
      "text/plain": [
       "['CAMEO_DEUG_2015', 'CAMEO_DEU_2015', 'CAMEO_INTL_2015']"
      ]
     },
     "execution_count": 14,
     "metadata": {},
     "output_type": "execute_result"
    }
   ],
   "source": [
    "# Attributes that have an alphanumeric code for the missing values \n",
    "missing_alpha"
   ]
  },
  {
   "cell_type": "code",
   "execution_count": 15,
   "metadata": {},
   "outputs": [
    {
     "data": {
      "text/plain": [
       "[-1.0, 0.0]"
      ]
     },
     "execution_count": 15,
     "metadata": {},
     "output_type": "execute_result"
    }
   ],
   "source": [
    "# Check entry where all are numeric and items in list thus a float\n",
    "feat_info_clean.iloc[0,3]"
   ]
  },
  {
   "cell_type": "code",
   "execution_count": 16,
   "metadata": {},
   "outputs": [
    {
     "data": {
      "text/plain": [
       "['-1', 'X']"
      ]
     },
     "execution_count": 16,
     "metadata": {},
     "output_type": "execute_result"
    }
   ],
   "source": [
    "# Check entry where some are alphanumeric and all items in list thus a string\n",
    "feat_info_clean.iloc[57, 3]"
   ]
  },
  {
   "cell_type": "code",
   "execution_count": 17,
   "metadata": {},
   "outputs": [
    {
     "data": {
      "text/html": [
       "<div>\n",
       "<style scoped>\n",
       "    .dataframe tbody tr th:only-of-type {\n",
       "        vertical-align: middle;\n",
       "    }\n",
       "\n",
       "    .dataframe tbody tr th {\n",
       "        vertical-align: top;\n",
       "    }\n",
       "\n",
       "    .dataframe thead th {\n",
       "        text-align: right;\n",
       "    }\n",
       "</style>\n",
       "<table border=\"1\" class=\"dataframe\">\n",
       "  <thead>\n",
       "    <tr style=\"text-align: right;\">\n",
       "      <th></th>\n",
       "      <th>attribute</th>\n",
       "      <th>information_level</th>\n",
       "      <th>type</th>\n",
       "      <th>missing_or_unknown</th>\n",
       "    </tr>\n",
       "  </thead>\n",
       "  <tbody>\n",
       "    <tr>\n",
       "      <th>0</th>\n",
       "      <td>AGER_TYP</td>\n",
       "      <td>person</td>\n",
       "      <td>categorical</td>\n",
       "      <td>[-1.0, 0.0]</td>\n",
       "    </tr>\n",
       "    <tr>\n",
       "      <th>1</th>\n",
       "      <td>ALTERSKATEGORIE_GROB</td>\n",
       "      <td>person</td>\n",
       "      <td>ordinal</td>\n",
       "      <td>[-1.0, 0.0, 9.0]</td>\n",
       "    </tr>\n",
       "    <tr>\n",
       "      <th>2</th>\n",
       "      <td>ANREDE_KZ</td>\n",
       "      <td>person</td>\n",
       "      <td>categorical</td>\n",
       "      <td>[-1.0, 0.0]</td>\n",
       "    </tr>\n",
       "    <tr>\n",
       "      <th>3</th>\n",
       "      <td>CJT_GESAMTTYP</td>\n",
       "      <td>person</td>\n",
       "      <td>categorical</td>\n",
       "      <td>[0.0]</td>\n",
       "    </tr>\n",
       "    <tr>\n",
       "      <th>4</th>\n",
       "      <td>FINANZ_MINIMALIST</td>\n",
       "      <td>person</td>\n",
       "      <td>ordinal</td>\n",
       "      <td>[-1.0]</td>\n",
       "    </tr>\n",
       "  </tbody>\n",
       "</table>\n",
       "</div>"
      ],
      "text/plain": [
       "              attribute information_level         type missing_or_unknown\n",
       "0              AGER_TYP            person  categorical        [-1.0, 0.0]\n",
       "1  ALTERSKATEGORIE_GROB            person      ordinal   [-1.0, 0.0, 9.0]\n",
       "2             ANREDE_KZ            person  categorical        [-1.0, 0.0]\n",
       "3         CJT_GESAMTTYP            person  categorical              [0.0]\n",
       "4     FINANZ_MINIMALIST            person      ordinal             [-1.0]"
      ]
     },
     "execution_count": 17,
     "metadata": {},
     "output_type": "execute_result"
    }
   ],
   "source": [
    "# Check what it looks like\n",
    "feat_info_clean.head()"
   ]
  },
  {
   "cell_type": "code",
   "execution_count": 18,
   "metadata": {},
   "outputs": [
    {
     "data": {
      "text/html": [
       "<div>\n",
       "<style scoped>\n",
       "    .dataframe tbody tr th:only-of-type {\n",
       "        vertical-align: middle;\n",
       "    }\n",
       "\n",
       "    .dataframe tbody tr th {\n",
       "        vertical-align: top;\n",
       "    }\n",
       "\n",
       "    .dataframe thead th {\n",
       "        text-align: right;\n",
       "    }\n",
       "</style>\n",
       "<table border=\"1\" class=\"dataframe\">\n",
       "  <thead>\n",
       "    <tr style=\"text-align: right;\">\n",
       "      <th></th>\n",
       "      <th>attribute</th>\n",
       "      <th>information_level</th>\n",
       "      <th>type</th>\n",
       "      <th>missing_or_unknown</th>\n",
       "    </tr>\n",
       "  </thead>\n",
       "  <tbody>\n",
       "    <tr>\n",
       "      <th>55</th>\n",
       "      <td>OST_WEST_KZ</td>\n",
       "      <td>building</td>\n",
       "      <td>categorical</td>\n",
       "      <td>[-1.0]</td>\n",
       "    </tr>\n",
       "    <tr>\n",
       "      <th>56</th>\n",
       "      <td>WOHNLAGE</td>\n",
       "      <td>building</td>\n",
       "      <td>mixed</td>\n",
       "      <td>[-1.0]</td>\n",
       "    </tr>\n",
       "    <tr>\n",
       "      <th>57</th>\n",
       "      <td>CAMEO_DEUG_2015</td>\n",
       "      <td>microcell_rr4</td>\n",
       "      <td>categorical</td>\n",
       "      <td>[-1, X]</td>\n",
       "    </tr>\n",
       "    <tr>\n",
       "      <th>58</th>\n",
       "      <td>CAMEO_DEU_2015</td>\n",
       "      <td>microcell_rr4</td>\n",
       "      <td>categorical</td>\n",
       "      <td>[XX]</td>\n",
       "    </tr>\n",
       "    <tr>\n",
       "      <th>59</th>\n",
       "      <td>CAMEO_INTL_2015</td>\n",
       "      <td>microcell_rr4</td>\n",
       "      <td>mixed</td>\n",
       "      <td>[-1, XX]</td>\n",
       "    </tr>\n",
       "  </tbody>\n",
       "</table>\n",
       "</div>"
      ],
      "text/plain": [
       "          attribute information_level         type missing_or_unknown\n",
       "55      OST_WEST_KZ          building  categorical             [-1.0]\n",
       "56         WOHNLAGE          building        mixed             [-1.0]\n",
       "57  CAMEO_DEUG_2015     microcell_rr4  categorical            [-1, X]\n",
       "58   CAMEO_DEU_2015     microcell_rr4  categorical               [XX]\n",
       "59  CAMEO_INTL_2015     microcell_rr4        mixed           [-1, XX]"
      ]
     },
     "execution_count": 18,
     "metadata": {},
     "output_type": "execute_result"
    }
   ],
   "source": [
    "# Look at some rows that contain both numeric and alphanumeric labels for the missing values\n",
    "feat_info_clean.iloc[55:60, :]"
   ]
  },
  {
   "cell_type": "code",
   "execution_count": 19,
   "metadata": {},
   "outputs": [],
   "source": [
    "# Replace the missing or unknowns with NaN\n",
    "# Loop over all attributes\n",
    "# If in the list of missing_or_unknowns then replace with np.nan\n",
    "for col in list(feat_info_clean['attribute']):\n",
    "    azdias_clean.loc[azdias_clean[col].isin(feat_info_clean[feat_info_clean['attribute'] == col].iloc[0, 3]), col] = np.nan"
   ]
  },
  {
   "cell_type": "code",
   "execution_count": 20,
   "metadata": {},
   "outputs": [
    {
     "data": {
      "text/html": [
       "<div>\n",
       "<style scoped>\n",
       "    .dataframe tbody tr th:only-of-type {\n",
       "        vertical-align: middle;\n",
       "    }\n",
       "\n",
       "    .dataframe tbody tr th {\n",
       "        vertical-align: top;\n",
       "    }\n",
       "\n",
       "    .dataframe thead th {\n",
       "        text-align: right;\n",
       "    }\n",
       "</style>\n",
       "<table border=\"1\" class=\"dataframe\">\n",
       "  <thead>\n",
       "    <tr style=\"text-align: right;\">\n",
       "      <th></th>\n",
       "      <th>AGER_TYP</th>\n",
       "      <th>ALTERSKATEGORIE_GROB</th>\n",
       "      <th>ANREDE_KZ</th>\n",
       "      <th>CJT_GESAMTTYP</th>\n",
       "      <th>FINANZ_MINIMALIST</th>\n",
       "      <th>FINANZ_SPARER</th>\n",
       "      <th>FINANZ_VORSORGER</th>\n",
       "      <th>FINANZ_ANLEGER</th>\n",
       "      <th>FINANZ_UNAUFFAELLIGER</th>\n",
       "      <th>FINANZ_HAUSBAUER</th>\n",
       "      <th>...</th>\n",
       "      <th>PLZ8_ANTG1</th>\n",
       "      <th>PLZ8_ANTG2</th>\n",
       "      <th>PLZ8_ANTG3</th>\n",
       "      <th>PLZ8_ANTG4</th>\n",
       "      <th>PLZ8_BAUMAX</th>\n",
       "      <th>PLZ8_HHZ</th>\n",
       "      <th>PLZ8_GBZ</th>\n",
       "      <th>ARBEIT</th>\n",
       "      <th>ORTSGR_KLS9</th>\n",
       "      <th>RELAT_AB</th>\n",
       "    </tr>\n",
       "  </thead>\n",
       "  <tbody>\n",
       "  </tbody>\n",
       "</table>\n",
       "<p>0 rows × 85 columns</p>\n",
       "</div>"
      ],
      "text/plain": [
       "Empty DataFrame\n",
       "Columns: [AGER_TYP, ALTERSKATEGORIE_GROB, ANREDE_KZ, CJT_GESAMTTYP, FINANZ_MINIMALIST, FINANZ_SPARER, FINANZ_VORSORGER, FINANZ_ANLEGER, FINANZ_UNAUFFAELLIGER, FINANZ_HAUSBAUER, FINANZTYP, GEBURTSJAHR, GFK_URLAUBERTYP, GREEN_AVANTGARDE, HEALTH_TYP, LP_LEBENSPHASE_FEIN, LP_LEBENSPHASE_GROB, LP_FAMILIE_FEIN, LP_FAMILIE_GROB, LP_STATUS_FEIN, LP_STATUS_GROB, NATIONALITAET_KZ, PRAEGENDE_JUGENDJAHRE, RETOURTYP_BK_S, SEMIO_SOZ, SEMIO_FAM, SEMIO_REL, SEMIO_MAT, SEMIO_VERT, SEMIO_LUST, SEMIO_ERL, SEMIO_KULT, SEMIO_RAT, SEMIO_KRIT, SEMIO_DOM, SEMIO_KAEM, SEMIO_PFLICHT, SEMIO_TRADV, SHOPPER_TYP, SOHO_KZ, TITEL_KZ, VERS_TYP, ZABEOTYP, ALTER_HH, ANZ_PERSONEN, ANZ_TITEL, HH_EINKOMMEN_SCORE, KK_KUNDENTYP, W_KEIT_KIND_HH, WOHNDAUER_2008, ANZ_HAUSHALTE_AKTIV, ANZ_HH_TITEL, GEBAEUDETYP, KONSUMNAEHE, MIN_GEBAEUDEJAHR, OST_WEST_KZ, WOHNLAGE, CAMEO_DEUG_2015, CAMEO_DEU_2015, CAMEO_INTL_2015, KBA05_ANTG1, KBA05_ANTG2, KBA05_ANTG3, KBA05_ANTG4, KBA05_BAUMAX, KBA05_GBZ, BALLRAUM, EWDICHTE, INNENSTADT, GEBAEUDETYP_RASTER, KKK, MOBI_REGIO, ONLINE_AFFINITAET, REGIOTYP, KBA13_ANZAHL_PKW, PLZ8_ANTG1, PLZ8_ANTG2, PLZ8_ANTG3, PLZ8_ANTG4, PLZ8_BAUMAX, PLZ8_HHZ, PLZ8_GBZ, ARBEIT, ORTSGR_KLS9, RELAT_AB]\n",
       "Index: []\n",
       "\n",
       "[0 rows x 85 columns]"
      ]
     },
     "execution_count": 20,
     "metadata": {},
     "output_type": "execute_result"
    }
   ],
   "source": [
    "# Check that for CAMEO_DEU_2015 all XX are replaced with NaN, by checking there are no XX's anymore\n",
    "azdias_clean[azdias_clean['AGER_TYP'] == -1]"
   ]
  },
  {
   "cell_type": "code",
   "execution_count": 21,
   "metadata": {},
   "outputs": [
    {
     "data": {
      "text/html": [
       "<div>\n",
       "<style scoped>\n",
       "    .dataframe tbody tr th:only-of-type {\n",
       "        vertical-align: middle;\n",
       "    }\n",
       "\n",
       "    .dataframe tbody tr th {\n",
       "        vertical-align: top;\n",
       "    }\n",
       "\n",
       "    .dataframe thead th {\n",
       "        text-align: right;\n",
       "    }\n",
       "</style>\n",
       "<table border=\"1\" class=\"dataframe\">\n",
       "  <thead>\n",
       "    <tr style=\"text-align: right;\">\n",
       "      <th></th>\n",
       "      <th>AGER_TYP</th>\n",
       "      <th>ALTERSKATEGORIE_GROB</th>\n",
       "      <th>ANREDE_KZ</th>\n",
       "      <th>CJT_GESAMTTYP</th>\n",
       "      <th>FINANZ_MINIMALIST</th>\n",
       "      <th>FINANZ_SPARER</th>\n",
       "      <th>FINANZ_VORSORGER</th>\n",
       "      <th>FINANZ_ANLEGER</th>\n",
       "      <th>FINANZ_UNAUFFAELLIGER</th>\n",
       "      <th>FINANZ_HAUSBAUER</th>\n",
       "      <th>...</th>\n",
       "      <th>PLZ8_ANTG1</th>\n",
       "      <th>PLZ8_ANTG2</th>\n",
       "      <th>PLZ8_ANTG3</th>\n",
       "      <th>PLZ8_ANTG4</th>\n",
       "      <th>PLZ8_BAUMAX</th>\n",
       "      <th>PLZ8_HHZ</th>\n",
       "      <th>PLZ8_GBZ</th>\n",
       "      <th>ARBEIT</th>\n",
       "      <th>ORTSGR_KLS9</th>\n",
       "      <th>RELAT_AB</th>\n",
       "    </tr>\n",
       "  </thead>\n",
       "  <tbody>\n",
       "  </tbody>\n",
       "</table>\n",
       "<p>0 rows × 85 columns</p>\n",
       "</div>"
      ],
      "text/plain": [
       "Empty DataFrame\n",
       "Columns: [AGER_TYP, ALTERSKATEGORIE_GROB, ANREDE_KZ, CJT_GESAMTTYP, FINANZ_MINIMALIST, FINANZ_SPARER, FINANZ_VORSORGER, FINANZ_ANLEGER, FINANZ_UNAUFFAELLIGER, FINANZ_HAUSBAUER, FINANZTYP, GEBURTSJAHR, GFK_URLAUBERTYP, GREEN_AVANTGARDE, HEALTH_TYP, LP_LEBENSPHASE_FEIN, LP_LEBENSPHASE_GROB, LP_FAMILIE_FEIN, LP_FAMILIE_GROB, LP_STATUS_FEIN, LP_STATUS_GROB, NATIONALITAET_KZ, PRAEGENDE_JUGENDJAHRE, RETOURTYP_BK_S, SEMIO_SOZ, SEMIO_FAM, SEMIO_REL, SEMIO_MAT, SEMIO_VERT, SEMIO_LUST, SEMIO_ERL, SEMIO_KULT, SEMIO_RAT, SEMIO_KRIT, SEMIO_DOM, SEMIO_KAEM, SEMIO_PFLICHT, SEMIO_TRADV, SHOPPER_TYP, SOHO_KZ, TITEL_KZ, VERS_TYP, ZABEOTYP, ALTER_HH, ANZ_PERSONEN, ANZ_TITEL, HH_EINKOMMEN_SCORE, KK_KUNDENTYP, W_KEIT_KIND_HH, WOHNDAUER_2008, ANZ_HAUSHALTE_AKTIV, ANZ_HH_TITEL, GEBAEUDETYP, KONSUMNAEHE, MIN_GEBAEUDEJAHR, OST_WEST_KZ, WOHNLAGE, CAMEO_DEUG_2015, CAMEO_DEU_2015, CAMEO_INTL_2015, KBA05_ANTG1, KBA05_ANTG2, KBA05_ANTG3, KBA05_ANTG4, KBA05_BAUMAX, KBA05_GBZ, BALLRAUM, EWDICHTE, INNENSTADT, GEBAEUDETYP_RASTER, KKK, MOBI_REGIO, ONLINE_AFFINITAET, REGIOTYP, KBA13_ANZAHL_PKW, PLZ8_ANTG1, PLZ8_ANTG2, PLZ8_ANTG3, PLZ8_ANTG4, PLZ8_BAUMAX, PLZ8_HHZ, PLZ8_GBZ, ARBEIT, ORTSGR_KLS9, RELAT_AB]\n",
       "Index: []\n",
       "\n",
       "[0 rows x 85 columns]"
      ]
     },
     "execution_count": 21,
     "metadata": {},
     "output_type": "execute_result"
    }
   ],
   "source": [
    "# Check that for CAMEO_DEU_2015 all XX are replaced with NaN, by checking there are no XX's anymore\n",
    "azdias_clean[azdias_clean['CAMEO_DEU_2015'] == 'XX']"
   ]
  },
  {
   "cell_type": "code",
   "execution_count": 22,
   "metadata": {},
   "outputs": [
    {
     "name": "stdout",
     "output_type": "stream",
     "text": [
      "CAMEO_DEUG_2015\n",
      "[nan '8' '4' '2' '6' '1' '9' '5' '7' '3']\n",
      "CAMEO_DEU_2015\n",
      "[nan '8A' '4C' '2A' '6B' '8C' '4A' '2D' '1A' '1E' '9D' '5C' '8B' '7A' '5D'\n",
      " '9E' '9B' '1B' '3D' '4E' '4B' '3C' '5A' '7B' '9A' '6D' '6E' '2C' '7C' '9C'\n",
      " '7D' '5E' '1D' '8D' '6C' '6A' '5B' '4D' '3A' '2B' '7E' '3B' '6F' '5F' '1C']\n",
      "CAMEO_INTL_2015\n",
      "[nan '51' '24' '12' '43' '54' '22' '14' '13' '15' '33' '41' '34' '55' '25'\n",
      " '23' '31' '52' '35' '45' '44' '32']\n"
     ]
    }
   ],
   "source": [
    "# Print for the attributes/columns that had alphanumeric missing values what the unique values are after cleaning\n",
    "for col in missing_alpha:\n",
    "    print(col)\n",
    "    print(azdias_clean[col].unique())"
   ]
  },
  {
   "cell_type": "markdown",
   "metadata": {},
   "source": [
    "CAMEO_DEUG_2015 and CAMEO_INTL_2015 are all numeric. Need to cast convert these strings into numeric."
   ]
  },
  {
   "cell_type": "code",
   "execution_count": 23,
   "metadata": {},
   "outputs": [],
   "source": [
    "# Cast CAMEO_DEUG_2015 and CAMEO_INTL_2015 strings into numeric\n",
    "for col in ['CAMEO_DEUG_2015', 'CAMEO_INTL_2015']:\n",
    "    azdias_clean[col] = azdias_clean[col].astype(float)"
   ]
  },
  {
   "cell_type": "code",
   "execution_count": 24,
   "metadata": {},
   "outputs": [
    {
     "data": {
      "text/plain": [
       "CAMEO_DEUG_2015    float64\n",
       "CAMEO_INTL_2015    float64\n",
       "dtype: object"
      ]
     },
     "execution_count": 24,
     "metadata": {},
     "output_type": "execute_result"
    }
   ],
   "source": [
    "# Check it is converted\n",
    "azdias_clean[['CAMEO_DEUG_2015', 'CAMEO_INTL_2015']].dtypes"
   ]
  },
  {
   "cell_type": "markdown",
   "metadata": {},
   "source": [
    "#### Step 1.1.2: Assess Missing Data in Each Column\n",
    "\n",
    "How much missing data is present in each column? There are a few columns that are outliers in terms of the proportion of values that are missing. You will want to use matplotlib's [`hist()`](https://matplotlib.org/api/_as_gen/matplotlib.pyplot.hist.html) function to visualize the distribution of missing value counts to find these columns. Identify and document these columns. While some of these columns might have justifications for keeping or re-encoding the data, for this project you should just remove them from the dataframe. (Feel free to make remarks about these outlier columns in the discussion, however!)\n",
    "\n",
    "For the remaining features, are there any patterns in which columns have, or share, missing data?"
   ]
  },
  {
   "cell_type": "code",
   "execution_count": 25,
   "metadata": {},
   "outputs": [],
   "source": [
    "# Perform an assessment of how much missing data there is in each column of the\n",
    "# dataset.\n",
    "azdias_na_raw = azdias.isna().sum(axis= 0)\n",
    "azdias_na_after_clean = azdias_clean.isna().sum(axis= 0)"
   ]
  },
  {
   "cell_type": "code",
   "execution_count": 26,
   "metadata": {},
   "outputs": [
    {
     "data": {
      "text/plain": [
       "AGER_TYP                   0\n",
       "ALTERSKATEGORIE_GROB       0\n",
       "ANREDE_KZ                  0\n",
       "CJT_GESAMTTYP           4854\n",
       "FINANZ_MINIMALIST          0\n",
       "dtype: int64"
      ]
     },
     "execution_count": 26,
     "metadata": {},
     "output_type": "execute_result"
    }
   ],
   "source": [
    "# Show top 5 entries of number of NA's before cleaning\n",
    "azdias_na_raw.head()"
   ]
  },
  {
   "cell_type": "code",
   "execution_count": 27,
   "metadata": {},
   "outputs": [
    {
     "data": {
      "text/plain": [
       "PLZ8_HHZ       116515\n",
       "PLZ8_GBZ       116515\n",
       "ARBEIT          97216\n",
       "ORTSGR_KLS9     97216\n",
       "RELAT_AB        97216\n",
       "dtype: int64"
      ]
     },
     "execution_count": 27,
     "metadata": {},
     "output_type": "execute_result"
    }
   ],
   "source": [
    "# Show bottom 5 entries of number of NA's before cleaning\n",
    "azdias_na_raw.tail()"
   ]
  },
  {
   "cell_type": "code",
   "execution_count": 28,
   "metadata": {},
   "outputs": [
    {
     "data": {
      "text/plain": [
       "AGER_TYP                685843\n",
       "ALTERSKATEGORIE_GROB      2881\n",
       "ANREDE_KZ                    0\n",
       "CJT_GESAMTTYP             4854\n",
       "FINANZ_MINIMALIST            0\n",
       "dtype: int64"
      ]
     },
     "execution_count": 28,
     "metadata": {},
     "output_type": "execute_result"
    }
   ],
   "source": [
    "# Show top 5 entries of number of NA's after cleaning\n",
    "azdias_na_after_clean.head()"
   ]
  },
  {
   "cell_type": "code",
   "execution_count": 29,
   "metadata": {},
   "outputs": [
    {
     "data": {
      "text/html": [
       "<div>\n",
       "<style scoped>\n",
       "    .dataframe tbody tr th:only-of-type {\n",
       "        vertical-align: middle;\n",
       "    }\n",
       "\n",
       "    .dataframe tbody tr th {\n",
       "        vertical-align: top;\n",
       "    }\n",
       "\n",
       "    .dataframe thead th {\n",
       "        text-align: right;\n",
       "    }\n",
       "</style>\n",
       "<table border=\"1\" class=\"dataframe\">\n",
       "  <thead>\n",
       "    <tr style=\"text-align: right;\">\n",
       "      <th></th>\n",
       "      <th>na_raw</th>\n",
       "      <th>na_cleaned</th>\n",
       "      <th>attribute</th>\n",
       "      <th>frac_na_raw</th>\n",
       "      <th>frac_na_cleaned</th>\n",
       "    </tr>\n",
       "  </thead>\n",
       "  <tbody>\n",
       "    <tr>\n",
       "      <th>0</th>\n",
       "      <td>0</td>\n",
       "      <td>685843</td>\n",
       "      <td>AGER_TYP</td>\n",
       "      <td>0.000000</td>\n",
       "      <td>0.769554</td>\n",
       "    </tr>\n",
       "    <tr>\n",
       "      <th>1</th>\n",
       "      <td>0</td>\n",
       "      <td>2881</td>\n",
       "      <td>ALTERSKATEGORIE_GROB</td>\n",
       "      <td>0.000000</td>\n",
       "      <td>0.003233</td>\n",
       "    </tr>\n",
       "    <tr>\n",
       "      <th>2</th>\n",
       "      <td>0</td>\n",
       "      <td>0</td>\n",
       "      <td>ANREDE_KZ</td>\n",
       "      <td>0.000000</td>\n",
       "      <td>0.000000</td>\n",
       "    </tr>\n",
       "    <tr>\n",
       "      <th>3</th>\n",
       "      <td>4854</td>\n",
       "      <td>4854</td>\n",
       "      <td>CJT_GESAMTTYP</td>\n",
       "      <td>0.005446</td>\n",
       "      <td>0.005446</td>\n",
       "    </tr>\n",
       "    <tr>\n",
       "      <th>4</th>\n",
       "      <td>0</td>\n",
       "      <td>0</td>\n",
       "      <td>FINANZ_MINIMALIST</td>\n",
       "      <td>0.000000</td>\n",
       "      <td>0.000000</td>\n",
       "    </tr>\n",
       "  </tbody>\n",
       "</table>\n",
       "</div>"
      ],
      "text/plain": [
       "   na_raw  na_cleaned             attribute  frac_na_raw  frac_na_cleaned\n",
       "0       0      685843              AGER_TYP     0.000000         0.769554\n",
       "1       0        2881  ALTERSKATEGORIE_GROB     0.000000         0.003233\n",
       "2       0           0             ANREDE_KZ     0.000000         0.000000\n",
       "3    4854        4854         CJT_GESAMTTYP     0.005446         0.005446\n",
       "4       0           0     FINANZ_MINIMALIST     0.000000         0.000000"
      ]
     },
     "execution_count": 29,
     "metadata": {},
     "output_type": "execute_result"
    }
   ],
   "source": [
    "# Create dataframe with number of NA's before and after cleaning including the attribute name\n",
    "df_azdias_na = pd.concat([azdias_na_raw, azdias_na_after_clean], axis = 1)\n",
    "df_azdias_na.columns = ['na_raw', 'na_cleaned']\n",
    "df_azdias_na['attribute'] = np.array(azdias.columns)\n",
    "df_azdias_na.reset_index(inplace= True, drop= True)\n",
    "\n",
    "df_azdias_na['frac_na_raw'] = df_azdias_na['na_raw']/azdias.shape[0]\n",
    "df_azdias_na['frac_na_cleaned'] = df_azdias_na['na_cleaned']/azdias.shape[0]\n",
    "\n",
    "# Show top 5 entries, also to check df creation went fine\n",
    "df_azdias_na.head()"
   ]
  },
  {
   "cell_type": "code",
   "execution_count": 30,
   "metadata": {},
   "outputs": [
    {
     "data": {
      "text/html": [
       "<div>\n",
       "<style scoped>\n",
       "    .dataframe tbody tr th:only-of-type {\n",
       "        vertical-align: middle;\n",
       "    }\n",
       "\n",
       "    .dataframe tbody tr th {\n",
       "        vertical-align: top;\n",
       "    }\n",
       "\n",
       "    .dataframe thead th {\n",
       "        text-align: right;\n",
       "    }\n",
       "</style>\n",
       "<table border=\"1\" class=\"dataframe\">\n",
       "  <thead>\n",
       "    <tr style=\"text-align: right;\">\n",
       "      <th></th>\n",
       "      <th>na_raw</th>\n",
       "      <th>na_cleaned</th>\n",
       "      <th>frac_na_raw</th>\n",
       "      <th>frac_na_cleaned</th>\n",
       "    </tr>\n",
       "  </thead>\n",
       "  <tbody>\n",
       "    <tr>\n",
       "      <th>count</th>\n",
       "      <td>85.000000</td>\n",
       "      <td>85.000000</td>\n",
       "      <td>85.000000</td>\n",
       "      <td>85.000000</td>\n",
       "    </tr>\n",
       "    <tr>\n",
       "      <th>mean</th>\n",
       "      <td>57609.858824</td>\n",
       "      <td>98516.811765</td>\n",
       "      <td>0.064641</td>\n",
       "      <td>0.110541</td>\n",
       "    </tr>\n",
       "    <tr>\n",
       "      <th>std</th>\n",
       "      <td>78323.462873</td>\n",
       "      <td>146604.203317</td>\n",
       "      <td>0.087883</td>\n",
       "      <td>0.164498</td>\n",
       "    </tr>\n",
       "    <tr>\n",
       "      <th>min</th>\n",
       "      <td>0.000000</td>\n",
       "      <td>0.000000</td>\n",
       "      <td>0.000000</td>\n",
       "      <td>0.000000</td>\n",
       "    </tr>\n",
       "    <tr>\n",
       "      <th>25%</th>\n",
       "      <td>0.000000</td>\n",
       "      <td>0.000000</td>\n",
       "      <td>0.000000</td>\n",
       "      <td>0.000000</td>\n",
       "    </tr>\n",
       "    <tr>\n",
       "      <th>50%</th>\n",
       "      <td>18348.000000</td>\n",
       "      <td>93148.000000</td>\n",
       "      <td>0.020587</td>\n",
       "      <td>0.104517</td>\n",
       "    </tr>\n",
       "    <tr>\n",
       "      <th>75%</th>\n",
       "      <td>98979.000000</td>\n",
       "      <td>116515.000000</td>\n",
       "      <td>0.111060</td>\n",
       "      <td>0.130736</td>\n",
       "    </tr>\n",
       "    <tr>\n",
       "      <th>max</th>\n",
       "      <td>584612.000000</td>\n",
       "      <td>889061.000000</td>\n",
       "      <td>0.655967</td>\n",
       "      <td>0.997576</td>\n",
       "    </tr>\n",
       "  </tbody>\n",
       "</table>\n",
       "</div>"
      ],
      "text/plain": [
       "              na_raw     na_cleaned  frac_na_raw  frac_na_cleaned\n",
       "count      85.000000      85.000000    85.000000        85.000000\n",
       "mean    57609.858824   98516.811765     0.064641         0.110541\n",
       "std     78323.462873  146604.203317     0.087883         0.164498\n",
       "min         0.000000       0.000000     0.000000         0.000000\n",
       "25%         0.000000       0.000000     0.000000         0.000000\n",
       "50%     18348.000000   93148.000000     0.020587         0.104517\n",
       "75%     98979.000000  116515.000000     0.111060         0.130736\n",
       "max    584612.000000  889061.000000     0.655967         0.997576"
      ]
     },
     "execution_count": 30,
     "metadata": {},
     "output_type": "execute_result"
    }
   ],
   "source": [
    "# Investigate patterns in the amount of missing data in each column.\n",
    "df_azdias_na.describe()"
   ]
  },
  {
   "cell_type": "code",
   "execution_count": 31,
   "metadata": {},
   "outputs": [
    {
     "data": {
      "image/png": "[encoded data removed]",
      "text/plain": [
       "<matplotlib.figure.Figure at 0x7f26241cabe0>"
      ]
     },
     "metadata": {
      "needs_background": "light"
     },
     "output_type": "display_data"
    }
   ],
   "source": [
    "plt.figure(figsize = [8, 5])\n",
    "\n",
    "bins = np.arange(0, 1, 0.02)\n",
    "\n",
    "plt.hist(df_azdias_na['frac_na_raw'], bins = bins, alpha = 0.5, label = 'raw')\n",
    "plt.hist(df_azdias_na['frac_na_cleaned'], bins = bins, alpha = 0.5, label = 'cleaned')\n",
    "plt.title('Histogram of NAs in demographics data before and after cleaning')\n",
    "plt.xlabel('fraction of NAs')\n",
    "plt.ylabel('frequency')\n",
    "plt.legend();"
   ]
  },
  {
   "cell_type": "code",
   "execution_count": 32,
   "metadata": {},
   "outputs": [
    {
     "data": {
      "image/png": "[encoded data removed]",
      "text/plain": [
       "<matplotlib.figure.Figure at 0x7f25d2fb1a58>"
      ]
     },
     "metadata": {
      "needs_background": "light"
     },
     "output_type": "display_data"
    }
   ],
   "source": [
    "plt.figure(figsize = [8, 5])\n",
    "\n",
    "bins = np.arange(0.08, 0.18, 0.02)\n",
    "\n",
    "plt.hist(df_azdias_na[(df_azdias_na['frac_na_raw'] > 0.08) & (df_azdias_na['frac_na_raw'] < 0.2)]['frac_na_raw'], \n",
    "         bins = bins, alpha = 0.5, label = 'raw')\n",
    "plt.hist(df_azdias_na[(df_azdias_na['frac_na_cleaned'] > 0.08) & (df_azdias_na['frac_na_cleaned'] < 0.2)]['frac_na_cleaned'], \n",
    "         bins = bins, alpha = 0.5, label = 'cleaned')\n",
    "plt.title('Histogram of NAs in demographics data before and after cleaning without high NAs or near zero NAs')\n",
    "plt.xlabel('fraction of NAs')\n",
    "plt.ylabel('frequency')\n",
    "plt.legend();"
   ]
  },
  {
   "cell_type": "code",
   "execution_count": 33,
   "metadata": {},
   "outputs": [
    {
     "name": "stdout",
     "output_type": "stream",
     "text": [
      "Number of attributes without missing values in raw dataset is 32\n"
     ]
    }
   ],
   "source": [
    "print('Number of attributes without missing values in raw dataset is', \n",
    "      df_azdias_na[df_azdias_na['na_raw'] == 0].shape[0])"
   ]
  },
  {
   "cell_type": "code",
   "execution_count": 34,
   "metadata": {},
   "outputs": [
    {
     "name": "stdout",
     "output_type": "stream",
     "text": [
      "Number of attributes without missing values in cleaned dataset is 24\n"
     ]
    }
   ],
   "source": [
    "print('Number of attributes without missing values in cleaned dataset is', \n",
    "      df_azdias_na[df_azdias_na['na_cleaned'] == 0].shape[0])"
   ]
  },
  {
   "cell_type": "code",
   "execution_count": 35,
   "metadata": {},
   "outputs": [
    {
     "name": "stdout",
     "output_type": "stream",
     "text": [
      "Number of attributes with more than 20% missing values in raw dataset is 1\n"
     ]
    }
   ],
   "source": [
    "print('Number of attributes with more than 20% missing values in raw dataset is', \n",
    "      df_azdias_na[df_azdias_na['frac_na_raw'] >0.2].shape[0])"
   ]
  },
  {
   "cell_type": "code",
   "execution_count": 36,
   "metadata": {},
   "outputs": [
    {
     "name": "stdout",
     "output_type": "stream",
     "text": [
      "Number of attributes with more than 20% missing values in cleaned dataset is 6\n"
     ]
    }
   ],
   "source": [
    "print('Number of attributes with more than 20% missing values in cleaned dataset is', \n",
    "      df_azdias_na[df_azdias_na['frac_na_cleaned'] >0.2].shape[0])"
   ]
  },
  {
   "cell_type": "code",
   "execution_count": 37,
   "metadata": {},
   "outputs": [
    {
     "name": "stdout",
     "output_type": "stream",
     "text": [
      "The increase in number of missing values is a factor of 1.71006861979\n"
     ]
    }
   ],
   "source": [
    "print('The increase in number of missing values is a factor of',\n",
    "     df_azdias_na['na_cleaned'].sum()/df_azdias_na['na_raw'].sum())"
   ]
  },
  {
   "cell_type": "code",
   "execution_count": 38,
   "metadata": {},
   "outputs": [],
   "source": [
    "# Remove the outlier columns from the dataset. (You'll perform other data\n",
    "# engineering tasks such as re-encoding and imputation later.)"
   ]
  },
  {
   "cell_type": "code",
   "execution_count": 39,
   "metadata": {},
   "outputs": [
    {
     "data": {
      "text/html": [
       "<div>\n",
       "<style scoped>\n",
       "    .dataframe tbody tr th:only-of-type {\n",
       "        vertical-align: middle;\n",
       "    }\n",
       "\n",
       "    .dataframe tbody tr th {\n",
       "        vertical-align: top;\n",
       "    }\n",
       "\n",
       "    .dataframe thead th {\n",
       "        text-align: right;\n",
       "    }\n",
       "</style>\n",
       "<table border=\"1\" class=\"dataframe\">\n",
       "  <thead>\n",
       "    <tr style=\"text-align: right;\">\n",
       "      <th></th>\n",
       "      <th>na_raw</th>\n",
       "      <th>na_cleaned</th>\n",
       "      <th>attribute</th>\n",
       "      <th>frac_na_raw</th>\n",
       "      <th>frac_na_cleaned</th>\n",
       "    </tr>\n",
       "  </thead>\n",
       "  <tbody>\n",
       "    <tr>\n",
       "      <th>0</th>\n",
       "      <td>0</td>\n",
       "      <td>685843</td>\n",
       "      <td>AGER_TYP</td>\n",
       "      <td>0.000000</td>\n",
       "      <td>0.769554</td>\n",
       "    </tr>\n",
       "    <tr>\n",
       "      <th>11</th>\n",
       "      <td>0</td>\n",
       "      <td>392318</td>\n",
       "      <td>GEBURTSJAHR</td>\n",
       "      <td>0.000000</td>\n",
       "      <td>0.440203</td>\n",
       "    </tr>\n",
       "    <tr>\n",
       "      <th>40</th>\n",
       "      <td>73499</td>\n",
       "      <td>889061</td>\n",
       "      <td>TITEL_KZ</td>\n",
       "      <td>0.082470</td>\n",
       "      <td>0.997576</td>\n",
       "    </tr>\n",
       "    <tr>\n",
       "      <th>43</th>\n",
       "      <td>73499</td>\n",
       "      <td>310267</td>\n",
       "      <td>ALTER_HH</td>\n",
       "      <td>0.082470</td>\n",
       "      <td>0.348137</td>\n",
       "    </tr>\n",
       "    <tr>\n",
       "      <th>47</th>\n",
       "      <td>584612</td>\n",
       "      <td>584612</td>\n",
       "      <td>KK_KUNDENTYP</td>\n",
       "      <td>0.655967</td>\n",
       "      <td>0.655967</td>\n",
       "    </tr>\n",
       "    <tr>\n",
       "      <th>64</th>\n",
       "      <td>133324</td>\n",
       "      <td>476524</td>\n",
       "      <td>KBA05_BAUMAX</td>\n",
       "      <td>0.149597</td>\n",
       "      <td>0.534687</td>\n",
       "    </tr>\n",
       "  </tbody>\n",
       "</table>\n",
       "</div>"
      ],
      "text/plain": [
       "    na_raw  na_cleaned     attribute  frac_na_raw  frac_na_cleaned\n",
       "0        0      685843      AGER_TYP     0.000000         0.769554\n",
       "11       0      392318   GEBURTSJAHR     0.000000         0.440203\n",
       "40   73499      889061      TITEL_KZ     0.082470         0.997576\n",
       "43   73499      310267      ALTER_HH     0.082470         0.348137\n",
       "47  584612      584612  KK_KUNDENTYP     0.655967         0.655967\n",
       "64  133324      476524  KBA05_BAUMAX     0.149597         0.534687"
      ]
     },
     "execution_count": 39,
     "metadata": {},
     "output_type": "execute_result"
    }
   ],
   "source": [
    "# Identify which attributes have more than 20% missing values, which are here classes as the outlier columns\n",
    "df_azdias_na[df_azdias_na['frac_na_cleaned']>0.2]"
   ]
  },
  {
   "cell_type": "code",
   "execution_count": 40,
   "metadata": {},
   "outputs": [],
   "source": [
    "# Remove columns with more than 20% missing values\n",
    "azdias_clean.drop(df_azdias_na[df_azdias_na['frac_na_cleaned']>0.2]['attribute'], axis= 1, inplace= True)"
   ]
  },
  {
   "cell_type": "code",
   "execution_count": 41,
   "metadata": {},
   "outputs": [
    {
     "data": {
      "text/plain": [
       "Index(['ALTERSKATEGORIE_GROB', 'ANREDE_KZ', 'CJT_GESAMTTYP',\n",
       "       'FINANZ_MINIMALIST', 'FINANZ_SPARER', 'FINANZ_VORSORGER',\n",
       "       'FINANZ_ANLEGER', 'FINANZ_UNAUFFAELLIGER', 'FINANZ_HAUSBAUER',\n",
       "       'FINANZTYP', 'GFK_URLAUBERTYP', 'GREEN_AVANTGARDE', 'HEALTH_TYP',\n",
       "       'LP_LEBENSPHASE_FEIN', 'LP_LEBENSPHASE_GROB', 'LP_FAMILIE_FEIN',\n",
       "       'LP_FAMILIE_GROB', 'LP_STATUS_FEIN', 'LP_STATUS_GROB',\n",
       "       'NATIONALITAET_KZ', 'PRAEGENDE_JUGENDJAHRE', 'RETOURTYP_BK_S',\n",
       "       'SEMIO_SOZ', 'SEMIO_FAM', 'SEMIO_REL', 'SEMIO_MAT', 'SEMIO_VERT',\n",
       "       'SEMIO_LUST', 'SEMIO_ERL', 'SEMIO_KULT', 'SEMIO_RAT', 'SEMIO_KRIT',\n",
       "       'SEMIO_DOM', 'SEMIO_KAEM', 'SEMIO_PFLICHT', 'SEMIO_TRADV',\n",
       "       'SHOPPER_TYP', 'SOHO_KZ', 'VERS_TYP', 'ZABEOTYP', 'ANZ_PERSONEN',\n",
       "       'ANZ_TITEL', 'HH_EINKOMMEN_SCORE', 'W_KEIT_KIND_HH', 'WOHNDAUER_2008',\n",
       "       'ANZ_HAUSHALTE_AKTIV', 'ANZ_HH_TITEL', 'GEBAEUDETYP', 'KONSUMNAEHE',\n",
       "       'MIN_GEBAEUDEJAHR', 'OST_WEST_KZ', 'WOHNLAGE', 'CAMEO_DEUG_2015',\n",
       "       'CAMEO_DEU_2015', 'CAMEO_INTL_2015', 'KBA05_ANTG1', 'KBA05_ANTG2',\n",
       "       'KBA05_ANTG3', 'KBA05_ANTG4', 'KBA05_GBZ', 'BALLRAUM', 'EWDICHTE',\n",
       "       'INNENSTADT', 'GEBAEUDETYP_RASTER', 'KKK', 'MOBI_REGIO',\n",
       "       'ONLINE_AFFINITAET', 'REGIOTYP', 'KBA13_ANZAHL_PKW', 'PLZ8_ANTG1',\n",
       "       'PLZ8_ANTG2', 'PLZ8_ANTG3', 'PLZ8_ANTG4', 'PLZ8_BAUMAX', 'PLZ8_HHZ',\n",
       "       'PLZ8_GBZ', 'ARBEIT', 'ORTSGR_KLS9', 'RELAT_AB'],\n",
       "      dtype='object')"
      ]
     },
     "execution_count": 41,
     "metadata": {},
     "output_type": "execute_result"
    }
   ],
   "source": [
    "# Check that those columns have been removed\n",
    "azdias_clean.columns"
   ]
  },
  {
   "cell_type": "code",
   "execution_count": 42,
   "metadata": {},
   "outputs": [
    {
     "data": {
      "text/plain": [
       "(891221, 79)"
      ]
     },
     "execution_count": 42,
     "metadata": {},
     "output_type": "execute_result"
    }
   ],
   "source": [
    "# Get shape of azdias_clean\n",
    "azdias_clean.shape"
   ]
  },
  {
   "cell_type": "markdown",
   "metadata": {},
   "source": [
    "#### Discussion 1.1.2: Assess Missing Data in Each Column\n",
    "\n",
    "(Double click this cell and replace this text with your own text, reporting your observations regarding the amount of missing data in each column. Are there any patterns in missing values? Which columns were removed from the dataset?)\n",
    "\n",
    "- Cleaning led to an increase in the number of missing values. The number of missing values increased by a factor of 1.7\n",
    "- In the raw dataset, 32 attributes/columns had no missing values, but after cleaning this decreased to 24 attributes.\n",
    "- The number of attributes consisting fore more than 20% of missing values increased from 1 to 6 by cleaning. These six columns were removed. They are AGER_TYP, GEBURTSJAHR, TITEL_KZ, ALTER_HH, KK_KUNDENTYP and KBA05_BAUMAX.\n",
    "- Without the outlier columns containing >20% missing values or columns with <5% missing values, the distribution of missing values followed almost a normal distribution with mode between 10-12% missing values."
   ]
  },
  {
   "cell_type": "markdown",
   "metadata": {},
   "source": [
    "#### Step 1.1.3: Assess Missing Data in Each Row\n",
    "\n",
    "Now, you'll perform a similar assessment for the rows of the dataset. How much data is missing in each row? As with the columns, you should see some groups of points that have a very different numbers of missing values. Divide the data into two subsets: one for data points that are above some threshold for missing values, and a second subset for points below that threshold.\n",
    "\n",
    "In order to know what to do with the outlier rows, we should see if the distribution of data values on columns that are not missing data (or are missing very little data) are similar or different between the two groups. Select at least five of these columns and compare the distribution of values.\n",
    "- You can use seaborn's [`countplot()`](https://seaborn.pydata.org/generated/seaborn.countplot.html) function to create a bar chart of code frequencies and matplotlib's [`subplot()`](https://matplotlib.org/api/_as_gen/matplotlib.pyplot.subplot.html) function to put bar charts for the two subplots side by side.\n",
    "- To reduce repeated code, you might want to write a function that can perform this comparison, taking as one of its arguments a column to be compared.\n",
    "\n",
    "Depending on what you observe in your comparison, this will have implications on how you approach your conclusions later in the analysis. If the distributions of non-missing features look similar between the data with many missing values and the data with few or no missing values, then we could argue that simply dropping those points from the analysis won't present a major issue. On the other hand, if the data with many missing values looks very different from the data with few or no missing values, then we should make a note on those data as special. We'll revisit these data later on. **Either way, you should continue your analysis for now using just the subset of the data with few or no missing values.**"
   ]
  },
  {
   "cell_type": "code",
   "execution_count": 43,
   "metadata": {},
   "outputs": [],
   "source": [
    "# How much data is missing in each row of the dataset?\n",
    "azdias_rowna_raw = azdias.isna().sum(axis= 1)\n",
    "azdias_rowna_clean = azdias_clean.isna().sum(axis= 1)"
   ]
  },
  {
   "cell_type": "code",
   "execution_count": 44,
   "metadata": {},
   "outputs": [
    {
     "data": {
      "text/html": [
       "<div>\n",
       "<style scoped>\n",
       "    .dataframe tbody tr th:only-of-type {\n",
       "        vertical-align: middle;\n",
       "    }\n",
       "\n",
       "    .dataframe tbody tr th {\n",
       "        vertical-align: top;\n",
       "    }\n",
       "\n",
       "    .dataframe thead th {\n",
       "        text-align: right;\n",
       "    }\n",
       "</style>\n",
       "<table border=\"1\" class=\"dataframe\">\n",
       "  <thead>\n",
       "    <tr style=\"text-align: right;\">\n",
       "      <th></th>\n",
       "      <th>rowna_raw</th>\n",
       "      <th>rowna_cleaned</th>\n",
       "      <th>frac_rowna_raw</th>\n",
       "      <th>frac_rowna_clean</th>\n",
       "    </tr>\n",
       "  </thead>\n",
       "  <tbody>\n",
       "    <tr>\n",
       "      <th>0</th>\n",
       "      <td>42</td>\n",
       "      <td>43</td>\n",
       "      <td>0.494118</td>\n",
       "      <td>0.544304</td>\n",
       "    </tr>\n",
       "    <tr>\n",
       "      <th>1</th>\n",
       "      <td>1</td>\n",
       "      <td>0</td>\n",
       "      <td>0.011765</td>\n",
       "      <td>0.000000</td>\n",
       "    </tr>\n",
       "    <tr>\n",
       "      <th>2</th>\n",
       "      <td>1</td>\n",
       "      <td>0</td>\n",
       "      <td>0.011765</td>\n",
       "      <td>0.000000</td>\n",
       "    </tr>\n",
       "    <tr>\n",
       "      <th>3</th>\n",
       "      <td>2</td>\n",
       "      <td>7</td>\n",
       "      <td>0.023529</td>\n",
       "      <td>0.088608</td>\n",
       "    </tr>\n",
       "    <tr>\n",
       "      <th>4</th>\n",
       "      <td>0</td>\n",
       "      <td>0</td>\n",
       "      <td>0.000000</td>\n",
       "      <td>0.000000</td>\n",
       "    </tr>\n",
       "  </tbody>\n",
       "</table>\n",
       "</div>"
      ],
      "text/plain": [
       "   rowna_raw  rowna_cleaned  frac_rowna_raw  frac_rowna_clean\n",
       "0         42             43        0.494118          0.544304\n",
       "1          1              0        0.011765          0.000000\n",
       "2          1              0        0.011765          0.000000\n",
       "3          2              7        0.023529          0.088608\n",
       "4          0              0        0.000000          0.000000"
      ]
     },
     "execution_count": 44,
     "metadata": {},
     "output_type": "execute_result"
    }
   ],
   "source": [
    "# Create dataframe with number of NA's in each row before and after cleaning \n",
    "df_azdias_rowna = pd.concat([azdias_rowna_raw, azdias_rowna_clean], axis = 1)\n",
    "df_azdias_rowna.columns = ['rowna_raw', 'rowna_cleaned']\n",
    "\n",
    "df_azdias_rowna['frac_rowna_raw'] = df_azdias_rowna['rowna_raw']/azdias.shape[1]\n",
    "df_azdias_rowna['frac_rowna_clean'] = df_azdias_rowna['rowna_cleaned']/azdias_clean.shape[1]\n",
    "\n",
    "df_azdias_rowna.head()"
   ]
  },
  {
   "cell_type": "code",
   "execution_count": 45,
   "metadata": {},
   "outputs": [
    {
     "data": {
      "text/html": [
       "<div>\n",
       "<style scoped>\n",
       "    .dataframe tbody tr th:only-of-type {\n",
       "        vertical-align: middle;\n",
       "    }\n",
       "\n",
       "    .dataframe tbody tr th {\n",
       "        vertical-align: top;\n",
       "    }\n",
       "\n",
       "    .dataframe thead th {\n",
       "        text-align: right;\n",
       "    }\n",
       "</style>\n",
       "<table border=\"1\" class=\"dataframe\">\n",
       "  <thead>\n",
       "    <tr style=\"text-align: right;\">\n",
       "      <th></th>\n",
       "      <th>rowna_raw</th>\n",
       "      <th>rowna_cleaned</th>\n",
       "      <th>frac_rowna_raw</th>\n",
       "      <th>frac_rowna_clean</th>\n",
       "    </tr>\n",
       "  </thead>\n",
       "  <tbody>\n",
       "    <tr>\n",
       "      <th>count</th>\n",
       "      <td>891221.000000</td>\n",
       "      <td>891221.000000</td>\n",
       "      <td>891221.000000</td>\n",
       "      <td>891221.000000</td>\n",
       "    </tr>\n",
       "    <tr>\n",
       "      <th>mean</th>\n",
       "      <td>5.494527</td>\n",
       "      <td>5.649894</td>\n",
       "      <td>0.064641</td>\n",
       "      <td>0.071518</td>\n",
       "    </tr>\n",
       "    <tr>\n",
       "      <th>std</th>\n",
       "      <td>12.271097</td>\n",
       "      <td>13.234687</td>\n",
       "      <td>0.144366</td>\n",
       "      <td>0.167528</td>\n",
       "    </tr>\n",
       "    <tr>\n",
       "      <th>min</th>\n",
       "      <td>0.000000</td>\n",
       "      <td>0.000000</td>\n",
       "      <td>0.000000</td>\n",
       "      <td>0.000000</td>\n",
       "    </tr>\n",
       "    <tr>\n",
       "      <th>25%</th>\n",
       "      <td>0.000000</td>\n",
       "      <td>0.000000</td>\n",
       "      <td>0.000000</td>\n",
       "      <td>0.000000</td>\n",
       "    </tr>\n",
       "    <tr>\n",
       "      <th>50%</th>\n",
       "      <td>1.000000</td>\n",
       "      <td>0.000000</td>\n",
       "      <td>0.011765</td>\n",
       "      <td>0.000000</td>\n",
       "    </tr>\n",
       "    <tr>\n",
       "      <th>75%</th>\n",
       "      <td>1.000000</td>\n",
       "      <td>3.000000</td>\n",
       "      <td>0.011765</td>\n",
       "      <td>0.037975</td>\n",
       "    </tr>\n",
       "    <tr>\n",
       "      <th>max</th>\n",
       "      <td>46.000000</td>\n",
       "      <td>49.000000</td>\n",
       "      <td>0.541176</td>\n",
       "      <td>0.620253</td>\n",
       "    </tr>\n",
       "  </tbody>\n",
       "</table>\n",
       "</div>"
      ],
      "text/plain": [
       "           rowna_raw  rowna_cleaned  frac_rowna_raw  frac_rowna_clean\n",
       "count  891221.000000  891221.000000   891221.000000     891221.000000\n",
       "mean        5.494527       5.649894        0.064641          0.071518\n",
       "std        12.271097      13.234687        0.144366          0.167528\n",
       "min         0.000000       0.000000        0.000000          0.000000\n",
       "25%         0.000000       0.000000        0.000000          0.000000\n",
       "50%         1.000000       0.000000        0.011765          0.000000\n",
       "75%         1.000000       3.000000        0.011765          0.037975\n",
       "max        46.000000      49.000000        0.541176          0.620253"
      ]
     },
     "execution_count": 45,
     "metadata": {},
     "output_type": "execute_result"
    }
   ],
   "source": [
    "df_azdias_rowna.describe()"
   ]
  },
  {
   "cell_type": "code",
   "execution_count": 46,
   "metadata": {},
   "outputs": [
    {
     "data": {
      "image/png": "[encoded data removed]",
      "text/plain": [
       "<matplotlib.figure.Figure at 0x7f25d2e9df98>"
      ]
     },
     "metadata": {
      "needs_background": "light"
     },
     "output_type": "display_data"
    }
   ],
   "source": [
    "# Plot\n",
    "bins_row = np.arange(0, 0.7, 0.05)\n",
    "plt.hist(df_azdias_rowna['frac_rowna_raw'], bins = bins_row, alpha = 0.5, label = 'raw')\n",
    "plt.hist(df_azdias_rowna['frac_rowna_clean'], bins = bins_row, alpha = 0.5, label = 'cleaned')\n",
    "plt.title('Histogram of NAs in entries of demographics data before and after cleaning')\n",
    "plt.xlabel('fraction of NAs per entry')\n",
    "plt.ylabel('frequency')\n",
    "plt.legend();"
   ]
  },
  {
   "cell_type": "code",
   "execution_count": 47,
   "metadata": {},
   "outputs": [],
   "source": [
    "# Write code to divide the data into two subsets based on the number of missing\n",
    "# values in each row.\n",
    "azdias_clean_lowNA = azdias_clean[df_azdias_rowna['frac_rowna_clean']< 0.4]\n",
    "azdias_clean_highNA = azdias_clean[df_azdias_rowna['frac_rowna_clean'] >= 0.4]"
   ]
  },
  {
   "cell_type": "code",
   "execution_count": 48,
   "metadata": {},
   "outputs": [
    {
     "data": {
      "text/plain": [
       "(798070, 93151)"
      ]
     },
     "execution_count": 48,
     "metadata": {},
     "output_type": "execute_result"
    }
   ],
   "source": [
    "# Print number of entries in the two subsets\n",
    "azdias_clean_lowNA.shape[0], azdias_clean_highNA.shape[0]"
   ]
  },
  {
   "cell_type": "code",
   "execution_count": 49,
   "metadata": {},
   "outputs": [
    {
     "data": {
      "text/plain": [
       "True"
      ]
     },
     "execution_count": 49,
     "metadata": {},
     "output_type": "execute_result"
    }
   ],
   "source": [
    "# Check all entries are in one of the two subsets\n",
    "azdias_clean.shape[0] == azdias_clean_lowNA.shape[0] + azdias_clean_highNA.shape[0]"
   ]
  },
  {
   "cell_type": "code",
   "execution_count": 50,
   "metadata": {},
   "outputs": [],
   "source": [
    "# Compare the distribution of values for at least five columns where there are\n",
    "# no or few missing values, between the two subsets."
   ]
  },
  {
   "cell_type": "code",
   "execution_count": 51,
   "metadata": {},
   "outputs": [
    {
     "name": "stdout",
     "output_type": "stream",
     "text": [
      "Number of columns in azdias_clean is 79\n"
     ]
    }
   ],
   "source": [
    "print('Number of columns in azdias_clean is', azdias_clean.shape[1])"
   ]
  },
  {
   "cell_type": "code",
   "execution_count": 52,
   "metadata": {},
   "outputs": [
    {
     "data": {
      "text/plain": [
       "['LP_FAMILIE_FEIN',\n",
       " 'SEMIO_SOZ',\n",
       " 'SEMIO_KRIT',\n",
       " 'HH_EINKOMMEN_SCORE',\n",
       " 'CAMEO_DEUG_2015']"
      ]
     },
     "execution_count": 52,
     "metadata": {},
     "output_type": "execute_result"
    }
   ],
   "source": [
    "# Semi-randomly select five columns for comparison\n",
    "# Selection by manually entering 5 random numbers lower than total number of columns\n",
    "colnumb_select = [15, 22, 31, 42, 52]\n",
    "col_select = list(azdias_clean.columns[colnumb_select])\n",
    "col_select"
   ]
  },
  {
   "cell_type": "code",
   "execution_count": 53,
   "metadata": {},
   "outputs": [
    {
     "name": "stdout",
     "output_type": "stream",
     "text": [
      "0\n",
      "LP_FAMILIE_FEIN\n",
      "Number of not-na emtries (lowNA) 766593\n",
      "Number of not-na entries (highNA) 46836\n",
      "1\n",
      "SEMIO_SOZ\n",
      "Number of not-na emtries (lowNA) 798070\n",
      "Number of not-na entries (highNA) 93151\n",
      "2\n",
      "SEMIO_KRIT\n",
      "Number of not-na emtries (lowNA) 798070\n",
      "Number of not-na entries (highNA) 93151\n",
      "3\n",
      "HH_EINKOMMEN_SCORE\n",
      "Number of not-na emtries (lowNA) 798070\n",
      "Number of not-na entries (highNA) 74803\n",
      "4\n",
      "CAMEO_DEUG_2015\n",
      "Number of not-na emtries (lowNA) 791868\n",
      "Number of not-na entries (highNA) 1\n"
     ]
    },
    {
     "data": {
      "image/png": "[encoded data removed]",
      "text/plain": [
       "<matplotlib.figure.Figure at 0x7f25d2e9d588>"
      ]
     },
     "metadata": {
      "needs_background": "light"
     },
     "output_type": "display_data"
    }
   ],
   "source": [
    "fig, ax = plt.subplots(len(col_select), 2, figsize= (15, 10))\n",
    "plt.suptitle('Comparison of counts per category for a row with low number of NAs (left) and high number (right) for 5 columns', \n",
    "             y= 1.05)\n",
    "for i in range(len(col_select)):\n",
    "    print(i)\n",
    "    print(col_select[i])\n",
    "    print('Number of not-na emtries (lowNA)', azdias_clean_lowNA[col_select[i]].notna().sum())\n",
    "    print('Number of not-na entries (highNA)', azdias_clean_highNA[col_select[i]].notna().sum())\n",
    "    sns.countplot(x= col_select[i], data = azdias_clean_lowNA, ax = ax[i, 0])\n",
    "    sns.countplot(x= col_select[i], data = azdias_clean_highNA, ax = ax[i, 1])\n",
    "fig.tight_layout()\n",
    "    "
   ]
  },
  {
   "cell_type": "code",
   "execution_count": 54,
   "metadata": {},
   "outputs": [
    {
     "data": {
      "text/plain": [
       "ALTERSKATEGORIE_GROB     93073\n",
       "ANREDE_KZ                93151\n",
       "CJT_GESAMTTYP            93048\n",
       "FINANZ_MINIMALIST        93151\n",
       "FINANZ_SPARER            93151\n",
       "FINANZ_VORSORGER         93151\n",
       "FINANZ_ANLEGER           93151\n",
       "FINANZ_UNAUFFAELLIGER    93151\n",
       "FINANZ_HAUSBAUER         93151\n",
       "FINANZTYP                93151\n",
       "GFK_URLAUBERTYP          93048\n",
       "GREEN_AVANTGARDE         93151\n",
       "HEALTH_TYP               18684\n",
       "LP_LEBENSPHASE_FEIN      45761\n",
       "LP_LEBENSPHASE_GROB      45928\n",
       "LP_FAMILIE_FEIN          46836\n",
       "LP_FAMILIE_GROB          46836\n",
       "LP_STATUS_FEIN           93048\n",
       "LP_STATUS_GROB           93048\n",
       "NATIONALITAET_KZ         18762\n",
       "PRAEGENDE_JUGENDJAHRE    13748\n",
       "RETOURTYP_BK_S           93048\n",
       "SEMIO_SOZ                93151\n",
       "SEMIO_FAM                93151\n",
       "SEMIO_REL                93151\n",
       "SEMIO_MAT                93151\n",
       "SEMIO_VERT               93151\n",
       "SEMIO_LUST               93151\n",
       "SEMIO_ERL                93151\n",
       "SEMIO_KULT               93151\n",
       "                         ...  \n",
       "MIN_GEBAEUDEJAHR             3\n",
       "OST_WEST_KZ                  3\n",
       "WOHNLAGE                     3\n",
       "CAMEO_DEUG_2015              1\n",
       "CAMEO_DEU_2015               1\n",
       "CAMEO_INTL_2015              1\n",
       "KBA05_ANTG1                  0\n",
       "KBA05_ANTG2                  0\n",
       "KBA05_ANTG3                  0\n",
       "KBA05_ANTG4                  0\n",
       "KBA05_GBZ                    0\n",
       "BALLRAUM                     3\n",
       "EWDICHTE                     3\n",
       "INNENSTADT                   3\n",
       "GEBAEUDETYP_RASTER           3\n",
       "KKK                          0\n",
       "MOBI_REGIO                   0\n",
       "ONLINE_AFFINITAET        93048\n",
       "REGIOTYP                     0\n",
       "KBA13_ANZAHL_PKW             0\n",
       "PLZ8_ANTG1                   0\n",
       "PLZ8_ANTG2                   0\n",
       "PLZ8_ANTG3                   0\n",
       "PLZ8_ANTG4                   0\n",
       "PLZ8_BAUMAX                  0\n",
       "PLZ8_HHZ                     0\n",
       "PLZ8_GBZ                     0\n",
       "ARBEIT                       3\n",
       "ORTSGR_KLS9                  3\n",
       "RELAT_AB                     3\n",
       "Length: 79, dtype: int64"
      ]
     },
     "execution_count": 54,
     "metadata": {},
     "output_type": "execute_result"
    }
   ],
   "source": [
    "azdias_clean_highNA.notna().sum(axis= 0)"
   ]
  },
  {
   "cell_type": "code",
   "execution_count": 55,
   "metadata": {},
   "outputs": [
    {
     "data": {
      "text/plain": [
       "(798070, 79)"
      ]
     },
     "execution_count": 55,
     "metadata": {},
     "output_type": "execute_result"
    }
   ],
   "source": [
    "# Shape of azdias_clean_lowNA\n",
    "azdias_clean_lowNA.shape"
   ]
  },
  {
   "cell_type": "markdown",
   "metadata": {},
   "source": [
    "#### Discussion 1.1.3: Assess Missing Data in Each Row\n",
    "\n",
    "(Double-click this cell and replace this text with your own text, reporting your observations regarding missing data in rows. Are the data with lots of missing values are qualitatively different from data with few or no missing values?)\n",
    "\n",
    "- The entries/rows with lots of missing values are qualitatively different from entries/rows with few or no missing values: 1) some categories are missing in the case of lots of missing values and 2) the spread between categories is different.\n",
    "- For the entries/rows with lots of missing values, some columns have no entries other than NA."
   ]
  },
  {
   "cell_type": "markdown",
   "metadata": {},
   "source": [
    "### Step 1.2: Select and Re-Encode Features\n",
    "\n",
    "Checking for missing data isn't the only way in which you can prepare a dataset for analysis. Since the unsupervised learning techniques to be used will only work on data that is encoded numerically, you need to make a few encoding changes or additional assumptions to be able to make progress. In addition, while almost all of the values in the dataset are encoded using numbers, not all of them represent numeric values. Check the third column of the feature summary (`feat_info`) for a summary of types of measurement.\n",
    "- For numeric and interval data, these features can be kept without changes.\n",
    "- Most of the variables in the dataset are ordinal in nature. While ordinal values may technically be non-linear in spacing, make the simplifying assumption that the ordinal variables can be treated as being interval in nature (that is, kept without any changes).\n",
    "- Special handling may be necessary for the remaining two variable types: categorical, and 'mixed'.\n",
    "\n",
    "In the first two parts of this sub-step, you will perform an investigation of the categorical and mixed-type features and make a decision on each of them, whether you will keep, drop, or re-encode each. Then, in the last part, you will create a new data frame with only the selected and engineered columns.\n",
    "\n",
    "Data wrangling is often the trickiest part of the data analysis process, and there's a lot of it to be done here. But stick with it: once you're done with this step, you'll be ready to get to the machine learning parts of the project!"
   ]
  },
  {
   "cell_type": "code",
   "execution_count": 56,
   "metadata": {},
   "outputs": [],
   "source": [
    "# How many features are there of each data type?"
   ]
  },
  {
   "cell_type": "code",
   "execution_count": 57,
   "metadata": {},
   "outputs": [
    {
     "data": {
      "text/plain": [
       "5"
      ]
     },
     "execution_count": 57,
     "metadata": {},
     "output_type": "execute_result"
    }
   ],
   "source": [
    "# Get number of different data types for the features\n",
    "len(feat_info_clean['type'].unique())"
   ]
  },
  {
   "cell_type": "code",
   "execution_count": 58,
   "metadata": {},
   "outputs": [
    {
     "data": {
      "text/plain": [
       "array(['categorical', 'ordinal', 'numeric', 'mixed', 'interval'], dtype=object)"
      ]
     },
     "execution_count": 58,
     "metadata": {},
     "output_type": "execute_result"
    }
   ],
   "source": [
    "# Show what these five data types are\n",
    "types= feat_info_clean['type'].unique()\n",
    "types"
   ]
  },
  {
   "cell_type": "code",
   "execution_count": 59,
   "metadata": {},
   "outputs": [
    {
     "name": "stdout",
     "output_type": "stream",
     "text": [
      "Number of categorical features is 21\n",
      "Number of ordinal features is 49\n",
      "Number of numeric features is 7\n",
      "Number of mixed features is 7\n",
      "Number of interval features is 1\n"
     ]
    }
   ],
   "source": [
    "# Get number of features for each data type\n",
    "for t in types:\n",
    "    print('Number of', t, 'features is', len(feat_info_clean[feat_info_clean['type']== t]))"
   ]
  },
  {
   "cell_type": "markdown",
   "metadata": {},
   "source": [
    "#### Step 1.2.1: Re-Encode Categorical Features\n",
    "\n",
    "For categorical data, you would ordinarily need to encode the levels as dummy variables. Depending on the number of categories, perform one of the following:\n",
    "- For binary (two-level) categoricals that take numeric values, you can keep them without needing to do anything.\n",
    "- There is one binary variable that takes on non-numeric values. For this one, you need to re-encode the values as numbers or create a dummy variable.\n",
    "- For multi-level categoricals (three or more values), you can choose to encode the values using multiple dummy variables (e.g. via [OneHotEncoder](http://scikit-learn.org/stable/modules/generated/sklearn.preprocessing.OneHotEncoder.html)), or (to keep things straightforward) just drop them from the analysis. As always, document your choices in the Discussion section."
   ]
  },
  {
   "cell_type": "code",
   "execution_count": 60,
   "metadata": {},
   "outputs": [
    {
     "data": {
      "text/plain": [
       "0             AGER_TYP\n",
       "2            ANREDE_KZ\n",
       "3        CJT_GESAMTTYP\n",
       "10           FINANZTYP\n",
       "12     GFK_URLAUBERTYP\n",
       "13    GREEN_AVANTGARDE\n",
       "17     LP_FAMILIE_FEIN\n",
       "18     LP_FAMILIE_GROB\n",
       "19      LP_STATUS_FEIN\n",
       "20      LP_STATUS_GROB\n",
       "21    NATIONALITAET_KZ\n",
       "38         SHOPPER_TYP\n",
       "39             SOHO_KZ\n",
       "40            TITEL_KZ\n",
       "41            VERS_TYP\n",
       "42            ZABEOTYP\n",
       "47        KK_KUNDENTYP\n",
       "52         GEBAEUDETYP\n",
       "55         OST_WEST_KZ\n",
       "57     CAMEO_DEUG_2015\n",
       "58      CAMEO_DEU_2015\n",
       "Name: attribute, dtype: object"
      ]
     },
     "execution_count": 60,
     "metadata": {},
     "output_type": "execute_result"
    }
   ],
   "source": [
    "# Assess categorical variables: which are binary, which are multi-level, and\n",
    "# which one needs to be re-encoded?\n",
    "attribute_cat = feat_info_clean[feat_info_clean['type']== 'categorical']['attribute']\n",
    "attribute_cat"
   ]
  },
  {
   "cell_type": "code",
   "execution_count": 61,
   "metadata": {},
   "outputs": [
    {
     "name": "stdout",
     "output_type": "stream",
     "text": [
      "Re-encode OST_WEST_KZ\n",
      "3 attribute(s) to keep\n",
      "1 attribute(s) to re-encode\n",
      "17 attribute(s) to drop\n"
     ]
    }
   ],
   "source": [
    "drop_list = [] # list to store variables that need to be dropped\n",
    "keep = 0\n",
    "reencode = 0\n",
    "drop = 0\n",
    "for attr in attribute_cat:\n",
    "    if attr in azdias_clean.columns:\n",
    "        if len(azdias_clean_lowNA[attr].unique()) == 2:\n",
    "            if azdias_clean_lowNA[attr].unique().dtype != 'O': \n",
    "                # print(attr, 'is binary numeric: keep as is.')\n",
    "                keep += 1\n",
    "            else:\n",
    "                print('Re-encode', attr)\n",
    "                reencode += 1\n",
    "        else:\n",
    "            # print(attr, 'is multi-level: drop.')\n",
    "            drop += 1\n",
    "            drop_list.append(attr)\n",
    "    else:\n",
    "        # print(attr, 'is not present in azdias_clean_lowNA: drop')\n",
    "        drop += 1\n",
    "        drop_list.append(attr)\n",
    "\n",
    "print(keep, 'attribute(s) to keep')\n",
    "print(reencode, 'attribute(s) to re-encode')\n",
    "print(drop, 'attribute(s) to drop')"
   ]
  },
  {
   "cell_type": "code",
   "execution_count": 62,
   "metadata": {},
   "outputs": [
    {
     "data": {
      "text/plain": [
       "(798070, 81)"
      ]
     },
     "execution_count": 62,
     "metadata": {},
     "output_type": "execute_result"
    }
   ],
   "source": [
    "# Re-encode categorical variable(s) to be kept in the analysis.\n",
    "azdias_clean_lowNA_reenc = azdias_clean_lowNA.join(pd.get_dummies(azdias_clean_lowNA['OST_WEST_KZ'], prefix= 'OST_WEST_KZ'))\n",
    "azdias_clean_lowNA_reenc.shape"
   ]
  },
  {
   "cell_type": "code",
   "execution_count": 63,
   "metadata": {},
   "outputs": [
    {
     "data": {
      "text/plain": [
       "(798070, 80)"
      ]
     },
     "execution_count": 63,
     "metadata": {},
     "output_type": "execute_result"
    }
   ],
   "source": [
    "azdias_clean_lowNA_reenc.drop(columns= ['OST_WEST_KZ'], inplace = True)\n",
    "azdias_clean_lowNA_reenc.shape"
   ]
  },
  {
   "cell_type": "code",
   "execution_count": 64,
   "metadata": {},
   "outputs": [
    {
     "data": {
      "text/plain": [
       "array(['CAMEO_DEUG_2015', 'CAMEO_DEU_2015', 'CJT_GESAMTTYP', 'FINANZTYP',\n",
       "       'GEBAEUDETYP', 'GFK_URLAUBERTYP', 'LP_FAMILIE_FEIN',\n",
       "       'LP_FAMILIE_GROB', 'LP_STATUS_FEIN', 'LP_STATUS_GROB',\n",
       "       'NATIONALITAET_KZ', 'SHOPPER_TYP', 'VERS_TYP', 'ZABEOTYP'], \n",
       "      dtype='<U21')"
      ]
     },
     "execution_count": 64,
     "metadata": {},
     "output_type": "execute_result"
    }
   ],
   "source": [
    "# See which attributes from the drop_list are still in azdias_clean_lowNA_reenc\n",
    "to_drop = np.intersect1d(drop_list, list(azdias_clean_lowNA_reenc.columns))\n",
    "to_drop"
   ]
  },
  {
   "cell_type": "code",
   "execution_count": 65,
   "metadata": {},
   "outputs": [
    {
     "data": {
      "text/plain": [
       "14"
      ]
     },
     "execution_count": 65,
     "metadata": {},
     "output_type": "execute_result"
    }
   ],
   "source": [
    "# Number of attributes to drop\n",
    "len(to_drop)"
   ]
  },
  {
   "cell_type": "code",
   "execution_count": 66,
   "metadata": {},
   "outputs": [],
   "source": [
    "# Drop the multi-level categoricals\n",
    "azdias_clean_lowNA_reenc.drop(columns= to_drop, inplace = True)"
   ]
  },
  {
   "cell_type": "code",
   "execution_count": 67,
   "metadata": {},
   "outputs": [
    {
     "data": {
      "text/plain": [
       "(798070, 66)"
      ]
     },
     "execution_count": 67,
     "metadata": {},
     "output_type": "execute_result"
    }
   ],
   "source": [
    "azdias_clean_lowNA_reenc.shape"
   ]
  },
  {
   "cell_type": "markdown",
   "metadata": {},
   "source": [
    "The number of columns is now indeed 66 instead of 80, so 14 columns have been dropped. The number of rows is still 798070 as it should be."
   ]
  },
  {
   "cell_type": "markdown",
   "metadata": {},
   "source": [
    "#### Discussion 1.2.1: Re-Encode Categorical Features\n",
    "\n",
    "(Double-click this cell and replace this text with your own text, reporting your findings and decisions regarding categorical features. Which ones did you keep, which did you drop, and what engineering steps did you perform?)\n",
    "\n",
    "- There were three variables that were binary but numeric and they were kept as is.\n",
    "- One variable 'OST_WEST_KZ' was binary but with non-numeric values and was thus re-encoded into the variables 'OST_WEST_KZ_O' and 'OST_WEST_KZ_W'. The original variable was removed.\n",
    "- There were 14 variables that were multi-level categoricals that were still in the cleaned azdias dataframe. They were dropped.\n",
    "\n",
    "The resulting dataframe is called `azdias_clean_lowNA_reenc`."
   ]
  },
  {
   "cell_type": "markdown",
   "metadata": {},
   "source": [
    "#### Step 1.2.2: Engineer Mixed-Type Features\n",
    "\n",
    "There are a handful of features that are marked as \"mixed\" in the feature summary that require special treatment in order to be included in the analysis. There are two in particular that deserve attention; the handling of the rest are up to your own choices:\n",
    "- \"PRAEGENDE_JUGENDJAHRE\" combines information on three dimensions: generation by decade, movement (mainstream vs. avantgarde), and nation (east vs. west). While there aren't enough levels to disentangle east from west, you should create two new variables to capture the other two dimensions: an interval-type variable for decade, and a binary variable for movement.\n",
    "- \"CAMEO_INTL_2015\" combines information on two axes: wealth and life stage. Break up the two-digit codes by their 'tens'-place and 'ones'-place digits into two new ordinal variables (which, for the purposes of this project, is equivalent to just treating them as their raw numeric values).\n",
    "- If you decide to keep or engineer new features around the other mixed-type features, make sure you note your steps in the Discussion section.\n",
    "\n",
    "Be sure to check `Data_Dictionary.md` for the details needed to finish these tasks."
   ]
  },
  {
   "cell_type": "code",
   "execution_count": 68,
   "metadata": {},
   "outputs": [],
   "source": [
    "# Investigate \"PRAEGENDE_JUGENDJAHRE\" and engineer two new variables."
   ]
  },
  {
   "cell_type": "markdown",
   "metadata": {},
   "source": [
    "From `Data_Dictionary.md`:\n",
    "\n",
    "1.18. PRAEGENDE_JUGENDJAHRE\n",
    "Dominating movement of person's youth (avantgarde vs. mainstream; east vs. west)\n",
    "- -1: unknown\n",
    "-  0: unknown\n",
    "-  1: 40s - war years (Mainstream, E+W)\n",
    "-  2: 40s - reconstruction years (Avantgarde, E+W)\n",
    "-  3: 50s - economic miracle (Mainstream, E+W)\n",
    "-  4: 50s - milk bar / Individualisation (Avantgarde, E+W)\n",
    "-  5: 60s - economic miracle (Mainstream, E+W)\n",
    "-  6: 60s - generation 68 / student protestors (Avantgarde, W)\n",
    "-  7: 60s - opponents to the building of the Wall (Avantgarde, E)\n",
    "-  8: 70s - family orientation (Mainstream, E+W)\n",
    "-  9: 70s - peace movement (Avantgarde, E+W)\n",
    "- 10: 80s - Generation Golf (Mainstream, W)\n",
    "- 11: 80s - ecological awareness (Avantgarde, W)\n",
    "- 12: 80s - FDJ / communist party youth organisation (Mainstream, E)\n",
    "- 13: 80s - Swords into ploughshares (Avantgarde, E)\n",
    "- 14: 90s - digital media kids (Mainstream, E+W)\n",
    "- 15: 90s - ecological awareness (Avantgarde, E+W)"
   ]
  },
  {
   "cell_type": "code",
   "execution_count": 69,
   "metadata": {},
   "outputs": [
    {
     "data": {
      "text/plain": [
       "array([  1.,   2.,   3.,   4.,   5.,   6.,   7.,   8.,   9.,  10.,  11.,\n",
       "        12.,  13.,  14.,  15.,  nan])"
      ]
     },
     "execution_count": 69,
     "metadata": {},
     "output_type": "execute_result"
    }
   ],
   "source": [
    "# Print all unique values\n",
    "np.sort(azdias_clean_lowNA_reenc['PRAEGENDE_JUGENDJAHRE'].unique())"
   ]
  },
  {
   "cell_type": "code",
   "execution_count": 70,
   "metadata": {},
   "outputs": [],
   "source": [
    "# Define function to assign the decade\n",
    "def label_decade(row):\n",
    "    if np.isnan(row['PRAEGENDE_JUGENDJAHRE']):\n",
    "        return np.nan\n",
    "    elif row['PRAEGENDE_JUGENDJAHRE'] in [1, 2]:\n",
    "        return '40'\n",
    "    elif row['PRAEGENDE_JUGENDJAHRE'] in [3, 4]:\n",
    "        return '50'\n",
    "    elif row['PRAEGENDE_JUGENDJAHRE'] in [5, 6, 7]:\n",
    "        return '60'\n",
    "    elif row['PRAEGENDE_JUGENDJAHRE'] in [8, 9]:\n",
    "        return '70'\n",
    "    elif row['PRAEGENDE_JUGENDJAHRE'] in [10, 11, 12, 13]:\n",
    "        return '80'\n",
    "    else:\n",
    "        return '90'"
   ]
  },
  {
   "cell_type": "code",
   "execution_count": 71,
   "metadata": {},
   "outputs": [],
   "source": [
    "# Create column with the decade\n",
    "azdias_clean_lowNA_reenc['PRAEGENDE_JUGENDJAHRE_DECADE'] = azdias_clean_lowNA_reenc.apply(lambda row: label_decade(row), axis= 1)"
   ]
  },
  {
   "cell_type": "code",
   "execution_count": 72,
   "metadata": {},
   "outputs": [
    {
     "data": {
      "text/plain": [
       "(798070, 67)"
      ]
     },
     "execution_count": 72,
     "metadata": {},
     "output_type": "execute_result"
    }
   ],
   "source": [
    "# Check there is an additional column\n",
    "azdias_clean_lowNA_reenc.shape"
   ]
  },
  {
   "cell_type": "code",
   "execution_count": 73,
   "metadata": {},
   "outputs": [
    {
     "data": {
      "text/plain": [
       "array(['90', '70', '50', '80', '60', nan, '40'], dtype=object)"
      ]
     },
     "execution_count": 73,
     "metadata": {},
     "output_type": "execute_result"
    }
   ],
   "source": [
    "# Check the unique values are as expected\n",
    "azdias_clean_lowNA_reenc['PRAEGENDE_JUGENDJAHRE_DECADE'].unique()"
   ]
  },
  {
   "cell_type": "code",
   "execution_count": 74,
   "metadata": {},
   "outputs": [],
   "source": [
    "# Define function to assign movement\n",
    "def label_movement(row):\n",
    "    if np.isnan(row['PRAEGENDE_JUGENDJAHRE']):\n",
    "        return np.nan\n",
    "    elif row['PRAEGENDE_JUGENDJAHRE'] in [1, 3, 5, 8, 10, 12, 14]:\n",
    "        return '101'\n",
    "    else:\n",
    "        return '102'"
   ]
  },
  {
   "cell_type": "code",
   "execution_count": 75,
   "metadata": {},
   "outputs": [],
   "source": [
    "# Create column with movement\n",
    "azdias_clean_lowNA_reenc['PRAEGENDE_JUGENDJAHRE_MOVEMENT'] = azdias_clean_lowNA_reenc.apply(lambda row: label_movement(row), axis= 1)"
   ]
  },
  {
   "cell_type": "code",
   "execution_count": 76,
   "metadata": {},
   "outputs": [
    {
     "data": {
      "text/plain": [
       "(798070, 68)"
      ]
     },
     "execution_count": 76,
     "metadata": {},
     "output_type": "execute_result"
    }
   ],
   "source": [
    "# Check there is an additional column\n",
    "azdias_clean_lowNA_reenc.shape"
   ]
  },
  {
   "cell_type": "code",
   "execution_count": 77,
   "metadata": {},
   "outputs": [
    {
     "data": {
      "text/plain": [
       "array(['101', '102', nan], dtype=object)"
      ]
     },
     "execution_count": 77,
     "metadata": {},
     "output_type": "execute_result"
    }
   ],
   "source": [
    "# Check the unique values are as expected\n",
    "azdias_clean_lowNA_reenc['PRAEGENDE_JUGENDJAHRE_MOVEMENT'].unique()"
   ]
  },
  {
   "cell_type": "code",
   "execution_count": 78,
   "metadata": {},
   "outputs": [],
   "source": [
    "# Drop the original feature\n",
    "azdias_clean_lowNA_reenc.drop(columns= ['PRAEGENDE_JUGENDJAHRE'], inplace= True)"
   ]
  },
  {
   "cell_type": "code",
   "execution_count": 79,
   "metadata": {},
   "outputs": [
    {
     "data": {
      "text/plain": [
       "(798070, 67)"
      ]
     },
     "execution_count": 79,
     "metadata": {},
     "output_type": "execute_result"
    }
   ],
   "source": [
    "azdias_clean_lowNA_reenc.shape"
   ]
  },
  {
   "cell_type": "markdown",
   "metadata": {},
   "source": [
    "Engineering two new features from 'PRAEGENDE_JUGENDJAHRE' went as planned."
   ]
  },
  {
   "cell_type": "markdown",
   "metadata": {},
   "source": [
    "From `Data_Dictionary.md`:\n",
    "\n",
    "4.3. CAMEO_INTL_2015\n",
    "German CAMEO: Wealth / Life Stage Typology, mapped to international code\n",
    "- -1: unknown\n",
    "- 11: Wealthy Households - Pre-Family Couples & Singles\n",
    "- 12: Wealthy Households - Young Couples With Children\n",
    "- 13: Wealthy Households - Families With School Age Children\n",
    "- 14: Wealthy Households - Older Families &  Mature Couples\n",
    "- 15: Wealthy Households - Elders In Retirement\n",
    "- 21: Prosperous Households - Pre-Family Couples & Singles\n",
    "- 22: Prosperous Households - Young Couples With Children\n",
    "- 23: Prosperous Households - Families With School Age Children\n",
    "- 24: Prosperous Households - Older Families & Mature Couples\n",
    "- 25: Prosperous Households - Elders In Retirement\n",
    "- 31: Comfortable Households - Pre-Family Couples & Singles\n",
    "- 32: Comfortable Households - Young Couples With Children\n",
    "- 33: Comfortable Households - Families With School Age Children\n",
    "- 34: Comfortable Households - Older Families & Mature Couples\n",
    "- 35: Comfortable Households - Elders In Retirement\n",
    "- 41: Less Affluent Households - Pre-Family Couples & Singles\n",
    "- 42: Less Affluent Households - Young Couples With Children\n",
    "- 43: Less Affluent Households - Families With School Age Children\n",
    "- 44: Less Affluent Households - Older Families & Mature Couples\n",
    "- 45: Less Affluent Households - Elders In Retirement\n",
    "- 51: Poorer Households - Pre-Family Couples & Singles\n",
    "- 52: Poorer Households - Young Couples With Children\n",
    "- 53: Poorer Households - Families With School Age Children\n",
    "- 54: Poorer Households - Older Families & Mature Couples\n",
    "- 55: Poorer Households - Elders In Retirement\n",
    "- XX: unknown"
   ]
  },
  {
   "cell_type": "code",
   "execution_count": 80,
   "metadata": {},
   "outputs": [],
   "source": [
    "# Investigate \"CAMEO_INTL_2015\" and engineer two new variables."
   ]
  },
  {
   "cell_type": "code",
   "execution_count": 81,
   "metadata": {},
   "outputs": [
    {
     "data": {
      "text/plain": [
       "array([ 12.,  13.,  14.,  15.,  22.,  23.,  24.,  25.,  31.,  32.,  33.,\n",
       "        34.,  35.,  41.,  43.,  44.,  45.,  51.,  52.,  54.,  55.,  nan])"
      ]
     },
     "execution_count": 81,
     "metadata": {},
     "output_type": "execute_result"
    }
   ],
   "source": [
    "# Print all unique values\n",
    "np.sort(azdias_clean_lowNA_reenc['CAMEO_INTL_2015'].unique())"
   ]
  },
  {
   "cell_type": "code",
   "execution_count": 82,
   "metadata": {},
   "outputs": [],
   "source": [
    "# Filter of all entries/row that are not NA\n",
    "fltr1= np.invert(np.isnan(azdias_clean_lowNA_reenc['CAMEO_INTL_2015']))"
   ]
  },
  {
   "cell_type": "code",
   "execution_count": 83,
   "metadata": {},
   "outputs": [],
   "source": [
    "azdias_clean_lowNA_reenc.loc[fltr1, 'CAMEO_INTL_2015_WEALTH']= (azdias_clean_lowNA_reenc['CAMEO_INTL_2015']//10)\n",
    "azdias_clean_lowNA_reenc.loc[fltr1, 'CAMEO_INTL_2015_STAGE']= (azdias_clean_lowNA_reenc['CAMEO_INTL_2015']%10)"
   ]
  },
  {
   "cell_type": "code",
   "execution_count": 84,
   "metadata": {},
   "outputs": [
    {
     "data": {
      "text/plain": [
       "array([  1.,   2.,   3.,   4.,   5.,  nan])"
      ]
     },
     "execution_count": 84,
     "metadata": {},
     "output_type": "execute_result"
    }
   ],
   "source": [
    "# Check conversion went ok:\n",
    "# Unique values of the two columns\n",
    "np.sort(azdias_clean_lowNA_reenc['CAMEO_INTL_2015_WEALTH'].unique())"
   ]
  },
  {
   "cell_type": "code",
   "execution_count": 85,
   "metadata": {},
   "outputs": [
    {
     "data": {
      "text/plain": [
       "array([  1.,   2.,   3.,   4.,   5.,  nan])"
      ]
     },
     "execution_count": 85,
     "metadata": {},
     "output_type": "execute_result"
    }
   ],
   "source": [
    "np.sort(azdias_clean_lowNA_reenc['CAMEO_INTL_2015_STAGE'].unique())"
   ]
  },
  {
   "cell_type": "code",
   "execution_count": 86,
   "metadata": {},
   "outputs": [],
   "source": [
    "# Drop the original feature\n",
    "azdias_clean_lowNA_reenc.drop(columns= ['CAMEO_INTL_2015'], inplace= True)"
   ]
  },
  {
   "cell_type": "code",
   "execution_count": 87,
   "metadata": {},
   "outputs": [
    {
     "data": {
      "text/plain": [
       "(798070, 68)"
      ]
     },
     "execution_count": 87,
     "metadata": {},
     "output_type": "execute_result"
    }
   ],
   "source": [
    "azdias_clean_lowNA_reenc.shape"
   ]
  },
  {
   "cell_type": "markdown",
   "metadata": {},
   "source": [
    "The engineering new features from CAMEO_INTL_2015 went as planned."
   ]
  },
  {
   "cell_type": "markdown",
   "metadata": {},
   "source": [
    "#### Discussion 1.2.2: Engineer Mixed-Type Features\n",
    "\n",
    "(Double-click this cell and replace this text with your own text, reporting your findings and decisions regarding mixed-value features. Which ones did you keep, which did you drop, and what engineering steps did you perform?)\n",
    "\n",
    "- For 'PRAEGENDE_JUGENDJAHRE' there were 6 decades and NA's and there were two movements and NA's. I made two new features, one called 'PRAEGENDE_JUGENDJAHRE_DECADE' and one 'PRAEGENDE_JUGENDJAHRE_MOVEMENT'. I dropped the original feature 'PRAEGENDE_JUGENDJAHRE'.\n",
    "- For 'CAMEO_INTL_2015' there were 5 different classes of wealth and 5 life stages plus NAs. I created two new features, one called 'CAMEO_INTL_2015_WEALTH' and one called 'CAMEO_INTL_2015_STAGE'. I dropped the original feature."
   ]
  },
  {
   "cell_type": "markdown",
   "metadata": {},
   "source": [
    "#### Step 1.2.3: Complete Feature Selection\n",
    "\n",
    "In order to finish this step up, you need to make sure that your data frame now only has the columns that you want to keep. To summarize, the dataframe should consist of the following:\n",
    "- All numeric, interval, and ordinal type columns from the original dataset.\n",
    "- Binary categorical features (all numerically-encoded).\n",
    "- Engineered features from other multi-level categorical features and mixed features.\n",
    "\n",
    "Make sure that for any new columns that you have engineered, that you've excluded the original columns from the final dataset. Otherwise, their values will interfere with the analysis later on the project. For example, you should not keep \"PRAEGENDE_JUGENDJAHRE\", since its values won't be useful for the algorithm: only the values derived from it in the engineered features you created should be retained. As a reminder, your data should only be from **the subset with few or no missing values**."
   ]
  },
  {
   "cell_type": "code",
   "execution_count": 88,
   "metadata": {},
   "outputs": [],
   "source": [
    "# If there are other re-engineering tasks you need to perform, make sure you\n",
    "# take care of them here. (Dealing with missing data will come in step 2.1.)"
   ]
  },
  {
   "cell_type": "code",
   "execution_count": 89,
   "metadata": {},
   "outputs": [],
   "source": [
    "# Do whatever you need to in order to ensure that the dataframe only contains\n",
    "# the columns that should be passed to the algorithm functions."
   ]
  },
  {
   "cell_type": "markdown",
   "metadata": {},
   "source": [
    "Dataframe `azdias_clean_lowNA_reenc` is ready to be used for the analysis since it included all from above list of three bullet points, but has excluded the orginal columns."
   ]
  },
  {
   "cell_type": "markdown",
   "metadata": {},
   "source": [
    "### Step 1.3: Create a Cleaning Function\n",
    "\n",
    "Even though you've finished cleaning up the general population demographics data, it's important to look ahead to the future and realize that you'll need to perform the same cleaning steps on the customer demographics data. In this substep, complete the function below to execute the main feature selection, encoding, and re-engineering steps you performed above. Then, when it comes to looking at the customer data in Step 3, you can just run this function on that DataFrame to get the trimmed dataset in a single step."
   ]
  },
  {
   "cell_type": "code",
   "execution_count": 90,
   "metadata": {},
   "outputs": [],
   "source": [
    "# Define function to assign the decade\n",
    "def label_decade(row):\n",
    "    if np.isnan(row['PRAEGENDE_JUGENDJAHRE']):\n",
    "        return np.nan\n",
    "    elif row['PRAEGENDE_JUGENDJAHRE'] in [1, 2]:\n",
    "        return '40'\n",
    "    elif row['PRAEGENDE_JUGENDJAHRE'] in [3, 4]:\n",
    "        return '50'\n",
    "    elif row['PRAEGENDE_JUGENDJAHRE'] in [5, 6, 7]:\n",
    "        return '60'\n",
    "    elif row['PRAEGENDE_JUGENDJAHRE'] in [8, 9]:\n",
    "        return '70'\n",
    "    elif row['PRAEGENDE_JUGENDJAHRE'] in [10, 11, 12, 13]:\n",
    "        return '80'\n",
    "    else:\n",
    "        return '90'"
   ]
  },
  {
   "cell_type": "code",
   "execution_count": 91,
   "metadata": {},
   "outputs": [],
   "source": [
    "# Define function to assign movement\n",
    "def label_movement(row):\n",
    "    if np.isnan(row['PRAEGENDE_JUGENDJAHRE']):\n",
    "        return np.nan\n",
    "    elif row['PRAEGENDE_JUGENDJAHRE'] in [1, 3, 5, 8, 10, 12, 14]:\n",
    "        return '101' # for Mainstream\n",
    "    else:\n",
    "        return '102' # for Avantgarde"
   ]
  },
  {
   "cell_type": "code",
   "execution_count": 92,
   "metadata": {},
   "outputs": [],
   "source": [
    "def clean_data(df, feat_info, col_clean= 'calculated'):\n",
    "    \"\"\"\n",
    "    Perform feature trimming, re-encoding, and engineering for demographics\n",
    "    data\n",
    "    \n",
    "    INPUT:  Demographics DataFrame\n",
    "            Summary of feature attributes DataFrame\n",
    "            col_clean is 'calculated' or 'fixed' whether the columns to be removed is calculated based on missing values\n",
    "                per column or a fixed, hardcoded list\n",
    "    OUTPUT: Trimmed and cleaned demographics DataFrame\n",
    "    \"\"\"\n",
    "    \n",
    "    # Put in code here to execute all main cleaning steps:\n",
    "    # convert missing value codes into NaNs, ...\n",
    "    \n",
    "    # Create copies for the cleaning\n",
    "    df_clean = df.copy()\n",
    "    feat_info_clean = feat_info.copy()\n",
    "    print('Made copy of df')\n",
    "    print('Shape of original dataframe', df.shape)\n",
    "\n",
    "    # Convert the 'missing_or_unknown' column into lists of the missing or unknown values\n",
    "    missing_alpha = [] # list to store columns with alphanumeric missing values\n",
    "    for row in range(len(feat_info_clean)):\n",
    "        # the string that lists the missing or unknown values\n",
    "        miss = feat_info_clean.iloc[row, 3]\n",
    "\n",
    "        if len(miss) > 2: # if this list is not empty\n",
    "            # if the missing values contain something alphanumeric leave all as string\n",
    "            if re.search('[a-zA-Z]', miss): \n",
    "                missing_alpha.append(feat_info_clean.iloc[row, 0])\n",
    "                missing = miss[1:-1].split(',')\n",
    "            else: # if the missing values are all numeric then cast into floats\n",
    "                missing = [float(i) for i in miss[1:-1].split(',')]\n",
    "        else: # if this list is empty\n",
    "            missing = []\n",
    "\n",
    "        # replace the current string in column 'missing_or_unknown' with the list\n",
    "        feat_info_clean.at[row, 'missing_or_unknown'] = missing\n",
    "\n",
    "    # Replace the missing or unknowns with NaN\n",
    "    # Loop over all attributes\n",
    "    # If in the list of missing_or_unknowns then replace with np.nan\n",
    "    for col in list(feat_info_clean['attribute']):\n",
    "        df_clean.loc[df_clean[col].isin(feat_info_clean[feat_info_clean['attribute'] == col].iloc[0, 3]), col] = np.nan\n",
    "    \n",
    "    print('Replaced missing or unknowns with NaN')\n",
    "\n",
    "    # Cast CAMEO_DEUG_2015 and CAMEO_INTL_2015 strings into numeric\n",
    "    for col in ['CAMEO_DEUG_2015', 'CAMEO_INTL_2015']:\n",
    "        df_clean[col] = df_clean[col].astype(float)\n",
    "\n",
    "    # remove selected columns and rows, ... \n",
    "    if col_clean == 'calculated':\n",
    "        # Create dataframe with number of NA's before and after cleaning including the attribute name\n",
    "        na_raw = df.isna().sum(axis= 0)\n",
    "        na_after_clean = df_clean.isna().sum(axis= 0)\n",
    "        df_na = pd.concat([na_raw, na_after_clean], axis = 1)\n",
    "        df_na.columns = ['na_raw', 'na_cleaned']\n",
    "        df_na['attribute'] = np.array(df.columns)\n",
    "        df_na.reset_index(inplace= True, drop= True)\n",
    "\n",
    "        df_na['frac_na_raw'] = df_na['na_raw']/df.shape[0]\n",
    "        df_na['frac_na_cleaned'] = df_na['na_cleaned']/df.shape[0]\n",
    "\n",
    "        # Remove columns with more than 20% missing values\n",
    "        df_clean.drop(df_na[df_na['frac_na_cleaned']>0.2]['attribute'], axis= 1, inplace= True)\n",
    "    elif col_clean == 'fixed':\n",
    "        col_remove = ['AGER_TYP', 'GEBURTSJAHR', 'TITEL_KZ', 'ALTER_HH', 'KK_KUNDENTYP', 'KBA05_BAUMAX']\n",
    "        df_clean.drop(columns= col_remove, inplace= True)\n",
    "    else:\n",
    "        raise ValueError('Invalid col_clean')\n",
    "    \n",
    "    print('Dropped columns with >20% missing values')\n",
    "    print('Shape after dropping columns', df_clean.shape)\n",
    "    \n",
    "    # Create dataframe with number of NA's in each row before and after cleaning \n",
    "    rowna_raw = df.isna().sum(axis= 1)\n",
    "    rowna_clean = df_clean.isna().sum(axis= 1)\n",
    "    df_rowna = pd.concat([rowna_raw, rowna_clean], axis = 1)\n",
    "    df_rowna.columns = ['rowna_raw', 'rowna_cleaned']\n",
    "\n",
    "    # Calculate the fraction of missing values per row\n",
    "    df_rowna['frac_rowna_raw'] = df_rowna['rowna_raw']/df.shape[1]\n",
    "    df_rowna['frac_rowna_clean'] = df_rowna['rowna_cleaned']/df_clean.shape[1]\n",
    "\n",
    "    # Create dataframe with only the rows with low number of missing values\n",
    "    df_clean_lowNA = df_clean[df_rowna['frac_rowna_clean']< 0.4]\n",
    "    \n",
    "    print('Only kept rows with low number of missing values')\n",
    "    print('Shape after dropping rows', df_clean_lowNA.shape)\n",
    "    print('Number of entries/rows with high NA per row thus dropped is', (df_rowna['frac_rowna_clean'] >= 0.4).sum())\n",
    "\n",
    "    # select, re-encode, and engineer column values.\n",
    "    # Re-encode categorical variable(s) to be kept in the analysis.\n",
    "    if 'OST_WEST_KZ' in list(df_clean_lowNA.columns):\n",
    "        df_clean_lowNA_reenc = df_clean_lowNA.join(pd.get_dummies(df_clean_lowNA['OST_WEST_KZ'], prefix= 'OST_WEST_KZ'))\n",
    "    else:\n",
    "        df_clean_lowNA_reenc = df_clean_lowNA.copy()\n",
    "        print('OST_WEST_KZ was removed when dropping columns with high % missing values')\n",
    "\n",
    "    # Create list to store variables that need to be dropped because they are categorical and multi-level\n",
    "    attribute_cat = feat_info_clean[feat_info_clean['type']== 'categorical']['attribute']\n",
    "    drop_list = [] \n",
    "    for attr in attribute_cat:\n",
    "        if (attr in df_clean_lowNA_reenc.columns) and (len(df_clean_lowNA_reenc[attr].unique()) != 2):\n",
    "            drop_list.append(attr)\n",
    "\n",
    "    if 'PRAEGENDE_JUGENDJAHRE' in list(df_clean_lowNA_reenc.columns):\n",
    "        # Create column with the decade\n",
    "        df_clean_lowNA_reenc['PRAEGENDE_JUGENDJAHRE_DECADE'] = df_clean_lowNA_reenc.apply(\n",
    "            lambda row: label_decade(row), axis= 1)\n",
    "\n",
    "        # Create column with movement\n",
    "        df_clean_lowNA_reenc['PRAEGENDE_JUGENDJAHRE_MOVEMENT'] = df_clean_lowNA_reenc.apply(\n",
    "            lambda row: label_movement(row), axis= 1)\n",
    "    else:\n",
    "        \n",
    "        print('PRAEGENDE_JUGENDJAHRE was removed when dropping columns with high % missing values')\n",
    "    \n",
    "    if 'CAMEO_INTL_2015' in list(df_clean_lowNA_reenc.columns):\n",
    "        # Filter of all entries/row that are not NA\n",
    "        fltr1= np.invert(np.isnan(df_clean_lowNA_reenc['CAMEO_INTL_2015']))\n",
    "\n",
    "        df_clean_lowNA_reenc.loc[fltr1, 'CAMEO_INTL_2015_WEALTH']= (df_clean_lowNA_reenc['CAMEO_INTL_2015']//10)\n",
    "        df_clean_lowNA_reenc.loc[fltr1, 'CAMEO_INTL_2015_STAGE']= (df_clean_lowNA_reenc['CAMEO_INTL_2015']%10)\n",
    "    else:\n",
    "        print('CAMEO_INTL_2015 was removed when dropping columns with high % missing values')\n",
    "        \n",
    "    print('Performed re-encoding')\n",
    "    \n",
    "    # Drop original columns that are not needed any more\n",
    "    if 'OST_WEST_KZ' in list(df_clean_lowNA.columns):\n",
    "        to_drop = np.append(['OST_WEST_KZ', 'PRAEGENDE_JUGENDJAHRE', 'CAMEO_INTL_2015'], drop_list)\n",
    "    elif 'PRAEGENDE_JUGENDJAHRE' in list(df_clean_lowNA.columns):\n",
    "        to_drop = np.append(['PRAEGENDE_JUGENDJAHRE', 'CAMEO_INTL_2015'], drop_list)\n",
    "    elif 'CAMEO_INTL_2015' in list(df_clean_lowNA.columns):\n",
    "        to_drop = np.append(['CAMEO_INTL_2015'], drop_list)\n",
    "    else:\n",
    "        to_drop = drop_list       \n",
    "    df_clean_lowNA_reenc.drop(columns= to_drop, inplace= True)\n",
    "    \n",
    "    print('Dropped originals that are not needed any more')\n",
    "    \n",
    "    # Return the cleaned dataframe.\n",
    "    return df_clean_lowNA_reenc"
   ]
  },
  {
   "cell_type": "code",
   "execution_count": 93,
   "metadata": {},
   "outputs": [
    {
     "name": "stdout",
     "output_type": "stream",
     "text": [
      "Made copy of df\n",
      "Shape of original dataframe (891221, 85)\n",
      "Replaced missing or unknowns with NaN\n",
      "Dropped columns with >20% missing values\n",
      "Shape after dropping columns (891221, 79)\n",
      "Only kept rows with low number of missing values\n",
      "Shape after dropping rows (798070, 79)\n",
      "Number of entries/rows with high NA per row thus dropped is 93151\n",
      "Performed re-encoding\n",
      "Dropped originals that are not needed any more\n"
     ]
    }
   ],
   "source": [
    "azdias_clean= clean_data(azdias, feat_info)"
   ]
  },
  {
   "cell_type": "code",
   "execution_count": 94,
   "metadata": {},
   "outputs": [
    {
     "data": {
      "text/plain": [
       "(798070, 68)"
      ]
     },
     "execution_count": 94,
     "metadata": {},
     "output_type": "execute_result"
    }
   ],
   "source": [
    "azdias_clean.shape"
   ]
  },
  {
   "cell_type": "markdown",
   "metadata": {},
   "source": [
    "## Step 2: Feature Transformation\n",
    "\n",
    "### Step 2.1: Apply Feature Scaling\n",
    "\n",
    "Before we apply dimensionality reduction techniques to the data, we need to perform feature scaling so that the principal component vectors are not influenced by the natural differences in scale for features. Starting from this part of the project, you'll want to keep an eye on the [API reference page for sklearn](http://scikit-learn.org/stable/modules/classes.html) to help you navigate to all of the classes and functions that you'll need. In this substep, you'll need to check the following:\n",
    "\n",
    "- sklearn requires that data not have missing values in order for its estimators to work properly. So, before applying the scaler to your data, make sure that you've cleaned the DataFrame of the remaining missing values. This can be as simple as just removing all data points with missing data, or applying an [Imputer](https://scikit-learn.org/0.16/modules/generated/sklearn.preprocessing.Imputer.html) to replace all missing values. You might also try a more complicated procedure where you temporarily remove missing values in order to compute the scaling parameters before re-introducing those missing values and applying imputation. Think about how much missing data you have and what possible effects each approach might have on your analysis, and justify your decision in the discussion section below.\n",
    "- For the actual scaling function, a [StandardScaler](http://scikit-learn.org/stable/modules/generated/sklearn.preprocessing.StandardScaler.html) instance is suggested, scaling each feature to mean 0 and standard deviation 1.\n",
    "- For these classes, you can make use of the `.fit_transform()` method to both fit a procedure to the data as well as apply the transformation to the data at the same time. Don't forget to keep the fit sklearn objects handy, since you'll be applying them to the customer demographics data towards the end of the project."
   ]
  },
  {
   "cell_type": "code",
   "execution_count": 95,
   "metadata": {},
   "outputs": [],
   "source": [
    "# If you've not yet cleaned the dataset of all NaN values, then investigate and\n",
    "# do that now."
   ]
  },
  {
   "cell_type": "code",
   "execution_count": 96,
   "metadata": {},
   "outputs": [
    {
     "data": {
      "text/plain": [
       "54268760"
      ]
     },
     "execution_count": 96,
     "metadata": {},
     "output_type": "execute_result"
    }
   ],
   "source": [
    "# Calculate total number of entries in the dataframe\n",
    "total = azdias_clean.shape[0] * azdias_clean.shape[1]\n",
    "total"
   ]
  },
  {
   "cell_type": "code",
   "execution_count": 97,
   "metadata": {},
   "outputs": [
    {
     "data": {
      "text/plain": [
       "847677"
      ]
     },
     "execution_count": 97,
     "metadata": {},
     "output_type": "execute_result"
    }
   ],
   "source": [
    "# Calculate total number of NAs in whole dataframe\n",
    "total_na = azdias_clean.isna().sum().sum()\n",
    "total_na"
   ]
  },
  {
   "cell_type": "code",
   "execution_count": 98,
   "metadata": {},
   "outputs": [
    {
     "name": "stdout",
     "output_type": "stream",
     "text": [
      "Percentage missing values is 1.6 %.\n"
     ]
    }
   ],
   "source": [
    "print('Percentage missing values is', round(total_na/total*100, 1), '%.')"
   ]
  },
  {
   "cell_type": "code",
   "execution_count": 99,
   "metadata": {},
   "outputs": [
    {
     "name": "stdout",
     "output_type": "stream",
     "text": [
      "Number of rows with NaN is 174861\n"
     ]
    }
   ],
   "source": [
    "print('Number of rows with NaN is', azdias_clean.shape[0] - azdias_clean.dropna().shape[0])"
   ]
  },
  {
   "cell_type": "code",
   "execution_count": 100,
   "metadata": {},
   "outputs": [
    {
     "name": "stdout",
     "output_type": "stream",
     "text": [
      "Percentage of rows in the cleaned dataframe that contain NaN is 22.0 %.\n"
     ]
    }
   ],
   "source": [
    "print('Percentage of rows in the cleaned dataframe that contain NaN is', \n",
    "      round((azdias_clean.shape[0] - azdias_clean.dropna().shape[0])/azdias_clean.shape[0], 2)*100, '%.')"
   ]
  },
  {
   "cell_type": "code",
   "execution_count": 101,
   "metadata": {},
   "outputs": [
    {
     "name": "stdout",
     "output_type": "stream",
     "text": [
      "Percentage of rows dropped during cleaning is 10.0 %.\n"
     ]
    }
   ],
   "source": [
    "print('Percentage of rows dropped during cleaning is', \n",
    "      round((azdias.shape[0] - azdias_clean.shape[0])/azdias.shape[0], 2)*100, '%.')"
   ]
  },
  {
   "cell_type": "code",
   "execution_count": 102,
   "metadata": {},
   "outputs": [
    {
     "name": "stdout",
     "output_type": "stream",
     "text": [
      "Percentage of rows without NaN compared to original number of rows is 70.0 %.\n"
     ]
    }
   ],
   "source": [
    "print('Percentage of rows without NaN compared to original number of rows is', \n",
    "      round(azdias_clean.dropna().shape[0]/azdias.shape[0], 2)*100, '%.')"
   ]
  },
  {
   "cell_type": "code",
   "execution_count": 103,
   "metadata": {},
   "outputs": [],
   "source": [
    "# Impute the missing values with the most_frequent value in that column\n",
    "azdias_clean2 = Imputer(strategy= 'most_frequent').fit_transform(azdias_clean)"
   ]
  },
  {
   "cell_type": "code",
   "execution_count": 104,
   "metadata": {},
   "outputs": [],
   "source": [
    "# Apply feature scaling to the general population demographics data.\n",
    "# And convert into pd.DataFrame\n",
    "scaler= StandardScaler().fit(azdias_clean2)\n",
    "azdias_scaled = pd.DataFrame(scaler.transform(azdias_clean2), columns= list(pd.DataFrame(azdias_clean).columns))"
   ]
  },
  {
   "cell_type": "code",
   "execution_count": 105,
   "metadata": {},
   "outputs": [
    {
     "data": {
      "text/html": [
       "<div>\n",
       "<style scoped>\n",
       "    .dataframe tbody tr th:only-of-type {\n",
       "        vertical-align: middle;\n",
       "    }\n",
       "\n",
       "    .dataframe tbody tr th {\n",
       "        vertical-align: top;\n",
       "    }\n",
       "\n",
       "    .dataframe thead th {\n",
       "        text-align: right;\n",
       "    }\n",
       "</style>\n",
       "<table border=\"1\" class=\"dataframe\">\n",
       "  <thead>\n",
       "    <tr style=\"text-align: right;\">\n",
       "      <th></th>\n",
       "      <th>ALTERSKATEGORIE_GROB</th>\n",
       "      <th>ANREDE_KZ</th>\n",
       "      <th>FINANZ_MINIMALIST</th>\n",
       "      <th>FINANZ_SPARER</th>\n",
       "      <th>FINANZ_VORSORGER</th>\n",
       "      <th>FINANZ_ANLEGER</th>\n",
       "      <th>FINANZ_UNAUFFAELLIGER</th>\n",
       "      <th>FINANZ_HAUSBAUER</th>\n",
       "      <th>GREEN_AVANTGARDE</th>\n",
       "      <th>HEALTH_TYP</th>\n",
       "      <th>...</th>\n",
       "      <th>PLZ8_GBZ</th>\n",
       "      <th>ARBEIT</th>\n",
       "      <th>ORTSGR_KLS9</th>\n",
       "      <th>RELAT_AB</th>\n",
       "      <th>OST_WEST_KZ_O</th>\n",
       "      <th>OST_WEST_KZ_W</th>\n",
       "      <th>PRAEGENDE_JUGENDJAHRE_DECADE</th>\n",
       "      <th>PRAEGENDE_JUGENDJAHRE_MOVEMENT</th>\n",
       "      <th>CAMEO_INTL_2015_WEALTH</th>\n",
       "      <th>CAMEO_INTL_2015_STAGE</th>\n",
       "    </tr>\n",
       "  </thead>\n",
       "  <tbody>\n",
       "    <tr>\n",
       "      <th>0</th>\n",
       "      <td>-1.766651</td>\n",
       "      <td>0.957909</td>\n",
       "      <td>-1.494590</td>\n",
       "      <td>1.537915</td>\n",
       "      <td>-1.040683</td>\n",
       "      <td>1.465956</td>\n",
       "      <td>0.958624</td>\n",
       "      <td>1.339321</td>\n",
       "      <td>-0.530406</td>\n",
       "      <td>1.010153</td>\n",
       "      <td>...</td>\n",
       "      <td>0.574312</td>\n",
       "      <td>-0.171399</td>\n",
       "      <td>-0.127039</td>\n",
       "      <td>0.684884</td>\n",
       "      <td>-0.517426</td>\n",
       "      <td>0.517426</td>\n",
       "      <td>1.098060</td>\n",
       "      <td>-0.530406</td>\n",
       "      <td>1.175655</td>\n",
       "      <td>-1.248888</td>\n",
       "    </tr>\n",
       "    <tr>\n",
       "      <th>1</th>\n",
       "      <td>0.200522</td>\n",
       "      <td>0.957909</td>\n",
       "      <td>-1.494590</td>\n",
       "      <td>0.864556</td>\n",
       "      <td>-1.766970</td>\n",
       "      <td>-0.571003</td>\n",
       "      <td>0.244102</td>\n",
       "      <td>1.339321</td>\n",
       "      <td>1.885350</td>\n",
       "      <td>1.010153</td>\n",
       "      <td>...</td>\n",
       "      <td>0.574312</td>\n",
       "      <td>-0.171399</td>\n",
       "      <td>-0.127039</td>\n",
       "      <td>-0.789027</td>\n",
       "      <td>-0.517426</td>\n",
       "      <td>0.517426</td>\n",
       "      <td>1.098060</td>\n",
       "      <td>1.885350</td>\n",
       "      <td>-0.869680</td>\n",
       "      <td>0.767096</td>\n",
       "    </tr>\n",
       "    <tr>\n",
       "      <th>2</th>\n",
       "      <td>1.184109</td>\n",
       "      <td>0.957909</td>\n",
       "      <td>0.683149</td>\n",
       "      <td>-0.482163</td>\n",
       "      <td>1.138176</td>\n",
       "      <td>-0.571003</td>\n",
       "      <td>-1.184941</td>\n",
       "      <td>-0.791198</td>\n",
       "      <td>-0.530406</td>\n",
       "      <td>-0.311827</td>\n",
       "      <td>...</td>\n",
       "      <td>0.574312</td>\n",
       "      <td>-1.173148</td>\n",
       "      <td>-0.997548</td>\n",
       "      <td>-0.052072</td>\n",
       "      <td>-0.517426</td>\n",
       "      <td>0.517426</td>\n",
       "      <td>-0.267788</td>\n",
       "      <td>-0.530406</td>\n",
       "      <td>-1.551458</td>\n",
       "      <td>-0.576893</td>\n",
       "    </tr>\n",
       "    <tr>\n",
       "      <th>3</th>\n",
       "      <td>0.200522</td>\n",
       "      <td>-1.043941</td>\n",
       "      <td>0.683149</td>\n",
       "      <td>0.191196</td>\n",
       "      <td>0.411889</td>\n",
       "      <td>-1.249989</td>\n",
       "      <td>0.244102</td>\n",
       "      <td>-0.791198</td>\n",
       "      <td>-0.530406</td>\n",
       "      <td>1.010153</td>\n",
       "      <td>...</td>\n",
       "      <td>-0.337193</td>\n",
       "      <td>0.830349</td>\n",
       "      <td>0.308215</td>\n",
       "      <td>1.421840</td>\n",
       "      <td>-0.517426</td>\n",
       "      <td>0.517426</td>\n",
       "      <td>-0.267788</td>\n",
       "      <td>-0.530406</td>\n",
       "      <td>0.493877</td>\n",
       "      <td>0.095102</td>\n",
       "    </tr>\n",
       "    <tr>\n",
       "      <th>4</th>\n",
       "      <td>-1.766651</td>\n",
       "      <td>0.957909</td>\n",
       "      <td>-0.042764</td>\n",
       "      <td>-1.155523</td>\n",
       "      <td>1.138176</td>\n",
       "      <td>-0.571003</td>\n",
       "      <td>-0.470419</td>\n",
       "      <td>1.339321</td>\n",
       "      <td>-0.530406</td>\n",
       "      <td>1.010153</td>\n",
       "      <td>...</td>\n",
       "      <td>1.485816</td>\n",
       "      <td>-1.173148</td>\n",
       "      <td>-0.997548</td>\n",
       "      <td>-0.052072</td>\n",
       "      <td>-0.517426</td>\n",
       "      <td>0.517426</td>\n",
       "      <td>-1.633635</td>\n",
       "      <td>-0.530406</td>\n",
       "      <td>1.175655</td>\n",
       "      <td>0.767096</td>\n",
       "    </tr>\n",
       "  </tbody>\n",
       "</table>\n",
       "<p>5 rows × 68 columns</p>\n",
       "</div>"
      ],
      "text/plain": [
       "   ALTERSKATEGORIE_GROB  ANREDE_KZ  FINANZ_MINIMALIST  FINANZ_SPARER  \\\n",
       "0             -1.766651   0.957909          -1.494590       1.537915   \n",
       "1              0.200522   0.957909          -1.494590       0.864556   \n",
       "2              1.184109   0.957909           0.683149      -0.482163   \n",
       "3              0.200522  -1.043941           0.683149       0.191196   \n",
       "4             -1.766651   0.957909          -0.042764      -1.155523   \n",
       "\n",
       "   FINANZ_VORSORGER  FINANZ_ANLEGER  FINANZ_UNAUFFAELLIGER  FINANZ_HAUSBAUER  \\\n",
       "0         -1.040683        1.465956               0.958624          1.339321   \n",
       "1         -1.766970       -0.571003               0.244102          1.339321   \n",
       "2          1.138176       -0.571003              -1.184941         -0.791198   \n",
       "3          0.411889       -1.249989               0.244102         -0.791198   \n",
       "4          1.138176       -0.571003              -0.470419          1.339321   \n",
       "\n",
       "   GREEN_AVANTGARDE  HEALTH_TYP          ...            PLZ8_GBZ    ARBEIT  \\\n",
       "0         -0.530406    1.010153          ...            0.574312 -0.171399   \n",
       "1          1.885350    1.010153          ...            0.574312 -0.171399   \n",
       "2         -0.530406   -0.311827          ...            0.574312 -1.173148   \n",
       "3         -0.530406    1.010153          ...           -0.337193  0.830349   \n",
       "4         -0.530406    1.010153          ...            1.485816 -1.173148   \n",
       "\n",
       "   ORTSGR_KLS9  RELAT_AB  OST_WEST_KZ_O  OST_WEST_KZ_W  \\\n",
       "0    -0.127039  0.684884      -0.517426       0.517426   \n",
       "1    -0.127039 -0.789027      -0.517426       0.517426   \n",
       "2    -0.997548 -0.052072      -0.517426       0.517426   \n",
       "3     0.308215  1.421840      -0.517426       0.517426   \n",
       "4    -0.997548 -0.052072      -0.517426       0.517426   \n",
       "\n",
       "   PRAEGENDE_JUGENDJAHRE_DECADE  PRAEGENDE_JUGENDJAHRE_MOVEMENT  \\\n",
       "0                      1.098060                       -0.530406   \n",
       "1                      1.098060                        1.885350   \n",
       "2                     -0.267788                       -0.530406   \n",
       "3                     -0.267788                       -0.530406   \n",
       "4                     -1.633635                       -0.530406   \n",
       "\n",
       "   CAMEO_INTL_2015_WEALTH  CAMEO_INTL_2015_STAGE  \n",
       "0                1.175655              -1.248888  \n",
       "1               -0.869680               0.767096  \n",
       "2               -1.551458              -0.576893  \n",
       "3                0.493877               0.095102  \n",
       "4                1.175655               0.767096  \n",
       "\n",
       "[5 rows x 68 columns]"
      ]
     },
     "execution_count": 105,
     "metadata": {},
     "output_type": "execute_result"
    }
   ],
   "source": [
    "azdias_scaled.head()"
   ]
  },
  {
   "cell_type": "markdown",
   "metadata": {},
   "source": [
    "### Discussion 2.1: Apply Feature Scaling\n",
    "\n",
    "(Double-click this cell and replace this text with your own text, reporting your decisions regarding feature scaling.)\n",
    "\n",
    "- Dropping all rows with NaN would mean only having 78% the data after cleaning and cleaning already decreased the number of entries by 10%. Therefore, simply dropping those entries is undesirable. \n",
    "- In this case it is better to impute. Imputing with the mode of that column seems most logical here. Another option would be to use the mean for numerical features/columns/attributes and the mode for categorical ones. For simplicity the mode is used for all types. In the sklearn-preprocessing class Imputer this can be achieved by setting the parameter 'strategy' to \"most_frequent\".\n",
    "- Scaling was performed with sklearn-preprocessing class StandardScaler with all default parameters."
   ]
  },
  {
   "cell_type": "markdown",
   "metadata": {},
   "source": [
    "### Step 2.2: Perform Dimensionality Reduction\n",
    "\n",
    "On your scaled data, you are now ready to apply dimensionality reduction techniques.\n",
    "\n",
    "- Use sklearn's [PCA](http://scikit-learn.org/stable/modules/generated/sklearn.decomposition.PCA.html) class to apply principal component analysis on the data, thus finding the vectors of maximal variance in the data. To start, you should not set any parameters (so all components are computed) or set a number of components that is at least half the number of features (so there's enough features to see the general trend in variability).\n",
    "- Check out the ratio of variance explained by each principal component as well as the cumulative variance explained. Try plotting the cumulative or sequential values using matplotlib's [`plot()`](https://matplotlib.org/api/_as_gen/matplotlib.pyplot.plot.html) function. Based on what you find, select a value for the number of transformed features you'll retain for the clustering part of the project.\n",
    "- Once you've made a choice for the number of components to keep, make sure you re-fit a PCA instance to perform the decided-on transformation."
   ]
  },
  {
   "cell_type": "code",
   "execution_count": 106,
   "metadata": {},
   "outputs": [],
   "source": [
    "# Apply PCA to the data.\n",
    "pca = PCA()\n",
    "azdias_pca = pca.fit_transform(azdias_scaled)"
   ]
  },
  {
   "cell_type": "code",
   "execution_count": 107,
   "metadata": {},
   "outputs": [
    {
     "data": {
      "image/png": "[encoded data removed]",
      "text/plain": [
       "<matplotlib.figure.Figure at 0x7f24ef253b70>"
      ]
     },
     "metadata": {
      "needs_background": "light"
     },
     "output_type": "display_data"
    }
   ],
   "source": [
    "# Investigate the variance accounted for by each principal component.\n",
    "num_components = len(pca.explained_variance_ratio_)\n",
    "ind = np.arange(num_components)\n",
    "vals = pca.explained_variance_ratio_\n",
    "cumvals = np.cumsum(vals)\n",
    "\n",
    "plt.figure(figsize = (10, 6))\n",
    "plt.bar(ind, vals)\n",
    "plt.plot(ind, cumvals, label= 'Cum Var Explained')\n",
    "plt.plot([-0.5, 70], [0.9, 0.9], linestyle= '--', label= '90% Var Explained')\n",
    "plt.plot([-0.5, 70], [0.02, 0.02], linestyle= '--', label= '2% Var Explained')\n",
    "plt.legend()\n",
    "plt.xlim(-0.5, 70)\n",
    "plt.xlabel('Principal Component')\n",
    "plt.ylabel('Variance Explained (%)')\n",
    "plt.title('Explained Variance Per Principal Component');"
   ]
  },
  {
   "cell_type": "code",
   "execution_count": 108,
   "metadata": {},
   "outputs": [
    {
     "name": "stdout",
     "output_type": "stream",
     "text": [
      "Number of components required to explain 90.0 % of the variance is 33\n"
     ]
    }
   ],
   "source": [
    "# Calculate component at which the cumulative explained variance reaches 90%\n",
    "cutoff = 0.9 # chosen cumulative explained variance that I want to retain\n",
    "n_comp90 = ind[cumvals > cutoff][0]\n",
    "print('Number of components required to explain', cutoff*100, '% of the variance is', n_comp90)"
   ]
  },
  {
   "cell_type": "code",
   "execution_count": 109,
   "metadata": {},
   "outputs": [
    {
     "name": "stdout",
     "output_type": "stream",
     "text": [
      "Number of components beyond which the explained variance is less than 2% is 11\n"
     ]
    }
   ],
   "source": [
    "# Calculate component beyond which the explained variance is less than 2%\n",
    "n_comp02 = ind[vals < 0.02][0]\n",
    "print('Number of components beyond which the explained variance is less than 2% is', n_comp02)"
   ]
  },
  {
   "cell_type": "code",
   "execution_count": 110,
   "metadata": {},
   "outputs": [
    {
     "name": "stdout",
     "output_type": "stream",
     "text": [
      "Cumulative variance explained with 11 components is 67.0 %.\n"
     ]
    }
   ],
   "source": [
    "print('Cumulative variance explained with', n_comp02, 'components is', round(cumvals[n_comp02], 2)*100, '%.')"
   ]
  },
  {
   "cell_type": "code",
   "execution_count": 111,
   "metadata": {},
   "outputs": [
    {
     "data": {
      "image/png": "[encoded data removed]",
      "text/plain": [
       "<matplotlib.figure.Figure at 0x7f25d19e2c88>"
      ]
     },
     "metadata": {
      "needs_background": "light"
     },
     "output_type": "display_data"
    }
   ],
   "source": [
    "num_components = len(pca.explained_variance_ratio_)\n",
    "ind = np.arange(num_components)\n",
    "vals = pca.explained_variance_ratio_\n",
    "cumvals = np.cumsum(vals)\n",
    "\n",
    "plt.figure(figsize = (10, 6))\n",
    "plt.bar(ind, vals)\n",
    "plt.plot(ind, cumvals)\n",
    "for i in range(num_components):\n",
    "    plt.annotate(r\"%s%%\" % ((str(vals[i]*100)[:4])), (ind[i]+0.2, vals[i]), va=\"bottom\", ha=\"center\", fontsize=12)\n",
    "plt.plot([-0.5, 11.5], [cutoff, cutoff], linestyle= '--')\n",
    "plt.xlim(-0.5, 11.5)\n",
    "plt.xlabel('Principal Component')\n",
    "plt.ylabel('Variance Explained (%)')\n",
    "plt.title('Explained Variance Per Principal Component: first 12 components');"
   ]
  },
  {
   "cell_type": "code",
   "execution_count": 112,
   "metadata": {},
   "outputs": [],
   "source": [
    "# Re-apply PCA to the data while selecting for number of components to retain.\n",
    "pca11 = PCA(n_components = n_comp02)\n",
    "pca11_az = pca11.fit(azdias_scaled)\n",
    "azdias_pca11 = pca11_az.transform(azdias_scaled)"
   ]
  },
  {
   "cell_type": "markdown",
   "metadata": {},
   "source": [
    "### Discussion 2.2: Perform Dimensionality Reduction\n",
    "\n",
    "(Double-click this cell and replace this text with your own text, reporting your findings and decisions regarding dimensionality reduction. How many principal components / transformed features are you retaining for the next step of the analysis?)\n",
    "\n",
    "- Initially I wanted to retain so many components that 90% of the variance would be explained. But that meant keeping as many as 33 components, which is approximately halving the number of components. I wanted a larger reduction of the number of components.\n",
    "- The scree plot also shows that there are a lot of components that add a little to the explained variance. \n",
    "- I changed my criteria to keep the most important ones, which I defined as ones that explain at least 2% of the variance. This meant keeping the first 11 components. These 11 components explained 67% of the variance. Which also means that adding an additional 22 components only adds 23% to the cumulative explained variance. Adding so many components is in my eyes not worth the gain in cumulative explained variance."
   ]
  },
  {
   "cell_type": "markdown",
   "metadata": {},
   "source": [
    "### Step 2.3: Interpret Principal Components\n",
    "\n",
    "Now that we have our transformed principal components, it's a nice idea to check out the weight of each variable on the first few components to see if they can be interpreted in some fashion.\n",
    "\n",
    "As a reminder, each principal component is a unit vector that points in the direction of highest variance (after accounting for the variance captured by earlier principal components). The further a weight is from zero, the more the principal component is in the direction of the corresponding feature. If two features have large weights of the same sign (both positive or both negative), then increases in one tend expect to be associated with increases in the other. To contrast, features with different signs can be expected to show a negative correlation: increases in one variable should result in a decrease in the other.\n",
    "\n",
    "- To investigate the features, you should map each weight to their corresponding feature name, then sort the features according to weight. The most interesting features for each principal component, then, will be those at the beginning and end of the sorted list. Use the data dictionary document to help you understand these most prominent features, their relationships, and what a positive or negative value on the principal component might indicate.\n",
    "- You should investigate and interpret feature associations from the first three principal components in this substep. To help facilitate this, you should write a function that you can call at any time to print the sorted list of feature weights, for the *i*-th principal component. This might come in handy in the next step of the project, when you interpret the tendencies of the discovered clusters."
   ]
  },
  {
   "cell_type": "code",
   "execution_count": 113,
   "metadata": {},
   "outputs": [],
   "source": [
    "# Map weights for the first principal component to corresponding feature names\n",
    "# and then print the linked values, sorted by weight.\n",
    "# HINT: Try defining a function here or in a new cell that you can reuse in the\n",
    "# other cells."
   ]
  },
  {
   "cell_type": "code",
   "execution_count": 114,
   "metadata": {},
   "outputs": [],
   "source": [
    "def pca_results(scaled_dataset, pca, component_i):\n",
    "    '''\n",
    "    Plots the feature weights for the [i]th component of interest\n",
    "    Creates a DataFrme with the PCA results\n",
    "    \n",
    "    INPUT:\n",
    "    scaled_dataset: DataFrame with the data before pca\n",
    "    pca: PCA of scaled_dataset\n",
    "    component_i: [i]the component of which to plot the feature weights\n",
    "    \n",
    "    RETURNS:\n",
    "    DataFrame with the PCA results \n",
    "    '''\n",
    "    # Dimension indexing\n",
    "    dimensions = ['Dimension {}'.format(i) for i in range(1,len(pca11.components_)+1)]\n",
    "    \n",
    "    # PCA components\n",
    "    components = pd.DataFrame(np.round(pca11.components_, 4), columns = list(pd.DataFrame(azdias_clean).columns))\n",
    "    components.index = dimensions\n",
    "    \n",
    "    # PCA explained variance\n",
    "    variance_ratios = pd.DataFrame(np.round(pca11.explained_variance_ratio_.reshape(len(pca11.components_), 1), 4), \n",
    "                               columns = ['Explained Variance'])\n",
    "    variance_ratios.index = dimensions\n",
    "    \n",
    "    fig, ax = plt.subplots(figsize= (16, 8))\n",
    "    dim = components.iloc[component_i -1:component_i, :].index[0]\n",
    "    components.iloc[component_i -1:component_i, :].sort_values(by= dim, axis= 1).plot(ax= ax, kind= 'bar')\n",
    "    ax.legend(loc= 'upper center', ncol= 6, bbox_to_anchor= (0.5, 1.5))\n",
    "    ax.set_xlabel('Principal Component')\n",
    "    ax.set_ylabel('Feature Weights')\n",
    "    ax.set_xticklabels('%.f'%component_i, rotation= 0)\n",
    "\n",
    "    for i, ev in enumerate(pca11.explained_variance_ratio_[component_i - 1:component_i]):\n",
    "        ax.text(i-0.1, ax.get_ylim()[1]-0.05, 'Explained Variance \\n %.4f'%(ev))\n",
    "    \n",
    "    return pd.concat([variance_ratios, components.sort_values(by= dim, axis= 1)], axis= 1).loc[dim, :]"
   ]
  },
  {
   "cell_type": "code",
   "execution_count": 115,
   "metadata": {},
   "outputs": [
    {
     "data": {
      "text/plain": [
       "Explained Variance                0.1703\n",
       "PLZ8_ANTG1                       -0.2247\n",
       "MOBI_REGIO                       -0.2189\n",
       "KBA05_GBZ                        -0.2112\n",
       "KBA05_ANTG1                      -0.2085\n",
       "FINANZ_MINIMALIST                -0.2034\n",
       "PLZ8_GBZ                         -0.1671\n",
       "KONSUMNAEHE                      -0.1663\n",
       "INNENSTADT                       -0.1636\n",
       "LP_LEBENSPHASE_FEIN              -0.1467\n",
       "LP_LEBENSPHASE_GROB              -0.1328\n",
       "BALLRAUM                         -0.1259\n",
       "CAMEO_INTL_2015_STAGE            -0.1173\n",
       "GEBAEUDETYP_RASTER               -0.1171\n",
       "PRAEGENDE_JUGENDJAHRE_MOVEMENT   -0.1046\n",
       "GREEN_AVANTGARDE                 -0.1046\n",
       "ANZ_PERSONEN                     -0.0957\n",
       "ALTERSKATEGORIE_GROB             -0.0921\n",
       "FINANZ_VORSORGER                 -0.0919\n",
       "WOHNLAGE                         -0.0843\n",
       "KBA13_ANZAHL_PKW                 -0.0755\n",
       "ONLINE_AFFINITAET                -0.0615\n",
       "OST_WEST_KZ_W                    -0.0595\n",
       "SEMIO_ERL                        -0.0559\n",
       "WOHNDAUER_2008                   -0.0554\n",
       "SEMIO_LUST                       -0.0538\n",
       "MIN_GEBAEUDEJAHR                 -0.0453\n",
       "SEMIO_VERT                       -0.0407\n",
       "ANZ_TITEL                        -0.0035\n",
       "RETOURTYP_BK_S                   -0.0034\n",
       "                                   ...  \n",
       "PLZ8_HHZ                          0.0415\n",
       "SEMIO_KAEM                        0.0432\n",
       "FINANZ_ANLEGER                    0.0485\n",
       "SEMIO_KULT                        0.0529\n",
       "FINANZ_UNAUFFAELLIGER             0.0531\n",
       "REGIOTYP                          0.0548\n",
       "W_KEIT_KIND_HH                    0.0579\n",
       "OST_WEST_KZ_O                     0.0595\n",
       "SEMIO_FAM                         0.0623\n",
       "SEMIO_MAT                         0.0638\n",
       "SEMIO_TRADV                       0.0655\n",
       "SEMIO_RAT                         0.0747\n",
       "PRAEGENDE_JUGENDJAHRE_DECADE      0.0809\n",
       "SEMIO_REL                         0.0884\n",
       "SEMIO_PFLICHT                     0.0909\n",
       "FINANZ_SPARER                     0.1206\n",
       "RELAT_AB                          0.1328\n",
       "KBA05_ANTG3                       0.1330\n",
       "ANZ_HAUSHALTE_AKTIV               0.1345\n",
       "ARBEIT                            0.1428\n",
       "PLZ8_ANTG2                        0.1510\n",
       "KBA05_ANTG4                       0.1524\n",
       "FINANZ_HAUSBAUER                  0.1636\n",
       "EWDICHTE                          0.1933\n",
       "ORTSGR_KLS9                       0.1965\n",
       "HH_EINKOMMEN_SCORE                0.1965\n",
       "CAMEO_INTL_2015_WEALTH            0.1996\n",
       "PLZ8_BAUMAX                       0.2145\n",
       "PLZ8_ANTG4                        0.2172\n",
       "PLZ8_ANTG3                        0.2239\n",
       "Name: Dimension 1, Length: 69, dtype: float64"
      ]
     },
     "execution_count": 115,
     "metadata": {},
     "output_type": "execute_result"
    },
    {
     "data": {
      "image/png": "[encoded data removed]",
      "text/plain": [
       "<matplotlib.figure.Figure at 0x7f25d19cf898>"
      ]
     },
     "metadata": {
      "needs_background": "light"
     },
     "output_type": "display_data"
    }
   ],
   "source": [
    "result_component1= pca_results(azdias_scaled, pca11_az, 1)\n",
    "result_component1"
   ]
  },
  {
   "cell_type": "code",
   "execution_count": 116,
   "metadata": {},
   "outputs": [
    {
     "data": {
      "text/plain": [
       "Explained Variance              0.1266\n",
       "SEMIO_REL                      -0.2653\n",
       "PRAEGENDE_JUGENDJAHRE_DECADE   -0.2515\n",
       "FINANZ_SPARER                  -0.2502\n",
       "SEMIO_PFLICHT                  -0.2395\n",
       "SEMIO_TRADV                    -0.2379\n",
       "FINANZ_UNAUFFAELLIGER          -0.2343\n",
       "SEMIO_KULT                     -0.2245\n",
       "FINANZ_ANLEGER                 -0.2123\n",
       "SEMIO_FAM                      -0.1901\n",
       "SEMIO_RAT                      -0.1798\n",
       "SEMIO_MAT                      -0.1690\n",
       "ONLINE_AFFINITAET              -0.1592\n",
       "SEMIO_SOZ                      -0.1049\n",
       "PLZ8_ANTG1                     -0.0663\n",
       "HEALTH_TYP                     -0.0630\n",
       "SEMIO_VERT                     -0.0626\n",
       "KBA05_GBZ                      -0.0615\n",
       "INNENSTADT                     -0.0578\n",
       "ANZ_PERSONEN                   -0.0574\n",
       "PLZ8_GBZ                       -0.0535\n",
       "KONSUMNAEHE                    -0.0523\n",
       "MOBI_REGIO                     -0.0492\n",
       "BALLRAUM                       -0.0475\n",
       "WOHNLAGE                       -0.0461\n",
       "KBA05_ANTG1                    -0.0441\n",
       "MIN_GEBAEUDEJAHR               -0.0424\n",
       "LP_LEBENSPHASE_GROB            -0.0348\n",
       "GEBAEUDETYP_RASTER             -0.0318\n",
       "KBA13_ANZAHL_PKW               -0.0288\n",
       "                                 ...  \n",
       "PLZ8_HHZ                        0.0103\n",
       "CAMEO_INTL_2015_STAGE           0.0162\n",
       "OST_WEST_KZ_O                   0.0231\n",
       "ANZ_HH_TITEL                    0.0272\n",
       "KBA05_ANTG3                     0.0311\n",
       "HH_EINKOMMEN_SCORE              0.0327\n",
       "PLZ8_ANTG2                      0.0469\n",
       "ANZ_HAUSHALTE_AKTIV             0.0471\n",
       "CAMEO_INTL_2015_WEALTH          0.0500\n",
       "RELAT_AB                        0.0506\n",
       "ARBEIT                          0.0534\n",
       "KBA05_ANTG4                     0.0535\n",
       "PLZ8_BAUMAX                     0.0632\n",
       "WOHNDAUER_2008                  0.0650\n",
       "SEMIO_DOM                       0.0678\n",
       "PLZ8_ANTG4                      0.0679\n",
       "PLZ8_ANTG3                      0.0684\n",
       "ORTSGR_KLS9                     0.0712\n",
       "EWDICHTE                        0.0719\n",
       "ANREDE_KZ                       0.0874\n",
       "FINANZ_MINIMALIST               0.0901\n",
       "FINANZ_HAUSBAUER                0.0987\n",
       "SEMIO_KAEM                      0.1062\n",
       "W_KEIT_KIND_HH                  0.1121\n",
       "SEMIO_KRIT                      0.1132\n",
       "RETOURTYP_BK_S                  0.1633\n",
       "SEMIO_LUST                      0.1886\n",
       "SEMIO_ERL                       0.2355\n",
       "FINANZ_VORSORGER                0.2421\n",
       "ALTERSKATEGORIE_GROB            0.2704\n",
       "Name: Dimension 2, Length: 69, dtype: float64"
      ]
     },
     "execution_count": 116,
     "metadata": {},
     "output_type": "execute_result"
    },
    {
     "data": {
      "image/png": "[encoded data removed]",
      "text/plain": [
       "<matplotlib.figure.Figure at 0x7f25d2f9eac8>"
      ]
     },
     "metadata": {
      "needs_background": "light"
     },
     "output_type": "display_data"
    }
   ],
   "source": [
    "# Map weights for the second principal component to corresponding feature names\n",
    "# and then print the linked values, sorted by weight.\n",
    "result_component2= pca_results(azdias_scaled, pca11_az, 2)\n",
    "result_component2"
   ]
  },
  {
   "cell_type": "code",
   "execution_count": 117,
   "metadata": {},
   "outputs": [
    {
     "data": {
      "text/plain": [
       "Explained Variance                0.0894\n",
       "ANREDE_KZ                        -0.3680\n",
       "SEMIO_KAEM                       -0.3367\n",
       "SEMIO_DOM                        -0.3129\n",
       "SEMIO_KRIT                       -0.2772\n",
       "SEMIO_RAT                        -0.2162\n",
       "FINANZ_ANLEGER                   -0.1891\n",
       "SEMIO_ERL                        -0.1772\n",
       "PRAEGENDE_JUGENDJAHRE_DECADE     -0.1096\n",
       "FINANZ_SPARER                    -0.1069\n",
       "FINANZ_UNAUFFAELLIGER            -0.0992\n",
       "SEMIO_PFLICHT                    -0.0791\n",
       "SEMIO_TRADV                      -0.0767\n",
       "ONLINE_AFFINITAET                -0.0485\n",
       "FINANZ_HAUSBAUER                 -0.0471\n",
       "PLZ8_ANTG1                       -0.0438\n",
       "INNENSTADT                       -0.0421\n",
       "PLZ8_GBZ                         -0.0374\n",
       "KONSUMNAEHE                      -0.0357\n",
       "BALLRAUM                         -0.0343\n",
       "HEALTH_TYP                       -0.0343\n",
       "GEBAEUDETYP_RASTER               -0.0292\n",
       "HH_EINKOMMEN_SCORE               -0.0259\n",
       "KBA13_ANZAHL_PKW                 -0.0233\n",
       "WOHNLAGE                         -0.0222\n",
       "KBA05_GBZ                        -0.0205\n",
       "KKK                              -0.0186\n",
       "OST_WEST_KZ_W                    -0.0184\n",
       "MOBI_REGIO                       -0.0181\n",
       "MIN_GEBAEUDEJAHR                 -0.0161\n",
       "                                   ...  \n",
       "LP_LEBENSPHASE_FEIN               0.0100\n",
       "ANZ_TITEL                         0.0101\n",
       "ANZ_HH_TITEL                      0.0126\n",
       "OST_WEST_KZ_O                     0.0184\n",
       "ANZ_HAUSHALTE_AKTIV               0.0215\n",
       "CAMEO_INTL_2015_WEALTH            0.0220\n",
       "KBA05_ANTG4                       0.0245\n",
       "PLZ8_ANTG2                        0.0275\n",
       "RELAT_AB                          0.0303\n",
       "WOHNDAUER_2008                    0.0339\n",
       "ARBEIT                            0.0345\n",
       "PLZ8_ANTG3                        0.0426\n",
       "PLZ8_ANTG4                        0.0445\n",
       "EWDICHTE                          0.0448\n",
       "ORTSGR_KLS9                       0.0463\n",
       "PLZ8_BAUMAX                       0.0471\n",
       "PRAEGENDE_JUGENDJAHRE_MOVEMENT    0.0542\n",
       "GREEN_AVANTGARDE                  0.0542\n",
       "SEMIO_MAT                         0.0562\n",
       "SEMIO_LUST                        0.0629\n",
       "SEMIO_REL                         0.0688\n",
       "ALTERSKATEGORIE_GROB              0.0775\n",
       "W_KEIT_KIND_HH                    0.0788\n",
       "FINANZ_VORSORGER                  0.0991\n",
       "RETOURTYP_BK_S                    0.1055\n",
       "FINANZ_MINIMALIST                 0.1602\n",
       "SEMIO_KULT                        0.2352\n",
       "SEMIO_FAM                         0.2490\n",
       "SEMIO_SOZ                         0.2623\n",
       "SEMIO_VERT                        0.3463\n",
       "Name: Dimension 3, Length: 69, dtype: float64"
      ]
     },
     "execution_count": 117,
     "metadata": {},
     "output_type": "execute_result"
    },
    {
     "data": {
      "image/png": "[encoded data removed]",
      "text/plain": [
       "<matplotlib.figure.Figure at 0x7f25d20f1748>"
      ]
     },
     "metadata": {
      "needs_background": "light"
     },
     "output_type": "display_data"
    }
   ],
   "source": [
    "# Map weights for the third principal component to corresponding feature names\n",
    "# and then print the linked values, sorted by weight.\n",
    "result_component3= pca_results(azdias_scaled, pca11_az, 3)\n",
    "result_component3"
   ]
  },
  {
   "cell_type": "markdown",
   "metadata": {},
   "source": [
    "### Discussion 2.3: Interpret Principal Components\n",
    "\n",
    "(Double-click this cell and replace this text with your own text, reporting your observations from detailed investigation of the first few principal components generated. Can we interpret positive and negative values from them in a meaningful way?)\n",
    "\n",
    "- The first principal component explains 17% of the variance. Four of the PLZ8 features, MOBI_REGIO, two of the KBA05 features and FINANZ_MINIMALIST have the highest weights into the first principal component. PLZ8_ANTG1, MOBI_REGIO, KBA05_GB and KBA05_ANTG1 are in opposite direction to PLZ8_BAUMAX, PLZ8_ANTG4 and PLZ8_ANTG3. It is logical that PLZ8_ANTG1 has opposite direction to PLZ8_ANTG3 and PLZ8_ANTG4, because they are all three about the number of people in a family where ANTG1 are 1-2 family homes and ANTG3 and ANTG4 are 6-10 and 10+ family homes and it makes sense that if there are a lot of small family homes that there are less large family homes.\n",
    "- The second principal component explains 13% of the variance. SEMIO_REL, PRAEGENDE_JUGENDJAHRE_DECADE, FINANZ_SPARER, SEMIO_PFLICHT, SEMIO_TRADV, FINANZ_UNAUFFAELLIGER, SEMIO_KULT, FINANZ_ANLEGER and SEMIO_ERL, FINANZ_VORSORGER, ALTERSKATEGORIE_GROB all have absolute weights larger than 0.2, where the former 8 have opposite direction to the latter 3. It makes sense that the features that have a large weight for the second principal component are different from the features that have large weights for the first principal component.\n",
    "- The third principal component explains 9% of the variance. Especially SEMIO features have large weights for this principal component. ANREDE_KZ, SEMIO_KAEM, SEMIO_DOM, SEMIO_KRIT, SEMIO_RAT and SEMIO_KULT, SEMIO_FAM, SEMIO_SOZ, SEMIO_VERT have weights larger than 0.2, where the former 5 have opposite direction to the latter 4. "
   ]
  },
  {
   "cell_type": "markdown",
   "metadata": {},
   "source": [
    "## Step 3: Clustering\n",
    "\n",
    "### Step 3.1: Apply Clustering to General Population\n",
    "\n",
    "You've assessed and cleaned the demographics data, then scaled and transformed them. Now, it's time to see how the data clusters in the principal components space. In this substep, you will apply k-means clustering to the dataset and use the average within-cluster distances from each point to their assigned cluster's centroid to decide on a number of clusters to keep.\n",
    "\n",
    "- Use sklearn's [KMeans](http://scikit-learn.org/stable/modules/generated/sklearn.cluster.KMeans.html#sklearn.cluster.KMeans) class to perform k-means clustering on the PCA-transformed data.\n",
    "- Then, compute the average difference from each point to its assigned cluster's center. **Hint**: The KMeans object's `.score()` method might be useful here, but note that in sklearn, scores tend to be defined so that larger is better. Try applying it to a small, toy dataset, or use an internet search to help your understanding.\n",
    "- Perform the above two steps for a number of different cluster counts. You can then see how the average distance decreases with an increasing number of clusters. However, each additional cluster provides a smaller net benefit. Use this fact to select a final number of clusters in which to group the data. **Warning**: because of the large size of the dataset, it can take a long time for the algorithm to resolve. The more clusters to fit, the longer the algorithm will take. You should test for cluster counts through at least 10 clusters to get the full picture, but you shouldn't need to test for a number of clusters above about 30.\n",
    "- Once you've selected a final number of clusters to use, re-fit a KMeans instance to perform the clustering operation. Make sure that you also obtain the cluster assignments for the general demographics data, since you'll be using them in the final Step 3.3."
   ]
  },
  {
   "cell_type": "code",
   "execution_count": 118,
   "metadata": {},
   "outputs": [],
   "source": [
    "# Over a number of different cluster counts...\n",
    "    # run k-means clustering on the data and...\n",
    "    # compute the average within-cluster distances.    "
   ]
  },
  {
   "cell_type": "code",
   "execution_count": 119,
   "metadata": {},
   "outputs": [],
   "source": [
    "nclust_list = [2, 3, 4, 5, 6, 7, 8, 9, 10, 15, 20]"
   ]
  },
  {
   "cell_type": "code",
   "execution_count": 120,
   "metadata": {},
   "outputs": [
    {
     "name": "stdout",
     "output_type": "stream",
     "text": [
      "2\n",
      "3\n",
      "4\n",
      "5\n",
      "6\n",
      "7\n",
      "8\n",
      "9\n",
      "10\n",
      "15\n",
      "20\n"
     ]
    }
   ],
   "source": [
    "score_kmeans= []\n",
    "n_cluster= []\n",
    "for n_clust in nclust_list:\n",
    "    print(n_clust)\n",
    "    kmeans = KMeans(n_clusters = n_clust, random_state = 21)\n",
    "    model = kmeans.fit(azdias_pca11)\n",
    "    score_kmeans.append(np.abs(model.score(azdias_pca11)))\n",
    "    n_cluster.append(n_clust)"
   ]
  },
  {
   "cell_type": "code",
   "execution_count": null,
   "metadata": {},
   "outputs": [],
   "source": [
    "# Investigate the change in within-cluster distance across number of clusters.\n",
    "# HINT: Use matplotlib's plot function to visualize this relationship"
   ]
  },
  {
   "cell_type": "code",
   "execution_count": 121,
   "metadata": {},
   "outputs": [
    {
     "data": {
      "image/png": "[encoded data removed]",
      "text/plain": [
       "<matplotlib.figure.Figure at 0x7f25d1f006d8>"
      ]
     },
     "metadata": {
      "needs_background": "light"
     },
     "output_type": "display_data"
    }
   ],
   "source": [
    "plt.plot(n_cluster, score_kmeans)\n",
    "plt.scatter(n_cluster, score_kmeans)\n",
    "plt.xticks(np.arange(2, 21, 2))\n",
    "plt.grid(visible= True)\n",
    "plt.xlabel('Number of clusters')\n",
    "plt.ylabel('Average within cluster distance')\n",
    "plt.title('Elbow plot for kmeans clustering of demographic data after PCA with 11 components');"
   ]
  },
  {
   "cell_type": "code",
   "execution_count": 122,
   "metadata": {},
   "outputs": [],
   "source": [
    "# Re-fit the k-means model with the selected number of clusters and obtain\n",
    "# cluster predictions for the general population demographics data.\n",
    "kmeans5= KMeans(n_clusters = 5, random_state = 21)\n",
    "kmeans5.fit(azdias_pca11)\n",
    "azdias_pred_kmeans5 = kmeans5.predict(azdias_pca11)\n",
    "azdias_score_kmeans5 = np.abs(kmeans5.score(azdias_pca11))"
   ]
  },
  {
   "cell_type": "markdown",
   "metadata": {},
   "source": [
    "### Discussion 3.1: Apply Clustering to General Population\n",
    "\n",
    "(Double-click this cell and replace this text with your own text, reporting your findings and decisions regarding clustering. Into how many clusters have you decided to segment the population?)\n",
    "- I ran kmeans with several number of clusters and made an elbow plot. The way to use this is to determine where the 'kink' or elbow is, so beyond where an increase in number of clusters has a much lower effect on the reduction in average within cluster distance. By eye I estimated the elbow to be at 5 clusters. Therefore, I re-fitted the k-means model with 5 clusters."
   ]
  },
  {
   "cell_type": "markdown",
   "metadata": {},
   "source": [
    "### Step 3.2: Apply All Steps to the Customer Data\n",
    "\n",
    "Now that you have clusters and cluster centers for the general population, it's time to see how the customer data maps on to those clusters. Take care to not confuse this for re-fitting all of the models to the customer data. Instead, you're going to use the fits from the general population to clean, transform, and cluster the customer data. In the last step of the project, you will interpret how the general population fits apply to the customer data.\n",
    "\n",
    "- Don't forget when loading in the customers data, that it is semicolon (`;`) delimited.\n",
    "- Apply the same feature wrangling, selection, and engineering steps to the customer demographics using the `clean_data()` function you created earlier. (You can assume that the customer demographics data has similar meaning behind missing data patterns as the general demographics data.)\n",
    "- Use the sklearn objects from the general demographics data, and apply their transformations to the customers data. That is, you should not be using a `.fit()` or `.fit_transform()` method to re-fit the old objects, nor should you be creating new sklearn objects! Carry the data through the feature scaling, PCA, and clustering steps, obtaining cluster assignments for all of the data in the customer demographics data."
   ]
  },
  {
   "cell_type": "code",
   "execution_count": 123,
   "metadata": {},
   "outputs": [],
   "source": [
    "# Load in the customer demographics data.\n",
    "customers = pd.read_csv('Udacity_CUSTOMERS_Subset.csv', delimiter= ';')"
   ]
  },
  {
   "cell_type": "code",
   "execution_count": 124,
   "metadata": {},
   "outputs": [],
   "source": [
    "# Apply preprocessing, feature transformation, and clustering from the general\n",
    "# demographics onto the customer data, obtaining cluster predictions for the\n",
    "# customer demographics data."
   ]
  },
  {
   "cell_type": "code",
   "execution_count": 125,
   "metadata": {},
   "outputs": [
    {
     "data": {
      "text/plain": [
       "(798070, 68)"
      ]
     },
     "execution_count": 125,
     "metadata": {},
     "output_type": "execute_result"
    }
   ],
   "source": [
    "azdias_clean.shape"
   ]
  },
  {
   "cell_type": "code",
   "execution_count": 126,
   "metadata": {},
   "outputs": [
    {
     "name": "stdout",
     "output_type": "stream",
     "text": [
      "Made copy of df\n",
      "Shape of original dataframe (191652, 85)\n",
      "Replaced missing or unknowns with NaN\n",
      "Dropped columns with >20% missing values\n",
      "Shape after dropping columns (191652, 32)\n",
      "Only kept rows with low number of missing values\n",
      "Shape after dropping rows (191652, 32)\n",
      "Number of entries/rows with high NA per row thus dropped is 0\n",
      "OST_WEST_KZ was removed when dropping columns with high % missing values\n",
      "PRAEGENDE_JUGENDJAHRE was removed when dropping columns with high % missing values\n",
      "CAMEO_INTL_2015 was removed when dropping columns with high % missing values\n",
      "Performed re-encoding\n",
      "Dropped originals that are not needed any more\n"
     ]
    }
   ],
   "source": [
    "# Clean the customer data\n",
    "customers_clean = clean_data(customers, feat_info)"
   ]
  },
  {
   "cell_type": "code",
   "execution_count": 127,
   "metadata": {},
   "outputs": [
    {
     "data": {
      "text/plain": [
       "(191652, 26)"
      ]
     },
     "execution_count": 127,
     "metadata": {},
     "output_type": "execute_result"
    }
   ],
   "source": [
    "customers_clean.shape"
   ]
  },
  {
   "cell_type": "markdown",
   "metadata": {},
   "source": [
    "After cleaning the customer data, only 26 columns are retained, whereas for the general population data 68 columns are left. I can imagine this could have an effect on rest of the analysis. Therefore, I decided not create an adapted cleaning function in which the columns are dropped that are dropped in the general data rather than dropping all columns with >20% missing values. This is built in with a parameter such that the cleaning function is flexible."
   ]
  },
  {
   "cell_type": "code",
   "execution_count": 128,
   "metadata": {},
   "outputs": [
    {
     "name": "stdout",
     "output_type": "stream",
     "text": [
      "Made copy of df\n",
      "Shape of original dataframe (191652, 85)\n",
      "Replaced missing or unknowns with NaN\n",
      "Dropped columns with >20% missing values\n",
      "Shape after dropping columns (191652, 79)\n",
      "Only kept rows with low number of missing values\n",
      "Shape after dropping rows (141725, 79)\n",
      "Number of entries/rows with high NA per row thus dropped is 49927\n",
      "Performed re-encoding\n",
      "Dropped originals that are not needed any more\n"
     ]
    }
   ],
   "source": [
    "# Clean customer data such that the same columns are removed as for the general demographics data\n",
    "customers_clean = clean_data(customers, feat_info, col_clean= 'fixed')"
   ]
  },
  {
   "cell_type": "code",
   "execution_count": 129,
   "metadata": {},
   "outputs": [
    {
     "data": {
      "text/plain": [
       "(141725, 68)"
      ]
     },
     "execution_count": 129,
     "metadata": {},
     "output_type": "execute_result"
    }
   ],
   "source": [
    "customers_clean.shape"
   ]
  },
  {
   "cell_type": "code",
   "execution_count": 130,
   "metadata": {},
   "outputs": [],
   "source": [
    "# Impute remaining NAs\n",
    "customers_clean2 = Imputer(strategy= 'most_frequent').fit_transform(customers_clean)"
   ]
  },
  {
   "cell_type": "code",
   "execution_count": 131,
   "metadata": {},
   "outputs": [],
   "source": [
    "# Perform feature scaling\n",
    "scaler_cust= StandardScaler().fit(customers_clean2)\n",
    "customers_scaled = pd.DataFrame(scaler_cust.transform(customers_clean2), columns= list(pd.DataFrame(customers_clean).columns))"
   ]
  },
  {
   "cell_type": "code",
   "execution_count": 132,
   "metadata": {},
   "outputs": [],
   "source": [
    "# Apply PCA while retaining 11 components\n",
    "customers_pca11 = pca11_az.transform(customers_scaled)"
   ]
  },
  {
   "cell_type": "code",
   "execution_count": 133,
   "metadata": {},
   "outputs": [],
   "source": [
    "# Cluster with the model based on the general population\n",
    "customers_pred_kmeans5 = kmeans5.predict(customers_pca11) "
   ]
  },
  {
   "cell_type": "markdown",
   "metadata": {},
   "source": [
    "### Step 3.3: Compare Customer Data to Demographics Data\n",
    "\n",
    "At this point, you have clustered data based on demographics of the general population of Germany, and seen how the customer data for a mail-order sales company maps onto those demographic clusters. In this final substep, you will compare the two cluster distributions to see where the strongest customer base for the company is.\n",
    "\n",
    "Consider the proportion of persons in each cluster for the general population, and the proportions for the customers. If we think the company's customer base to be universal, then the cluster assignment proportions should be fairly similar between the two. If there are only particular segments of the population that are interested in the company's products, then we should see a mismatch from one to the other. If there is a higher proportion of persons in a cluster for the customer data compared to the general population (e.g. 5% of persons are assigned to a cluster for the general population, but 15% of the customer data is closest to that cluster's centroid) then that suggests the people in that cluster to be a target audience for the company. On the other hand, the proportion of the data in a cluster being larger in the general population than the customer data (e.g. only 2% of customers closest to a population centroid that captures 6% of the data) suggests that group of persons to be outside of the target demographics.\n",
    "\n",
    "Take a look at the following points in this step:\n",
    "\n",
    "- Compute the proportion of data points in each cluster for the general population and the customer data. Visualizations will be useful here: both for the individual dataset proportions, but also to visualize the ratios in cluster representation between groups. Seaborn's [`countplot()`](https://seaborn.pydata.org/generated/seaborn.countplot.html) or [`barplot()`](https://seaborn.pydata.org/generated/seaborn.barplot.html) function could be handy.\n",
    "  - Recall the analysis you performed in step 1.1.3 of the project, where you separated out certain data points from the dataset if they had more than a specified threshold of missing values. If you found that this group was qualitatively different from the main bulk of the data, you should treat this as an additional data cluster in this analysis. Make sure that you account for the number of data points in this subset, for both the general population and customer datasets, when making your computations!\n",
    "- Which cluster or clusters are overrepresented in the customer dataset compared to the general population? Select at least one such cluster and infer what kind of people might be represented by that cluster. Use the principal component interpretations from step 2.3 or look at additional components to help you make this inference. Alternatively, you can use the `.inverse_transform()` method of the PCA and StandardScaler objects to transform centroids back to the original data space and interpret the retrieved values directly.\n",
    "- Perform a similar investigation for the underrepresented clusters. Which cluster or clusters are underrepresented in the customer dataset compared to the general population, and what kinds of people are typified by these clusters?"
   ]
  },
  {
   "cell_type": "code",
   "execution_count": 134,
   "metadata": {},
   "outputs": [],
   "source": [
    "# Compare the proportion of data in each cluster for the customer data to the\n",
    "# proportion of data in each cluster for the general population."
   ]
  },
  {
   "cell_type": "code",
   "execution_count": 135,
   "metadata": {},
   "outputs": [],
   "source": [
    "# Create list with counts per cluster for general population\n",
    "azdias_counts = []\n",
    "for i in range(5):\n",
    "    azdias_counts.append((azdias_pred_kmeans5== i).sum())\n",
    "# There were 4993151 entries/rows with more than 20% NA\n",
    "azdias_counts.append(93151)"
   ]
  },
  {
   "cell_type": "code",
   "execution_count": 136,
   "metadata": {},
   "outputs": [
    {
     "data": {
      "text/plain": [
       "[174992, 152284, 162327, 156661, 151806, 93151]"
      ]
     },
     "execution_count": 136,
     "metadata": {},
     "output_type": "execute_result"
    }
   ],
   "source": [
    "azdias_counts"
   ]
  },
  {
   "cell_type": "code",
   "execution_count": 137,
   "metadata": {},
   "outputs": [],
   "source": [
    "# Create list with percentages per cluster for general population\n",
    "azdias_perc = azdias_counts/sum(azdias_counts)"
   ]
  },
  {
   "cell_type": "code",
   "execution_count": 138,
   "metadata": {},
   "outputs": [],
   "source": [
    "# Create list with counts per cluster for customers\n",
    "customers_counts = []\n",
    "for i in range(5):\n",
    "    customers_counts.append((customers_pred_kmeans5== i).sum())\n",
    "# There were 49927 entries/rows with more than 20% NA\n",
    "customers_counts.append(49927)"
   ]
  },
  {
   "cell_type": "code",
   "execution_count": 139,
   "metadata": {},
   "outputs": [
    {
     "data": {
      "text/plain": [
       "[29197, 24559, 51143, 22444, 14382, 49927]"
      ]
     },
     "execution_count": 139,
     "metadata": {},
     "output_type": "execute_result"
    }
   ],
   "source": [
    "customers_counts"
   ]
  },
  {
   "cell_type": "code",
   "execution_count": 140,
   "metadata": {},
   "outputs": [],
   "source": [
    "# Create list with percentages per cluster for customers\n",
    "customers_perc = customers_counts/sum(customers_counts)"
   ]
  },
  {
   "cell_type": "code",
   "execution_count": 141,
   "metadata": {},
   "outputs": [
    {
     "data": {
      "text/html": [
       "<div>\n",
       "<style scoped>\n",
       "    .dataframe tbody tr th:only-of-type {\n",
       "        vertical-align: middle;\n",
       "    }\n",
       "\n",
       "    .dataframe tbody tr th {\n",
       "        vertical-align: top;\n",
       "    }\n",
       "\n",
       "    .dataframe thead th {\n",
       "        text-align: right;\n",
       "    }\n",
       "</style>\n",
       "<table border=\"1\" class=\"dataframe\">\n",
       "  <thead>\n",
       "    <tr style=\"text-align: right;\">\n",
       "      <th></th>\n",
       "      <th>general</th>\n",
       "      <th>customers</th>\n",
       "    </tr>\n",
       "  </thead>\n",
       "  <tbody>\n",
       "    <tr>\n",
       "      <th>0</th>\n",
       "      <td>0.196351</td>\n",
       "      <td>0.152344</td>\n",
       "    </tr>\n",
       "    <tr>\n",
       "      <th>1</th>\n",
       "      <td>0.170871</td>\n",
       "      <td>0.128144</td>\n",
       "    </tr>\n",
       "    <tr>\n",
       "      <th>2</th>\n",
       "      <td>0.182140</td>\n",
       "      <td>0.266853</td>\n",
       "    </tr>\n",
       "    <tr>\n",
       "      <th>3</th>\n",
       "      <td>0.175782</td>\n",
       "      <td>0.117108</td>\n",
       "    </tr>\n",
       "    <tr>\n",
       "      <th>4</th>\n",
       "      <td>0.170335</td>\n",
       "      <td>0.075042</td>\n",
       "    </tr>\n",
       "    <tr>\n",
       "      <th>5</th>\n",
       "      <td>0.104521</td>\n",
       "      <td>0.260509</td>\n",
       "    </tr>\n",
       "  </tbody>\n",
       "</table>\n",
       "</div>"
      ],
      "text/plain": [
       "    general  customers\n",
       "0  0.196351   0.152344\n",
       "1  0.170871   0.128144\n",
       "2  0.182140   0.266853\n",
       "3  0.175782   0.117108\n",
       "4  0.170335   0.075042\n",
       "5  0.104521   0.260509"
      ]
     },
     "execution_count": 141,
     "metadata": {},
     "output_type": "execute_result"
    }
   ],
   "source": [
    "# Create dataframe with proportions in each cluster\n",
    "df_cluster_perc = pd.DataFrame(list(zip(azdias_perc, customers_perc)), columns = ['general', 'customers'])\n",
    "df_cluster_perc"
   ]
  },
  {
   "cell_type": "code",
   "execution_count": 142,
   "metadata": {},
   "outputs": [
    {
     "data": {
      "text/plain": [
       "Text(0.5,1,'Percentage per cluster')"
      ]
     },
     "execution_count": 142,
     "metadata": {},
     "output_type": "execute_result"
    },
    {
     "data": {
      "image/png": "[encoded data removed]",
      "text/plain": [
       "<matplotlib.figure.Figure at 0x7f25d2fa0b00>"
      ]
     },
     "metadata": {
      "needs_background": "light"
     },
     "output_type": "display_data"
    }
   ],
   "source": [
    "plt.bar(x= df_cluster_perc.index, height= df_cluster_perc['general'], width= 0.3, label= 'general')\n",
    "plt.bar(x= df_cluster_perc.index, height= df_cluster_perc['customers'], width= 0.3, align= 'edge', label= 'customer', alpha= 0.8)\n",
    "plt.legend()\n",
    "plt.xlabel('Cluster')\n",
    "plt.ylabel('Percentage')\n",
    "plt.title('Percentage per cluster')"
   ]
  },
  {
   "cell_type": "code",
   "execution_count": 143,
   "metadata": {},
   "outputs": [],
   "source": [
    "# What kinds of people are part of a cluster that is overrepresented in the\n",
    "# customer data compared to the general population?"
   ]
  },
  {
   "cell_type": "markdown",
   "metadata": {},
   "source": [
    "Cluster 4 (and the highNA cluster) is overrepresented in the customer data. I will take cluster 4 to investigate what type of people they are."
   ]
  },
  {
   "cell_type": "code",
   "execution_count": 144,
   "metadata": {},
   "outputs": [
    {
     "data": {
      "text/plain": [
       "array([ 4.4, -2. , -0.2,  0.2,  0. , -0.1, -0. ,  0. ,  0.1,  0. ,  0.1])"
      ]
     },
     "execution_count": 144,
     "metadata": {},
     "output_type": "execute_result"
    }
   ],
   "source": [
    "# Show the coordinates of the center of cluster 3\n",
    "(kmeans5.cluster_centers_[4]).round(1)"
   ]
  },
  {
   "cell_type": "code",
   "execution_count": 145,
   "metadata": {},
   "outputs": [],
   "source": [
    "# Invert the pca\n",
    "cluster4_pcainv = pca11_az.inverse_transform(kmeans5.cluster_centers_[4]).round(1)\n",
    "# Also invert scaling\n",
    "cluster4_scalpcainv = scaler.inverse_transform(pca11_az.inverse_transform(kmeans5.cluster_centers_[4])).round(1)\n",
    "# Create df\n",
    "df_cluster4 = pd.DataFrame(\n",
    "    data= np.concatenate((cluster4_pcainv.reshape(68, 1), cluster4_scalpcainv.reshape(68, 1)), axis= 1)\n",
    "    , index = azdias_clean.columns, columns= ['PCAinverse', 'ScalerPCA_inverse'])"
   ]
  },
  {
   "cell_type": "code",
   "execution_count": 146,
   "metadata": {},
   "outputs": [
    {
     "data": {
      "text/html": [
       "<div>\n",
       "<style scoped>\n",
       "    .dataframe tbody tr th:only-of-type {\n",
       "        vertical-align: middle;\n",
       "    }\n",
       "\n",
       "    .dataframe tbody tr th {\n",
       "        vertical-align: top;\n",
       "    }\n",
       "\n",
       "    .dataframe thead th {\n",
       "        text-align: right;\n",
       "    }\n",
       "</style>\n",
       "<table border=\"1\" class=\"dataframe\">\n",
       "  <thead>\n",
       "    <tr style=\"text-align: right;\">\n",
       "      <th></th>\n",
       "      <th>PCAinverse</th>\n",
       "      <th>ScalerPCA_inverse</th>\n",
       "    </tr>\n",
       "  </thead>\n",
       "  <tbody>\n",
       "    <tr>\n",
       "      <th>ALTERSKATEGORIE_GROB</th>\n",
       "      <td>-1.0</td>\n",
       "      <td>1.8</td>\n",
       "    </tr>\n",
       "    <tr>\n",
       "      <th>ANREDE_KZ</th>\n",
       "      <td>-0.0</td>\n",
       "      <td>1.5</td>\n",
       "    </tr>\n",
       "    <tr>\n",
       "      <th>FINANZ_MINIMALIST</th>\n",
       "      <td>-1.1</td>\n",
       "      <td>1.5</td>\n",
       "    </tr>\n",
       "    <tr>\n",
       "      <th>FINANZ_SPARER</th>\n",
       "      <td>1.1</td>\n",
       "      <td>4.3</td>\n",
       "    </tr>\n",
       "    <tr>\n",
       "      <th>FINANZ_VORSORGER</th>\n",
       "      <td>-0.9</td>\n",
       "      <td>2.2</td>\n",
       "    </tr>\n",
       "  </tbody>\n",
       "</table>\n",
       "</div>"
      ],
      "text/plain": [
       "                      PCAinverse  ScalerPCA_inverse\n",
       "ALTERSKATEGORIE_GROB        -1.0                1.8\n",
       "ANREDE_KZ                   -0.0                1.5\n",
       "FINANZ_MINIMALIST           -1.1                1.5\n",
       "FINANZ_SPARER                1.1                4.3\n",
       "FINANZ_VORSORGER            -0.9                2.2"
      ]
     },
     "execution_count": 146,
     "metadata": {},
     "output_type": "execute_result"
    }
   ],
   "source": [
    "df_cluster4.head()"
   ]
  },
  {
   "cell_type": "code",
   "execution_count": 147,
   "metadata": {},
   "outputs": [
    {
     "data": {
      "text/html": [
       "<div>\n",
       "<style scoped>\n",
       "    .dataframe tbody tr th:only-of-type {\n",
       "        vertical-align: middle;\n",
       "    }\n",
       "\n",
       "    .dataframe tbody tr th {\n",
       "        vertical-align: top;\n",
       "    }\n",
       "\n",
       "    .dataframe thead th {\n",
       "        text-align: right;\n",
       "    }\n",
       "</style>\n",
       "<table border=\"1\" class=\"dataframe\">\n",
       "  <thead>\n",
       "    <tr style=\"text-align: right;\">\n",
       "      <th></th>\n",
       "      <th>PCAinverse</th>\n",
       "      <th>ScalerPCA_inverse</th>\n",
       "    </tr>\n",
       "  </thead>\n",
       "  <tbody>\n",
       "    <tr>\n",
       "      <th>FINANZ_MINIMALIST</th>\n",
       "      <td>-1.1</td>\n",
       "      <td>1.5</td>\n",
       "    </tr>\n",
       "    <tr>\n",
       "      <th>ALTERSKATEGORIE_GROB</th>\n",
       "      <td>-1.0</td>\n",
       "      <td>1.8</td>\n",
       "    </tr>\n",
       "    <tr>\n",
       "      <th>FINANZ_VORSORGER</th>\n",
       "      <td>-0.9</td>\n",
       "      <td>2.2</td>\n",
       "    </tr>\n",
       "    <tr>\n",
       "      <th>PLZ8_ANTG1</th>\n",
       "      <td>-0.8</td>\n",
       "      <td>1.4</td>\n",
       "    </tr>\n",
       "    <tr>\n",
       "      <th>MOBI_REGIO</th>\n",
       "      <td>-0.8</td>\n",
       "      <td>1.7</td>\n",
       "    </tr>\n",
       "    <tr>\n",
       "      <th>KBA05_GBZ</th>\n",
       "      <td>-0.8</td>\n",
       "      <td>2.2</td>\n",
       "    </tr>\n",
       "    <tr>\n",
       "      <th>KBA05_ANTG1</th>\n",
       "      <td>-0.8</td>\n",
       "      <td>0.4</td>\n",
       "    </tr>\n",
       "    <tr>\n",
       "      <th>SEMIO_ERL</th>\n",
       "      <td>-0.7</td>\n",
       "      <td>3.4</td>\n",
       "    </tr>\n",
       "    <tr>\n",
       "      <th>PLZ8_GBZ</th>\n",
       "      <td>-0.6</td>\n",
       "      <td>2.7</td>\n",
       "    </tr>\n",
       "    <tr>\n",
       "      <th>INNENSTADT</th>\n",
       "      <td>-0.6</td>\n",
       "      <td>3.3</td>\n",
       "    </tr>\n",
       "  </tbody>\n",
       "</table>\n",
       "</div>"
      ],
      "text/plain": [
       "                      PCAinverse  ScalerPCA_inverse\n",
       "FINANZ_MINIMALIST           -1.1                1.5\n",
       "ALTERSKATEGORIE_GROB        -1.0                1.8\n",
       "FINANZ_VORSORGER            -0.9                2.2\n",
       "PLZ8_ANTG1                  -0.8                1.4\n",
       "MOBI_REGIO                  -0.8                1.7\n",
       "KBA05_GBZ                   -0.8                2.2\n",
       "KBA05_ANTG1                 -0.8                0.4\n",
       "SEMIO_ERL                   -0.7                3.4\n",
       "PLZ8_GBZ                    -0.6                2.7\n",
       "INNENSTADT                  -0.6                3.3"
      ]
     },
     "execution_count": 147,
     "metadata": {},
     "output_type": "execute_result"
    }
   ],
   "source": [
    "df_cluster4.sort_values(by= 'PCAinverse').head(10)"
   ]
  },
  {
   "cell_type": "code",
   "execution_count": 148,
   "metadata": {},
   "outputs": [
    {
     "data": {
      "text/html": [
       "<div>\n",
       "<style scoped>\n",
       "    .dataframe tbody tr th:only-of-type {\n",
       "        vertical-align: middle;\n",
       "    }\n",
       "\n",
       "    .dataframe tbody tr th {\n",
       "        vertical-align: top;\n",
       "    }\n",
       "\n",
       "    .dataframe thead th {\n",
       "        text-align: right;\n",
       "    }\n",
       "</style>\n",
       "<table border=\"1\" class=\"dataframe\">\n",
       "  <thead>\n",
       "    <tr style=\"text-align: right;\">\n",
       "      <th></th>\n",
       "      <th>PCAinverse</th>\n",
       "      <th>ScalerPCA_inverse</th>\n",
       "    </tr>\n",
       "  </thead>\n",
       "  <tbody>\n",
       "    <tr>\n",
       "      <th>PLZ8_ANTG3</th>\n",
       "      <td>0.8</td>\n",
       "      <td>2.4</td>\n",
       "    </tr>\n",
       "    <tr>\n",
       "      <th>PLZ8_ANTG4</th>\n",
       "      <td>0.8</td>\n",
       "      <td>1.3</td>\n",
       "    </tr>\n",
       "    <tr>\n",
       "      <th>PLZ8_BAUMAX</th>\n",
       "      <td>0.8</td>\n",
       "      <td>3.1</td>\n",
       "    </tr>\n",
       "    <tr>\n",
       "      <th>HH_EINKOMMEN_SCORE</th>\n",
       "      <td>0.8</td>\n",
       "      <td>5.6</td>\n",
       "    </tr>\n",
       "    <tr>\n",
       "      <th>SEMIO_TRADV</th>\n",
       "      <td>0.8</td>\n",
       "      <td>5.1</td>\n",
       "    </tr>\n",
       "    <tr>\n",
       "      <th>ORTSGR_KLS9</th>\n",
       "      <td>0.8</td>\n",
       "      <td>7.0</td>\n",
       "    </tr>\n",
       "    <tr>\n",
       "      <th>SEMIO_REL</th>\n",
       "      <td>0.9</td>\n",
       "      <td>5.7</td>\n",
       "    </tr>\n",
       "    <tr>\n",
       "      <th>SEMIO_PFLICHT</th>\n",
       "      <td>0.9</td>\n",
       "      <td>5.8</td>\n",
       "    </tr>\n",
       "    <tr>\n",
       "      <th>PRAEGENDE_JUGENDJAHRE_DECADE</th>\n",
       "      <td>0.9</td>\n",
       "      <td>87.0</td>\n",
       "    </tr>\n",
       "    <tr>\n",
       "      <th>FINANZ_SPARER</th>\n",
       "      <td>1.1</td>\n",
       "      <td>4.3</td>\n",
       "    </tr>\n",
       "  </tbody>\n",
       "</table>\n",
       "</div>"
      ],
      "text/plain": [
       "                              PCAinverse  ScalerPCA_inverse\n",
       "PLZ8_ANTG3                           0.8                2.4\n",
       "PLZ8_ANTG4                           0.8                1.3\n",
       "PLZ8_BAUMAX                          0.8                3.1\n",
       "HH_EINKOMMEN_SCORE                   0.8                5.6\n",
       "SEMIO_TRADV                          0.8                5.1\n",
       "ORTSGR_KLS9                          0.8                7.0\n",
       "SEMIO_REL                            0.9                5.7\n",
       "SEMIO_PFLICHT                        0.9                5.8\n",
       "PRAEGENDE_JUGENDJAHRE_DECADE         0.9               87.0\n",
       "FINANZ_SPARER                        1.1                4.3"
      ]
     },
     "execution_count": 148,
     "metadata": {},
     "output_type": "execute_result"
    }
   ],
   "source": [
    "df_cluster4.sort_values(by= 'PCAinverse').tail(10)"
   ]
  },
  {
   "cell_type": "code",
   "execution_count": 149,
   "metadata": {},
   "outputs": [],
   "source": [
    "# What kinds of people are part of a cluster that is underrepresented in the\n",
    "# customer data compared to the general population?"
   ]
  },
  {
   "cell_type": "markdown",
   "metadata": {},
   "source": [
    "Customers are most underrepresented in cluster 0. "
   ]
  },
  {
   "cell_type": "code",
   "execution_count": 150,
   "metadata": {},
   "outputs": [
    {
     "data": {
      "text/plain": [
       "array([ 2.6,  3.1,  0.6, -0.2,  0.2,  0.3, -0. , -0. ,  0.1, -0. , -0.1])"
      ]
     },
     "execution_count": 150,
     "metadata": {},
     "output_type": "execute_result"
    }
   ],
   "source": [
    "(kmeans5.cluster_centers_[0]).round(1)"
   ]
  },
  {
   "cell_type": "code",
   "execution_count": 151,
   "metadata": {},
   "outputs": [],
   "source": [
    "# Invert the pca\n",
    "cluster0_pcainv = pca11_az.inverse_transform(kmeans5.cluster_centers_[0]).round(1)\n",
    "# Also invert scaling\n",
    "cluster0_scalpcainv = scaler.inverse_transform(pca11_az.inverse_transform(kmeans5.cluster_centers_[0])).round(1)\n",
    "# Create df\n",
    "df_cluster0 = pd.DataFrame(\n",
    "    data= np.concatenate((cluster0_pcainv.reshape(68, 1), cluster0_scalpcainv.reshape(68, 1)), axis= 1)\n",
    "    , index = azdias_clean.columns, columns= ['PCAinverse', 'ScalerPCA_inverse'])"
   ]
  },
  {
   "cell_type": "code",
   "execution_count": 152,
   "metadata": {},
   "outputs": [
    {
     "data": {
      "text/html": [
       "<div>\n",
       "<style scoped>\n",
       "    .dataframe tbody tr th:only-of-type {\n",
       "        vertical-align: middle;\n",
       "    }\n",
       "\n",
       "    .dataframe tbody tr th {\n",
       "        vertical-align: top;\n",
       "    }\n",
       "\n",
       "    .dataframe thead th {\n",
       "        text-align: right;\n",
       "    }\n",
       "</style>\n",
       "<table border=\"1\" class=\"dataframe\">\n",
       "  <thead>\n",
       "    <tr style=\"text-align: right;\">\n",
       "      <th></th>\n",
       "      <th>PCAinverse</th>\n",
       "      <th>ScalerPCA_inverse</th>\n",
       "    </tr>\n",
       "  </thead>\n",
       "  <tbody>\n",
       "    <tr>\n",
       "      <th>MOBI_REGIO</th>\n",
       "      <td>-0.8</td>\n",
       "      <td>1.7</td>\n",
       "    </tr>\n",
       "    <tr>\n",
       "      <th>KBA05_ANTG1</th>\n",
       "      <td>-0.8</td>\n",
       "      <td>0.3</td>\n",
       "    </tr>\n",
       "    <tr>\n",
       "      <th>PLZ8_ANTG1</th>\n",
       "      <td>-0.8</td>\n",
       "      <td>1.5</td>\n",
       "    </tr>\n",
       "    <tr>\n",
       "      <th>KBA05_GBZ</th>\n",
       "      <td>-0.8</td>\n",
       "      <td>2.1</td>\n",
       "    </tr>\n",
       "    <tr>\n",
       "      <th>PRAEGENDE_JUGENDJAHRE_DECADE</th>\n",
       "      <td>-0.7</td>\n",
       "      <td>64.3</td>\n",
       "    </tr>\n",
       "    <tr>\n",
       "      <th>FINANZ_UNAUFFAELLIGER</th>\n",
       "      <td>-0.7</td>\n",
       "      <td>1.7</td>\n",
       "    </tr>\n",
       "    <tr>\n",
       "      <th>ONLINE_AFFINITAET</th>\n",
       "      <td>-0.7</td>\n",
       "      <td>1.7</td>\n",
       "    </tr>\n",
       "    <tr>\n",
       "      <th>SEMIO_REL</th>\n",
       "      <td>-0.6</td>\n",
       "      <td>2.9</td>\n",
       "    </tr>\n",
       "    <tr>\n",
       "      <th>SEMIO_TRADV</th>\n",
       "      <td>-0.6</td>\n",
       "      <td>2.6</td>\n",
       "    </tr>\n",
       "    <tr>\n",
       "      <th>FINANZ_SPARER</th>\n",
       "      <td>-0.6</td>\n",
       "      <td>1.9</td>\n",
       "    </tr>\n",
       "  </tbody>\n",
       "</table>\n",
       "</div>"
      ],
      "text/plain": [
       "                              PCAinverse  ScalerPCA_inverse\n",
       "MOBI_REGIO                          -0.8                1.7\n",
       "KBA05_ANTG1                         -0.8                0.3\n",
       "PLZ8_ANTG1                          -0.8                1.5\n",
       "KBA05_GBZ                           -0.8                2.1\n",
       "PRAEGENDE_JUGENDJAHRE_DECADE        -0.7               64.3\n",
       "FINANZ_UNAUFFAELLIGER               -0.7                1.7\n",
       "ONLINE_AFFINITAET                   -0.7                1.7\n",
       "SEMIO_REL                           -0.6                2.9\n",
       "SEMIO_TRADV                         -0.6                2.6\n",
       "FINANZ_SPARER                       -0.6                1.9"
      ]
     },
     "execution_count": 152,
     "metadata": {},
     "output_type": "execute_result"
    }
   ],
   "source": [
    "df_cluster0.sort_values(by= 'PCAinverse').head(10)"
   ]
  },
  {
   "cell_type": "code",
   "execution_count": 153,
   "metadata": {},
   "outputs": [
    {
     "data": {
      "text/html": [
       "<div>\n",
       "<style scoped>\n",
       "    .dataframe tbody tr th:only-of-type {\n",
       "        vertical-align: middle;\n",
       "    }\n",
       "\n",
       "    .dataframe tbody tr th {\n",
       "        vertical-align: top;\n",
       "    }\n",
       "\n",
       "    .dataframe thead th {\n",
       "        text-align: right;\n",
       "    }\n",
       "</style>\n",
       "<table border=\"1\" class=\"dataframe\">\n",
       "  <thead>\n",
       "    <tr style=\"text-align: right;\">\n",
       "      <th></th>\n",
       "      <th>PCAinverse</th>\n",
       "      <th>ScalerPCA_inverse</th>\n",
       "    </tr>\n",
       "  </thead>\n",
       "  <tbody>\n",
       "    <tr>\n",
       "      <th>RETOURTYP_BK_S</th>\n",
       "      <td>0.6</td>\n",
       "      <td>4.3</td>\n",
       "    </tr>\n",
       "    <tr>\n",
       "      <th>FINANZ_HAUSBAUER</th>\n",
       "      <td>0.7</td>\n",
       "      <td>4.1</td>\n",
       "    </tr>\n",
       "    <tr>\n",
       "      <th>HH_EINKOMMEN_SCORE</th>\n",
       "      <td>0.7</td>\n",
       "      <td>5.4</td>\n",
       "    </tr>\n",
       "    <tr>\n",
       "      <th>EWDICHTE</th>\n",
       "      <td>0.7</td>\n",
       "      <td>5.1</td>\n",
       "    </tr>\n",
       "    <tr>\n",
       "      <th>CAMEO_INTL_2015_WEALTH</th>\n",
       "      <td>0.7</td>\n",
       "      <td>4.4</td>\n",
       "    </tr>\n",
       "    <tr>\n",
       "      <th>ORTSGR_KLS9</th>\n",
       "      <td>0.7</td>\n",
       "      <td>6.9</td>\n",
       "    </tr>\n",
       "    <tr>\n",
       "      <th>ALTERSKATEGORIE_GROB</th>\n",
       "      <td>0.7</td>\n",
       "      <td>3.5</td>\n",
       "    </tr>\n",
       "    <tr>\n",
       "      <th>PLZ8_BAUMAX</th>\n",
       "      <td>0.8</td>\n",
       "      <td>3.0</td>\n",
       "    </tr>\n",
       "    <tr>\n",
       "      <th>PLZ8_ANTG4</th>\n",
       "      <td>0.8</td>\n",
       "      <td>1.3</td>\n",
       "    </tr>\n",
       "    <tr>\n",
       "      <th>PLZ8_ANTG3</th>\n",
       "      <td>0.8</td>\n",
       "      <td>2.4</td>\n",
       "    </tr>\n",
       "  </tbody>\n",
       "</table>\n",
       "</div>"
      ],
      "text/plain": [
       "                        PCAinverse  ScalerPCA_inverse\n",
       "RETOURTYP_BK_S                 0.6                4.3\n",
       "FINANZ_HAUSBAUER               0.7                4.1\n",
       "HH_EINKOMMEN_SCORE             0.7                5.4\n",
       "EWDICHTE                       0.7                5.1\n",
       "CAMEO_INTL_2015_WEALTH         0.7                4.4\n",
       "ORTSGR_KLS9                    0.7                6.9\n",
       "ALTERSKATEGORIE_GROB           0.7                3.5\n",
       "PLZ8_BAUMAX                    0.8                3.0\n",
       "PLZ8_ANTG4                     0.8                1.3\n",
       "PLZ8_ANTG3                     0.8                2.4"
      ]
     },
     "execution_count": 153,
     "metadata": {},
     "output_type": "execute_result"
    }
   ],
   "source": [
    "df_cluster0.sort_values(by= 'PCAinverse').tail(10)"
   ]
  },
  {
   "cell_type": "markdown",
   "metadata": {},
   "source": [
    "### Discussion 3.3: Compare Customer Data to Demographics Data\n",
    "\n",
    "(Double-click this cell and replace this text with your own text, reporting findings and conclusions from the clustering analysis. Can we describe segments of the population that are relatively popular with the mail-order company, or relatively unpopular with the company?)\n",
    "- Cluster 4 and the additional cluster with the entries with high missing values is overrepresented in the customer data. I took cluster 4 to investigate what type of people they are.\n",
    "- The center of cluster 4 plots at large negative first principal component (PC) and large positive third PC. And it is close to zero for the other PC's. \n",
    "- Cluster 4, i.e. overrepresented in the customer data, included people that have a highly cultural, family, religious, socially, materialistic, dutiful, traditional or dreamful minded minded. They have a low affinity with event-orientated, cirital-minded, combative attitude or dominant-minded personalities. They consist more of 1-2 family homes and less of 10+ family homes.\n",
    "- Customers are most underrepresented in cluster 0. \n",
    "- The center of cluster 0 plots at large positive first PC and large negative second PC. The other PC's are close to zero.\n",
    "- Cluster 0, i.e. underrepresented in the customer data, are on average from the 60s to 70s. They consist more of 6-10 family homes and less of 1-2 family homes. Their movement pattern is high."
   ]
  },
  {
   "cell_type": "markdown",
   "metadata": {},
   "source": [
    "> Congratulations on making it this far in the project! Before you finish, make sure to check through the entire notebook from top to bottom to make sure that your analysis follows a logical flow and all of your findings are documented in **Discussion** cells. Once you've checked over all of your work, you should export the notebook as an HTML document to submit for evaluation. You can do this from the menu, navigating to **File -> Download as -> HTML (.html)**. You will submit both that document and this notebook for your project submission."
   ]
  },
  {
   "cell_type": "code",
   "execution_count": null,
   "metadata": {},
   "outputs": [],
   "source": []
  }
 ],
 "metadata": {
  "kernelspec": {
   "display_name": "Python 3",
   "language": "python",
   "name": "python3"
  },
  "language_info": {
   "codemirror_mode": {
    "name": "ipython",
    "version": 3
   },
   "file_extension": ".py",
   "mimetype": "text/x-python",
   "name": "python",
   "nbconvert_exporter": "python",
   "pygments_lexer": "ipython3",
   "version": "3.6.3"
  }
 },
 "nbformat": 4,
 "nbformat_minor": 2
}
